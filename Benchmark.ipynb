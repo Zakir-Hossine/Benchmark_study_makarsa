{
 "cells": [
  {
   "cell_type": "code",
   "execution_count": 1,
   "id": "c6c1b151",
   "metadata": {},
   "outputs": [],
   "source": [
    "library(GUniFrac)"
   ]
  },
  {
   "cell_type": "markdown",
   "id": "8c9088c5",
   "metadata": {},
   "source": [
    "### Simulation"
   ]
  },
  {
   "cell_type": "code",
   "execution_count": 2,
   "id": "d258264b",
   "metadata": {},
   "outputs": [],
   "source": [
    "#ecam dataframe\n",
    "#file_paths <- c(\"~/from_pendrive/PhD/DAA_benchmark_study/Benchmark_study_makarsa/data/ecam_tutorial/ecam_otu.tsv\")\n",
    "#pd dataframe\n",
    "#file_paths <- c(\"~/from_pendrive/PhD/DAA_benchmark_study/Benchmark_study_makarsa/data/PD/pd_otu.tsv\")\n",
    "#american_gut dataframe\n",
    "#file_paths <- c(\"~/from_pendrive/PhD/DAA_benchmark_study/Benchmark_study_makarsa/data/american_gut/american_gut_otu.tsv\")\n",
    "#IDB dataframe\n",
    "file_paths <- c(\"~/from_pendrive/PhD/DAA_benchmark_study/Benchmark_study_makarsa/data/IBD/ibd_otu.tsv\")\n",
    "#Study_12021\n",
    "#file_paths <- c(\"~/from_pendrive/PhD/DAA_benchmark_study/Benchmark_study_makarsa/data/SIFM/sifm_otu.tsv\")\n",
    "\n",
    "\n",
    "#file_paths <- c(\"~/from_pendrive/PhD/DAA_benchmark_study/qiime_ancombc/data/ecam_10245/ecam_otu_table.tsv\",\n",
    "#                \"~/from_pendrive/PhD/DAA_benchmark_study/qiime_ancombc/data/PD_10483/pd_10483_otu_table.tsv\",\n",
    "#               \"~/from_pendrive/PhD/DAA_benchmark_study/qiime_ancombc/data/american_gut_10317/american_gut_otu_table.tsv\",\n",
    " #              \"~/from_pendrive/PhD/DAA_benchmark_study/qiime_ancombc/data/IBD_1629/1629_otu_table.tsv\",\n",
    " #               \"~/from_pendrive/PhD/DAA_benchmark_study/qiime_ancombc/data/study_12021/12021_otu_table.tsv\")\n",
    "list_of_dfs <- lapply(file_paths, function(file) read.table(file, sep = '\\t', header=TRUE, row.names=1))"
   ]
  },
  {
   "cell_type": "code",
   "execution_count": 3,
   "id": "b2258e9a",
   "metadata": {},
   "outputs": [],
   "source": [
    "list_of_dfs <- lapply(file_paths, function(file) read.table(file, sep = '\\t', header=TRUE, row.names=1))\n"
   ]
  },
  {
   "cell_type": "code",
   "execution_count": 1,
   "id": "906d9b4e",
   "metadata": {},
   "outputs": [],
   "source": [
    "#list_of_dfs"
   ]
  },
  {
   "cell_type": "code",
   "execution_count": 11,
   "id": "10bb825a",
   "metadata": {},
   "outputs": [],
   "source": [
    "names(list_of_dfs) <- c(\"ecam\", \"pd\",\"american_gut\",\"IDB\",\"study_12021\")\n"
   ]
  },
  {
   "cell_type": "code",
   "execution_count": 5,
   "id": "4bce9351",
   "metadata": {},
   "outputs": [],
   "source": [
    "#sample_size=list(length(rownames(list_of_dfs$ecam)),length(rownames(list_of_dfs$pd)))\n",
    "#sample_size=list(1000,2000,3000,4050,5100,6150,7200,8000,9000,10000) # for pd dataframe\n",
    "#sample_size=list(1000,2000,3000,4000,5000,6000,7000,8000,9000,10000,11000,12000,13000) # for ecam dataframe\n",
    "sample_size=list(4000,5000,6000,6500,7000,7500,8000,8500,9000) # for IDB dataframe\n",
    "#sample_size=list(1000,1100,1200,1400,1600,1700,1800,1900,2500) # for study_12021\n",
    "#sample_size=list(1200,2500,3000,4500,5500,6500,7500,8400,9500,11000,12000,13000,14000,15000,16000,17000) # for for american_gut dataframe"
   ]
  },
  {
   "cell_type": "code",
   "execution_count": 5,
   "id": "4c07bf4e",
   "metadata": {},
   "outputs": [
    {
     "data": {
      "text/html": [
       "2000"
      ],
      "text/latex": [
       "2000"
      ],
      "text/markdown": [
       "2000"
      ],
      "text/plain": [
       "[1] 2000"
      ]
     },
     "metadata": {},
     "output_type": "display_data"
    }
   ],
   "source": [
    "sample_size[[2]]"
   ]
  },
  {
   "cell_type": "code",
   "execution_count": 79,
   "id": "2aa61888",
   "metadata": {},
   "outputs": [],
   "source": [
    "nsample=list(length(list_of_dfs$ecam),length(list_of_dfs$pd))"
   ]
  },
  {
   "cell_type": "code",
   "execution_count": 7,
   "id": "4dfb7be1",
   "metadata": {},
   "outputs": [
    {
     "data": {
      "text/html": [
       "410"
      ],
      "text/latex": [
       "410"
      ],
      "text/markdown": [
       "410"
      ],
      "text/plain": [
       "[1] 410"
      ]
     },
     "metadata": {},
     "output_type": "display_data"
    }
   ],
   "source": [
    "nsample[[2]]"
   ]
  },
  {
   "cell_type": "code",
   "execution_count": null,
   "id": "5e9c0a95",
   "metadata": {},
   "outputs": [
    {
     "name": "stderr",
     "output_type": "stream",
     "text": [
      "Iteration 1: Log-likelihood value: -440439138.484338\n",
      "\n",
      "Iteration 2: Log-likelihood value: -440378659.346065\n",
      "\n",
      "Iteration 3: Log-likelihood value: -440322458.056214\n",
      "\n",
      "Iteration 4: Log-likelihood value: -440273955.055712\n",
      "\n",
      "Iteration 5: Log-likelihood value: -440233651.996686\n",
      "\n",
      "Iteration 6: Log-likelihood value: -440201316.098619\n",
      "\n",
      "Iteration 7: Log-likelihood value: -440176167.956054\n",
      "\n",
      "Iteration 8: Log-likelihood value: -440157215.674671\n",
      "\n",
      "Iteration 9: Log-likelihood value: -440143511.129051\n",
      "\n",
      "Iteration 10: Log-likelihood value: -440134110.503762\n",
      "\n",
      "Iteration 11: Log-likelihood value: -440128120.682499\n",
      "\n",
      "Iteration 12: Log-likelihood value: -440124825.641028\n",
      "\n",
      "Iteration 13: Log-likelihood value: -440123460.192069\n",
      "\n",
      "Iteration 14: Log-likelihood value: -440123111.543757\n",
      "\n",
      "Iteration 15: Log-likelihood value: -440123071.500689\n",
      "\n",
      "Iteration 16: Log-likelihood value: -440123070.070577\n",
      "\n",
      "Iteration 17: Log-likelihood value: -440123070.0398\n",
      "\n",
      "Iteration 18: Log-likelihood value: -440123070.039181\n",
      "\n",
      "Iteration 19: Log-likelihood value: -440123070.039124\n",
      "\n",
      "Iteration 1: Log-likelihood value: -440439138.484338\n",
      "\n",
      "Iteration 2: Log-likelihood value: -440378659.346065\n",
      "\n",
      "Iteration 3: Log-likelihood value: -440322458.056214\n",
      "\n",
      "Iteration 4: Log-likelihood value: -440273955.055712\n",
      "\n",
      "Iteration 5: Log-likelihood value: -440233651.996686\n",
      "\n",
      "Iteration 6: Log-likelihood value: -440201316.098619\n",
      "\n",
      "Iteration 7: Log-likelihood value: -440176167.956054\n",
      "\n",
      "Iteration 8: Log-likelihood value: -440157215.674671\n",
      "\n",
      "Iteration 9: Log-likelihood value: -440143511.129051\n",
      "\n",
      "Iteration 10: Log-likelihood value: -440134110.503762\n",
      "\n",
      "Iteration 11: Log-likelihood value: -440128120.682499\n",
      "\n",
      "Iteration 12: Log-likelihood value: -440124825.641028\n",
      "\n",
      "Iteration 13: Log-likelihood value: -440123460.192069\n",
      "\n",
      "Iteration 14: Log-likelihood value: -440123111.543757\n",
      "\n",
      "Iteration 15: Log-likelihood value: -440123071.500689\n",
      "\n",
      "Iteration 16: Log-likelihood value: -440123070.070577\n",
      "\n",
      "Iteration 17: Log-likelihood value: -440123070.0398\n",
      "\n",
      "Iteration 18: Log-likelihood value: -440123070.039181\n",
      "\n",
      "Iteration 19: Log-likelihood value: -440123070.039124\n",
      "\n",
      "Iteration 1: Log-likelihood value: -440439138.484338\n",
      "\n",
      "Iteration 2: Log-likelihood value: -440378659.346065\n",
      "\n",
      "Iteration 3: Log-likelihood value: -440322458.056214\n",
      "\n",
      "Iteration 4: Log-likelihood value: -440273955.055712\n",
      "\n",
      "Iteration 5: Log-likelihood value: -440233651.996686\n",
      "\n",
      "Iteration 6: Log-likelihood value: -440201316.098619\n",
      "\n",
      "Iteration 7: Log-likelihood value: -440176167.956054\n",
      "\n",
      "Iteration 8: Log-likelihood value: -440157215.674671\n",
      "\n",
      "Iteration 9: Log-likelihood value: -440143511.129051\n",
      "\n",
      "Iteration 10: Log-likelihood value: -440134110.503762\n",
      "\n",
      "Iteration 11: Log-likelihood value: -440128120.682499\n",
      "\n",
      "Iteration 12: Log-likelihood value: -440124825.641028\n",
      "\n",
      "Iteration 13: Log-likelihood value: -440123460.192069\n",
      "\n",
      "Iteration 14: Log-likelihood value: -440123111.543757\n",
      "\n",
      "Iteration 15: Log-likelihood value: -440123071.500689\n",
      "\n",
      "Iteration 16: Log-likelihood value: -440123070.070577\n",
      "\n",
      "Iteration 17: Log-likelihood value: -440123070.0398\n",
      "\n",
      "Iteration 18: Log-likelihood value: -440123070.039181\n",
      "\n",
      "Iteration 19: Log-likelihood value: -440123070.039124\n",
      "\n",
      "Iteration 1: Log-likelihood value: -440439138.484338\n",
      "\n",
      "Iteration 2: Log-likelihood value: -440378659.346065\n",
      "\n",
      "Iteration 3: Log-likelihood value: -440322458.056214\n",
      "\n",
      "Iteration 4: Log-likelihood value: -440273955.055712\n",
      "\n",
      "Iteration 5: Log-likelihood value: -440233651.996686\n",
      "\n",
      "Iteration 6: Log-likelihood value: -440201316.098619\n",
      "\n",
      "Iteration 7: Log-likelihood value: -440176167.956054\n",
      "\n",
      "Iteration 8: Log-likelihood value: -440157215.674671\n",
      "\n",
      "Iteration 9: Log-likelihood value: -440143511.129051\n",
      "\n",
      "Iteration 10: Log-likelihood value: -440134110.503762\n",
      "\n",
      "Iteration 11: Log-likelihood value: -440128120.682499\n",
      "\n",
      "Iteration 12: Log-likelihood value: -440124825.641028\n",
      "\n",
      "Iteration 13: Log-likelihood value: -440123460.192069\n",
      "\n",
      "Iteration 14: Log-likelihood value: -440123111.543757\n",
      "\n",
      "Iteration 15: Log-likelihood value: -440123071.500689\n",
      "\n",
      "Iteration 16: Log-likelihood value: -440123070.070577\n",
      "\n",
      "Iteration 17: Log-likelihood value: -440123070.0398\n",
      "\n",
      "Iteration 18: Log-likelihood value: -440123070.039181\n",
      "\n",
      "Iteration 19: Log-likelihood value: -440123070.039124\n",
      "\n",
      "Iteration 1: Log-likelihood value: -440439138.484338\n",
      "\n",
      "Iteration 2: Log-likelihood value: -440378659.346065\n",
      "\n",
      "Iteration 3: Log-likelihood value: -440322458.056214\n",
      "\n",
      "Iteration 4: Log-likelihood value: -440273955.055712\n",
      "\n",
      "Iteration 5: Log-likelihood value: -440233651.996686\n",
      "\n",
      "Iteration 6: Log-likelihood value: -440201316.098619\n",
      "\n",
      "Iteration 7: Log-likelihood value: -440176167.956054\n",
      "\n",
      "Iteration 8: Log-likelihood value: -440157215.674671\n",
      "\n",
      "Iteration 9: Log-likelihood value: -440143511.129051\n",
      "\n",
      "Iteration 10: Log-likelihood value: -440134110.503762\n",
      "\n",
      "Iteration 11: Log-likelihood value: -440128120.682499\n",
      "\n",
      "Iteration 12: Log-likelihood value: -440124825.641028\n",
      "\n",
      "Iteration 13: Log-likelihood value: -440123460.192069\n",
      "\n",
      "Iteration 14: Log-likelihood value: -440123111.543757\n",
      "\n",
      "Iteration 15: Log-likelihood value: -440123071.500689\n",
      "\n",
      "Iteration 16: Log-likelihood value: -440123070.070577\n",
      "\n",
      "Iteration 17: Log-likelihood value: -440123070.0398\n",
      "\n",
      "Iteration 18: Log-likelihood value: -440123070.039181\n",
      "\n",
      "Iteration 19: Log-likelihood value: -440123070.039124\n",
      "\n",
      "Iteration 1: Log-likelihood value: -440439138.484338\n",
      "\n",
      "Iteration 2: Log-likelihood value: -440378659.346065\n",
      "\n",
      "Iteration 3: Log-likelihood value: -440322458.056214\n",
      "\n",
      "Iteration 4: Log-likelihood value: -440273955.055712\n",
      "\n",
      "Iteration 5: Log-likelihood value: -440233651.996686\n",
      "\n",
      "Iteration 6: Log-likelihood value: -440201316.098619\n",
      "\n",
      "Iteration 7: Log-likelihood value: -440176167.956054\n",
      "\n",
      "Iteration 8: Log-likelihood value: -440157215.674671\n",
      "\n",
      "Iteration 9: Log-likelihood value: -440143511.129051\n",
      "\n",
      "Iteration 10: Log-likelihood value: -440134110.503762\n",
      "\n",
      "Iteration 11: Log-likelihood value: -440128120.682499\n",
      "\n",
      "Iteration 12: Log-likelihood value: -440124825.641028\n",
      "\n",
      "Iteration 13: Log-likelihood value: -440123460.192069\n",
      "\n",
      "Iteration 14: Log-likelihood value: -440123111.543757\n",
      "\n"
     ]
    }
   ],
   "source": [
    "num_dfs <- length(list_of_dfs)\n",
    "num_sizes <- length(sample_size)\n",
    "simulation <- vector(\"list\", num_dfs)\n",
    "\n",
    "for(i in 1:length(list_of_dfs)) {\n",
    "    simulation[[i]] <- vector(\"list\", num_sizes)\n",
    "    for(j in 1:length(sample_size)){\n",
    "    simulation[[i]][[j]] <- SimulateMSeq(\n",
    "ref.otu.tab = list_of_dfs[[i]], nSam = 600, nOTU = sample_size[[j]],\n",
    "# True signal setting\n",
    "diff.otu.pct = 0.1, diff.otu.direct = c(\"unbalanced\"), \n",
    "diff.otu.mode = c(\"abundant\"),\n",
    "covariate.type = c(\"binary\"), grp.ratio = 1,\n",
    "covariate.eff.mean = 1.0, covariate.eff.sd = 0,\n",
    "# Confounder signal setting\n",
    "confounder.type = c(\"both\"), conf.cov.cor = 0.6,\n",
    "conf.diff.otu.pct = 0.1, conf.nondiff.otu.pct = 0.1,\n",
    "confounder.eff.mean = 1.0, confounder.eff.sd = 0,\n",
    "# Depth setting\n",
    "depth.mu = 10000, depth.theta = 5, depth.conf.factor = 0\n",
    ")\n",
    " }   \n",
    "}\n"
   ]
  },
  {
   "cell_type": "code",
   "execution_count": 54,
   "id": "2ff80d6f",
   "metadata": {},
   "outputs": [],
   "source": [
    "sim_american_gut=simulation\n"
   ]
  },
  {
   "cell_type": "code",
   "execution_count": 2,
   "id": "ecc89399",
   "metadata": {},
   "outputs": [],
   "source": [
    "#simulation"
   ]
  },
  {
   "cell_type": "code",
   "execution_count": null,
   "id": "bcc8dbd5",
   "metadata": {},
   "outputs": [],
   "source": [
    "\n",
    "saveRDS(simulation, file = \"~/from_pendrive/PhD/DAA_benchmark_study/Benchmark_study_makarsa/data/simulated_data/ibd_otu.rds\")\n"
   ]
  },
  {
   "cell_type": "code",
   "execution_count": 2,
   "id": "c7450c79",
   "metadata": {},
   "outputs": [],
   "source": [
    "loaded_list <- readRDS(\"~/from_pendrive/PhD/DAA_benchmark_study/Benchmark_study_makarsa/data/simulated_data/american_gut_otu.rds\")\n"
   ]
  },
  {
   "cell_type": "code",
   "execution_count": null,
   "id": "973278b8",
   "metadata": {},
   "outputs": [],
   "source": [
    "loaded_list"
   ]
  },
  {
   "cell_type": "code",
   "execution_count": null,
   "id": "fda7e804",
   "metadata": {},
   "outputs": [],
   "source": [
    "\n",
    "\n"
   ]
  },
  {
   "cell_type": "code",
   "execution_count": 41,
   "id": "af1ba440",
   "metadata": {},
   "outputs": [],
   "source": []
  },
  {
   "cell_type": "code",
   "execution_count": 29,
   "id": "8547f17b",
   "metadata": {},
   "outputs": [],
   "source": [
    "\n"
   ]
  },
  {
   "cell_type": "code",
   "execution_count": 42,
   "id": "035e8235",
   "metadata": {},
   "outputs": [],
   "source": [
    "\n"
   ]
  },
  {
   "cell_type": "code",
   "execution_count": null,
   "id": "1dfd5868",
   "metadata": {},
   "outputs": [],
   "source": []
  },
  {
   "cell_type": "markdown",
   "id": "59478a91",
   "metadata": {},
   "source": [
    "### Method run"
   ]
  },
  {
   "cell_type": "code",
   "execution_count": 8,
   "id": "bff816fc",
   "metadata": {},
   "outputs": [],
   "source": [
    "library(ANCOMBC)"
   ]
  },
  {
   "cell_type": "code",
   "execution_count": 9,
   "id": "e346ca1b",
   "metadata": {},
   "outputs": [],
   "source": [
    "run_method<- function(raw_data, DA_method){\n",
    "\n",
    "  if(DA_method==\"ANCOM-BC\"){\n",
    "    out<- run_ancombc(raw_data = raw_data)\n",
    "  } else if(DA_method==\"FlashWeave\"){\n",
    "    out<- run_flashweave(raw_data = raw_data)\n",
    "  \n",
    "  } else if(DA_method==\"ANCOM-BC2\"){\n",
    "     out<- run_ancombc2(raw_data = raw_data) \n",
    "  }\n",
    "\n",
    "  return(out)\n",
    "}\n",
    "\n",
    "\n",
    "run_flashweave<- function(raw_data){\n",
    "\n",
    "    setwd(\"/home/zakir/from_pendrive/PhD/DAA_benchmark_study/qiime2_benchmark\")\n",
    "    # data file paths\n",
    "    original_data<-\"~/from_pendrive/PhD/DAA_benchmark_study/qiime_ancombc/data/PD_10483/otu_pd_qiime.tsv\"\n",
    "    simulated_data<-\"/home/zakir/from_pendrive/PhD/DAA_benchmark_study/qiime2_benchmark/otu_table1.txt\"\n",
    "    biom_file <- '/home/zakir/from_pendrive/PhD/DAA_benchmark_study/qiime2_benchmark/otu_table1.biom'\n",
    "    output_qza <- '/home/zakir/from_pendrive/PhD/DAA_benchmark_study/qiime2_benchmark/otu_table1.qza'\n",
    "    metadata<-\"/home/zakir/from_pendrive/PhD/DAA_benchmark_study/qiime2_benchmark/meta_table1.tsv\"\n",
    "    output_flash <- '/home/zakir/from_pendrive/PhD/DAA_benchmark_study/qiime2_benchmark/flashnet1.qza'\n",
    "    neighbour='/home/zakir/from_pendrive/PhD/DAA_benchmark_study/qiime2_benchmark/neighbours1.qza'\n",
    "    exported <- '/home/zakir/from_pendrive/PhD/DAA_benchmark_study/qiime2_benchmark/exported_neighbours'\n",
    "    ppd_otu_filtered_qza=\"~/from_pendrive/PhD/DAA_benchmark_study/qiime2_benchmark/otu_pd_qiime_filtered.qza\"\n",
    "    \n",
    "    meta.dat <- data.frame(X = raw_data$covariate, Z1 = raw_data$confounder[, 1],\n",
    "                       Z2 = raw_data$confounder[, 2])\n",
    "    otu.tab.sim <- raw_data$otu.tab.sim\n",
    "    actual=ifelse(raw_data$diff.otu.ind, \"DA\", \"NOT_DA\")\n",
    "    tr=data.frame(\"truth\" = actual, row.names = rownames(otu.tab.sim), stringsAsFactors = F)\n",
    "     meta.dat$X=ifelse(meta.dat$X, \"healthy\",\"unhealthy\")\n",
    "    #otu data processing for qiime2 input\n",
    "    otu <- cbind(rownames(otu.tab.sim), otu.tab.sim[,2:length(colnames(otu.tab.sim))])\n",
    "    colnames(otu)[1] <- \"featureid\"\n",
    "    rownames(otu) <- NULL\n",
    "\n",
    "    write.table(otu, simulated_data, sep = \"\\t\", col.names=TRUE, row.names=FALSE, quote = FALSE)\n",
    "    #metadata processing for qiime2 input\n",
    "    colnames(meta.dat)=c(\"covariate\", \"cofounder1\",\"cofounder2\")\n",
    "\n",
    "    metad  <- cbind(rownames(meta.dat),meta.dat)\n",
    "    colnames(metad)[1] <- \"sampleid\"\n",
    "    rownames(metad) <- NULL\n",
    "    write.table(metad, metadata, sep = \"\\t\", col.names=TRUE, row.names=FALSE, quote = FALSE)\n",
    "\n",
    "   # convert data into biom format\n",
    "    system(paste(\"biom convert\",\n",
    "                 \"-i\",simulated_data ,\n",
    "                 \"-o\", biom_file ,\n",
    "                 \"--table-type=\\\"OTU table\\\"\",\n",
    "                 \"--to-hdf5\"), intern=TRUE)\n",
    "\n",
    "    #import data into qiime \n",
    "    system(paste(\"qiime tools import\",\n",
    "             \"--input-path\", biom_file,\n",
    "             \"--type 'FeatureTable[Frequency]'\",\n",
    "             \"--input-format BIOMV210Format\",\n",
    "             \"--output-path\", output_qza), intern=TRUE)\n",
    "    \n",
    "    # filtering data\n",
    "    system(paste(\"qiime feature-table filter-features\",\n",
    "             \"--i-table\", output_qza,\n",
    "             \"--p-min-frequency\",50,\n",
    "             \"--p-min-samples\",4,\n",
    "             \"--o-filtered-table\", ppd_otu_filtered_qza), intern=TRUE)\n",
    "  \n",
    "    # Run FlashWeave with sampled parameters\n",
    "    system(paste(\"qiime makarsa flashweave\",\n",
    "             \"--i-table\", ppd_otu_filtered_qza,\n",
    "             \"--m-metadata-file\",metadata,\n",
    "             \"--p-heterogeneous\", TRUE,         #need to replace parameters with their best \n",
    "             \"--p-sensitive\", TRUE,             #value found in hyperparameter tuning.\n",
    "             \"--p-max-k\", 0,\n",
    "             \"--p-alpha\", 0.04 ,\n",
    "             \"--o-network\", output_flash), intern=TRUE)                              \n",
    "  \n",
    " \n",
    " \n",
    "    system(paste(\"qiime makarsa list-neighbours\",\n",
    "                \"--i-network\",output_flash,\n",
    "                \"--p-feature-id\", \"covariate\",\n",
    "                 \"--p-radius\",2,\n",
    "                \"--o-neighbours\",neighbour), intern=TRUE)                 \n",
    "\n",
    "   # Export the results from QIIME2\n",
    "   system(paste(\"qiime tools export\", \n",
    "              \"--input-path\",neighbour,\n",
    "             \"--output-path\",exported), intern=TRUE)                \n",
    "  \n",
    "  \n",
    "  \n",
    "  # Construct file path for metadata.tsv\n",
    "   metadata_tsv <- paste0(exported, \"/metadata.tsv\")\n",
    "  \n",
    "  # Check if the file exists before reading\n",
    "  if (!file.exists(metadata_tsv)) {\n",
    "    cat(\"Expected metadata.tsv does not exist at path:\", metadata_tsv, \"\\n\")\n",
    "    next\n",
    "  }\n",
    "  \n",
    "  # Read the results\n",
    "  neighbors <-read.csv(file = metadata_tsv, sep = '\\t', row.names = 1)\n",
    "  \n",
    "  # take only necessary data\n",
    "    neighbors=neighbors[-1,]\n",
    "  row_names_df_to_remove=c(\"cofounder1\",\"cofounder2\")\n",
    "  neighbors=neighbors[!(row.names(neighbors) %in% row_names_df_to_remove),]\n",
    "  e=(rownames(otu.tab.sim)%in%rownames(neighbors))   \n",
    "  pred=data.frame(\"pred\" =ifelse(e, \"DA\", \"NOT_DA\") , row.names =rownames(otu.tab.sim) , stringsAsFactors = F)\n",
    "  df=cbind(pred,tr) \n",
    "  bet1=neighbors[\"Betweenness.Centrality\"]\n",
    "  bet=data.frame(\"Betweenness.Centrality\" =rep(0,length(rownames(otu.tab.sim)[!e])),  row.names =rownames(otu.tab.sim)[!e] , stringsAsFactors = F)\n",
    "  bet2=rbind(bet1,bet)\n",
    "  out_df=cbind(df,bet2)\n",
    "    \n",
    "    #neighbours=  neighbours[-1,] \n",
    "    #e=rownames(otu.tab.sim)%in%rownames(neighbours)   \n",
    "    #pred=data.frame(\"pred\" =ifelse(e, \"DA\", \"NOT_DA\") , row.names =rownames(otu.tab.sim) , stringsAsFactors = F)\n",
    "    #out_df=cbind(pred,tr) \n",
    "    \n",
    "  # Return a list with the output of the method and the running time:\n",
    "  return(\"method_out\"=out_df)\n",
    "}\n",
    "\n",
    "\n",
    "\n",
    "run_ancombc<- function(raw_data){\n",
    "\n",
    "    \n",
    "    setwd(\"/home/zakir/from_pendrive/PhD/DAA_benchmark_study/qiime2_benchmark\")\n",
    "    # data file paths\n",
    "    original_data<-\"~/from_pendrive/PhD/DAA_benchmark_study/qiime_ancombc/data/PD_10483/otu_pd_qiime.tsv\"\n",
    "    simulated_data<-\"/home/zakir/from_pendrive/PhD/DAA_benchmark_study/qiime2_benchmark/otu_table1.txt\"\n",
    "    biom_file <- '/home/zakir/from_pendrive/PhD/DAA_benchmark_study/qiime2_benchmark/otu_table1.biom'\n",
    "    output_qza <- '/home/zakir/from_pendrive/PhD/DAA_benchmark_study/qiime2_benchmark/otu_table1.qza'\n",
    "    metadata<-\"/home/zakir/from_pendrive/PhD/DAA_benchmark_study/qiime2_benchmark/meta_table1.tsv\"\n",
    "    ancomoutput <- '/home/zakir/from_pendrive/PhD/DAA_benchmark_study/qiime2_benchmark/ancombc.qza'\n",
    "    exported <- '/home/zakir/from_pendrive/PhD/DAA_benchmark_study/qiime2_benchmark/exported_ancompd'\n",
    "    ppd_otu_filtered_qza=\"~/from_pendrive/PhD/DAA_benchmark_study/qiime2_benchmark/otu_pd_qiime_filtered.qza\"\n",
    "    meta.dat <- data.frame(X = raw_data$covariate, Z1 = raw_data$confounder[, 1],\n",
    "                       Z2 = raw_data$confounder[, 2])\n",
    "    otu.tab.sim <- raw_data$otu.tab.sim\n",
    "    actual=ifelse(raw_data$diff.otu.ind, \"DA\", \"NOT_DA\")\n",
    "    tr=data.frame(\"truth\" = actual, row.names = rownames(otu.tab.sim), stringsAsFactors = F)\n",
    "    meta.dat$X=ifelse(meta.dat$X, \"healthy\",\"unhealthy\")\n",
    "    #otu data processing for qiime2 input\n",
    "    otu <- cbind(rownames(otu.tab.sim), otu.tab.sim[,2:length(colnames(otu.tab.sim))])\n",
    "    colnames(otu)[1] <- \"featureid\"\n",
    "    rownames(otu) <- NULL\n",
    "\n",
    "    write.table(otu, simulated_data, sep = \"\\t\", col.names=TRUE, row.names=FALSE, quote = FALSE)\n",
    "    #metadata processing for qiime2 input\n",
    "    colnames(meta.dat)=c(\"covariate\", \"cofounder1\",\"cofounder2\")\n",
    "\n",
    "    metad  <- cbind(rownames(meta.dat),meta.dat)\n",
    "    colnames(metad)[1] <- \"sampleid\"\n",
    "    rownames(metad) <- NULL\n",
    "    write.table(metad, metadata, sep = \"\\t\", col.names=TRUE, row.names=FALSE, quote = FALSE)\n",
    "\n",
    "   # convert data into biom format\n",
    "    system(paste(\"biom convert\",\n",
    "                 \"-i\",simulated_data ,\n",
    "                 \"-o\", biom_file ,\n",
    "                 \"--table-type=\\\"OTU table\\\"\",\n",
    "                 \"--to-hdf5\"), intern=TRUE)\n",
    "    #import data into qiime2                \n",
    "    system(paste(\"qiime tools import\",\n",
    "             \"--input-path\", biom_file,\n",
    "             \"--type 'FeatureTable[Frequency]'\",\n",
    "             \"--input-format BIOMV210Format\",\n",
    "             \"--output-path\", output_qza), intern=TRUE)\n",
    "    \n",
    "    #ppd_otu_filtered_qza=\"~/from_pendrive/PhD/DAA_benchmark_study/Benchmark_study_makarsa/data/PD/otu_pd_qiime_filtered.qza\"\n",
    "    system(paste(\"qiime feature-table filter-features\",\n",
    "             \"--i-table\", output_qza,\n",
    "             \"--p-min-frequency\",50,\n",
    "             \"--p-min-samples\",4,\n",
    "             \"--o-filtered-table\", ppd_otu_filtered_qza), intern=TRUE)\n",
    "                   \n",
    "   # Run ANCOM-BC with sampled parameters\n",
    "    system(paste(\"qiime composition ancombc\",\n",
    "             \"--i-table\",ppd_otu_filtered_qza,\n",
    "             \"--m-metadata-file\", metadata,\n",
    "             \"--p-formula\", \"covariate\",\n",
    "             \"--p-p-adj-method\", \"BH\",\n",
    "            # \"--p-zero-cut\", 0.7,\n",
    "            # \"--p-lib-cut\", 0,\n",
    "            # \"--p-struct-zero\", FALSE,\n",
    "             \"--p-neg-lb\", FALSE,\n",
    "             \"--p-tol\", 0.01,\n",
    "             \"--p-max-iter\", 75,\n",
    "             \"--p-conserve\", FALSE,\n",
    "             #\"--p-alpha\", 0.01,\n",
    "            # \"--p-global\", TRUE,\n",
    "             \"--o-differentials\", ancomoutput))                \n",
    "  \n",
    "   # Export the results from QIIME2\n",
    "   system(paste(\"qiime tools export\", \n",
    "              \"--input-path\",ancomoutput,\n",
    "             \"--output-path\",exported))                \n",
    "  \n",
    "  # Construct file path for q_val_slice.csv\n",
    "   q_val_csv <- paste0(exported, \"/q_val_slice.csv\")\n",
    "  \n",
    "  # Check if the file exists before reading\n",
    "  if (!file.exists(q_val_csv)) {\n",
    "    cat(\"Expected q_val_slice.csv does not exist at path:\", q_val_csv, \"\\n\")\n",
    "    next\n",
    "  }\n",
    "  \n",
    "    # Read the q-value results\n",
    "    ancom_q_val <- read.csv(file = q_val_csv, sep = ',', row.names = 1)\n",
    "\n",
    "    # take only necessary data\n",
    "    ancom_q_val=data.frame(\"covariateunhealthy\" = ancom_q_val$covariateunhealthy, row.names = rownames(ancom_q_val), stringsAsFactors = F)\n",
    "    #construct output dataframe\n",
    "    e=!(rownames(otu.tab.sim)%in%rownames(ancom_q_val))\n",
    "    nq=rownames(otu.tab.sim)[e]\n",
    "    nqv=data.frame(\"covariateunhealthy\" = rep(NA, length(nq)), row.names = nq, stringsAsFactors = F)\n",
    "    q_val_all=rbind(ancom_q_val,nqv)\n",
    "    names(q_val_all)[names(q_val_all) == \"covariateunhealthy\"] <- \"q_value\"\n",
    "    pred= ifelse(ancom_q_val < 0.05, \"DA\", \"NOT_DA\")\n",
    "    pred=as.data.frame(pred)\n",
    "    d=!(rownames(otu.tab.sim)%in%rownames(pred))\n",
    "    npred=rownames(otu.tab.sim)[d]\n",
    "    ND=data.frame(\"covariateunhealthy\" = rep(\"NOT_DA\", length(npred)), row.names = npred, stringsAsFactors = F)\n",
    "    pr=rbind(pred,ND)\n",
    "    out_df=cbind(pr,q_val_all,tr)\n",
    "    names(out_df)[names(out_df) == \"covariateunhealthy\"] <- \"pred\"\n",
    "\n",
    "  return(\"method_out\"=out_df)\n",
    "}\n",
    "\n",
    "\n",
    "run_ancombc2<- function(raw_data){\n",
    "\n",
    "    library(phyloseq)\n",
    "    meta.dat <- data.frame(X = raw_data$covariate, Z1 = raw_data$confounder[, 1],\n",
    "                       Z2 = raw_data$confounder[, 2])\n",
    "    otu.tab.sim <- raw_data$otu.tab.sim\n",
    "    actual=ifelse(raw_data$diff.otu.ind, \"DA\", \"NOT_DA\")\n",
    "    tr=data.frame(\"truth\" = actual, row.names = rownames(otu.tab.sim), stringsAsFactors = F)\n",
    "    meta.dat$X=ifelse(meta.dat$X, \"healthy\",\"unhealthy\")\n",
    "    colnames(meta.dat)=c(\"covariate\", \"cofounder1\",\"cofounder2\")\n",
    "\n",
    "    otu<-otu_table(otu.tab.sim,taxa_are_rows = TRUE)\n",
    "    sam<-sample_data(meta.dat)\n",
    "    physeq = phyloseq(otu, sam)\n",
    "                   \n",
    "   # Run ANCOM-BC2 with sampled parameters\n",
    "    set.seed(123)\n",
    "    output = ancombc2(data = physeq, assay_name = \"counts\", tax_level = \"Species\",\n",
    "                  fix_formula = \"covariate\", rand_formula = NULL,\n",
    "                  p_adj_method = \"holm\", pseudo_sens = TRUE,\n",
    "                  prv_cut = 0.10, lib_cut = 1000, s0_perc = 0.05,\n",
    "                  group = \"covariate\", struc_zero = FALSE, neg_lb = FALSE,\n",
    "                  alpha = 0.05, n_cl = 2, verbose = TRUE,\n",
    "                  global = FALSE, pairwise = TRUE, \n",
    "                  dunnet = FALSE, trend = FALSE,\n",
    "                  iter_control = list(tol = 1e-5, max_iter = 20, \n",
    "                                      verbose = FALSE),\n",
    "                  em_control = list(tol = 1e-5, max_iter = 100),\n",
    "                  lme_control = NULL, \n",
    "                  mdfdr_control = list(fwer_ctrl_method = \"holm\", B = 100), \n",
    "                  trend_control = NULL)\n",
    "\n",
    "     res_prim = output$res\n",
    "     #res_pair = output$res_pair\n",
    "     rownames(res_prim)=res_prim$taxon\n",
    "     res_prim$taxon=NULL\n",
    "\n",
    "    # take only necessary data\n",
    "    ancom_q_val=data.frame(\"covariateunhealthy\" = res_prim$q_covariateunhealthy, row.names = rownames(res_prim), stringsAsFactors = F)\n",
    "    #construct output dataframe\n",
    "    e=!(rownames(otu.tab.sim)%in%rownames(ancom_q_val))\n",
    "    nq=rownames(otu.tab.sim)[e]\n",
    "    nqv=data.frame(\"covariateunhealthy\" = rep(NA, length(nq)), row.names = nq, stringsAsFactors = F)\n",
    "    q_val_all=rbind(ancom_q_val,nqv)\n",
    "    names(q_val_all)[names(q_val_all) == \"covariateunhealthy\"] <- \"q_value\"\n",
    "    pred= ifelse(ancom_q_val < 0.05, \"DA\", \"NOT_DA\")\n",
    "    pred=as.data.frame(pred)\n",
    "    d=!(rownames(otu.tab.sim)%in%rownames(pred))\n",
    "    npred=rownames(otu.tab.sim)[d]\n",
    "    ND=data.frame(\"covariateunhealthy\" = rep(\"NOT_DA\", length(npred)), row.names = npred, stringsAsFactors = F)\n",
    "    pr=rbind(pred,ND)\n",
    "    out_df=cbind(pr,q_val_all,tr)\n",
    "    names(out_df)[names(out_df) == \"covariateunhealthy\"] <- \"pred\"\n",
    "    \n",
    "  return(\"method_out\"=out_df)\n",
    "}\n",
    "\n"
   ]
  },
  {
   "cell_type": "markdown",
   "id": "8e366bd2",
   "metadata": {},
   "source": [
    "### Running methods on simulated data"
   ]
  },
  {
   "cell_type": "code",
   "execution_count": 10,
   "id": "d41d73cc",
   "metadata": {},
   "outputs": [],
   "source": [
    "#simulation <- readRDS(\"/home/zakir/from_pendrive/PhD/DAA_benchmark_study/Benchmark_study_makarsa/data/simulated_data/sifm_otu.rds\")\n",
    "simulation <- readRDS(\"/home/zakir/from_pendrive/PhD/DAA_benchmark_study/Benchmark_study_makarsa/data/simulated_data/pd_otu.rds\")\n",
    "#simulation <- readRDS(\"/home/zakir/from_pendrive/PhD/DAA_benchmark_study/Benchmark_study_makarsa/data/simulated_data/ibd_otu.rds\")\n",
    "#simulation <- readRDS(\"/home/zakir/from_pendrive/PhD/DAA_benchmark_study/Benchmark_study_makarsa/data/simulated_data/ecam_otu.rds\")\n",
    "#simulation <- readRDS(\"~/from_pendrive/PhD/DAA_benchmark_study/Benchmark_study_makarsa/data/simulated_data/american_gut_otu.rds\")"
   ]
  },
  {
   "cell_type": "code",
   "execution_count": 3,
   "id": "d7955bbf",
   "metadata": {},
   "outputs": [],
   "source": [
    "#simulation[[1]][[1]]"
   ]
  },
  {
   "cell_type": "code",
   "execution_count": null,
   "id": "a8803232",
   "metadata": {},
   "outputs": [],
   "source": [
    "#sample number\n",
    "#american_gut=500\n",
    "#pd=350\n",
    "#ecam=400\n",
    "#sifm=250\n",
    "#ibd=600"
   ]
  },
  {
   "cell_type": "code",
   "execution_count": 11,
   "id": "178258ba",
   "metadata": {},
   "outputs": [],
   "source": [
    "#sample_size=list(length(rownames(list_of_dfs$ecam)),length(rownames(list_of_dfs$pd)))\n",
    "sample_size=list(1000,2000,3000,4050,5100,6150,7200,8000,9000,10000) # for pd dataframe\n",
    "#sample_size=list(1000,2000,3000,4000,5000,6000,7000,8000,9000,10000,11000,12000,13000) # for ecam dataframe\n",
    "#sample_size=list(4000,5000,6000,6500,7000,7500,8000,8500,9000) # for IDB dataframe\n",
    "#sample_size=list(1000,1100,1200,1400,1600,1700,1800,1900,2500) # for study_12021\n",
    "#sample_size=list(1200,2500,3000,4500,5500,6500,7500,8400,9500,11000,12000,13000,14000,15000,16000,17000) # for for american_gut dataframe"
   ]
  },
  {
   "cell_type": "code",
   "execution_count": 12,
   "id": "34b191db",
   "metadata": {},
   "outputs": [],
   "source": [
    "#ecam dataframe\n",
    "#file_paths <- c(\"~/from_pendrive/PhD/DAA_benchmark_study/Benchmark_study_makarsa/data/ecam_tutorial/ecam_otu.tsv\")\n",
    "#pd dataframe\n",
    "file_paths <- c(\"~/from_pendrive/PhD/DAA_benchmark_study/Benchmark_study_makarsa/data/PD/pd_otu.tsv\")\n",
    "#american_gut dataframe\n",
    "#file_paths <- c(\"~/from_pendrive/PhD/DAA_benchmark_study/Benchmark_study_makarsa/data/american_gut/american_gut_otu.tsv\")\n",
    "#IDB dataframe\n",
    "#file_paths <- c(\"~/from_pendrive/PhD/DAA_benchmark_study/Benchmark_study_makarsa/data/IBD/ibd_otu.tsv\")\n",
    "#Study_12021\n",
    "#file_paths <- c(\"~/from_pendrive/PhD/DAA_benchmark_study/Benchmark_study_makarsa/data/SIFM/sifm_otu.tsv\")\n",
    "\n",
    "\n",
    "#file_paths <- c(\"~/from_pendrive/PhD/DAA_benchmark_study/qiime_ancombc/data/ecam_10245/ecam_otu_table.tsv\",\n",
    "#                \"~/from_pendrive/PhD/DAA_benchmark_study/qiime_ancombc/data/PD_10483/pd_10483_otu_table.tsv\",\n",
    "#               \"~/from_pendrive/PhD/DAA_benchmark_study/qiime_ancombc/data/american_gut_10317/american_gut_otu_table.tsv\",\n",
    " #              \"~/from_pendrive/PhD/DAA_benchmark_study/qiime_ancombc/data/IBD_1629/1629_otu_table.tsv\",\n",
    " #               \"~/from_pendrive/PhD/DAA_benchmark_study/qiime_ancombc/data/study_12021/12021_otu_table.tsv\")\n",
    "list_of_dfs <- lapply(file_paths, function(file) read.table(file, sep = '\\t', header=TRUE, row.names=1))"
   ]
  },
  {
   "cell_type": "code",
   "execution_count": null,
   "id": "6fd810a6",
   "metadata": {},
   "outputs": [],
   "source": [
    "# List of methods you want to run\n",
    "methods_to_run <- c(\"FlashWeave\")  # Add more if needed , \"FlashWeave\"  \"ANCOM-BC\"\n",
    "\n",
    "# Initialize results_list\n",
    "results_list <- list()\n",
    "for(method in methods_to_run) {\n",
    "  results_list[[method]] <- vector(\"list\", length(list_of_dfs))\n",
    "  for(i in 1:length(list_of_dfs)) {\n",
    "    results_list[[method]][[i]] <- vector(\"list\", length(sample_size))\n",
    "  }\n",
    "}\n",
    "\n",
    "# Loop over datasets and methods\n",
    "for(i in 1:length(list_of_dfs)) {\n",
    "  for(j in 1:length(sample_size)) {\n",
    "    data <- simulation[[i]][[j]]\n",
    "    \n",
    "    for(method in methods_to_run) {\n",
    "      # Run the method\n",
    "      result <- run_method(data, method)\n",
    "      \n",
    "      # Store the result\n",
    "      results_list[[method]][[i]][[j]] <- result\n",
    "    }\n",
    "  }\n",
    "}\n"
   ]
  },
  {
   "cell_type": "code",
   "execution_count": null,
   "id": "51a7b946",
   "metadata": {},
   "outputs": [],
   "source": []
  },
  {
   "cell_type": "code",
   "execution_count": 287,
   "id": "24e2e0d7",
   "metadata": {},
   "outputs": [],
   "source": [
    "library(ANCOMBC)\n",
    "library(phyloseq)"
   ]
  },
  {
   "cell_type": "code",
   "execution_count": 226,
   "id": "8d3918dd",
   "metadata": {},
   "outputs": [],
   "source": [
    "#results_list"
   ]
  },
  {
   "cell_type": "markdown",
   "id": "28e9253a",
   "metadata": {},
   "source": [
    "### RUNNING OUTPUT TO GENERATE PR-RECALL DATAFRAME"
   ]
  },
  {
   "cell_type": "code",
   "execution_count": 122,
   "id": "e141e744",
   "metadata": {},
   "outputs": [],
   "source": [
    "# Compute Precision and Recall\n",
    "# param:\n",
    "#   - truth: a vector that contains the labels that identify the simulated otu as \"DA\" or \"NOT_DA\".\n",
    "#   - pred: a vector that contains the predicted labels.\n",
    "# return: a named vector with precision and recall\n",
    "\n",
    "compute_precision_recall<- function(truth, pred){\n",
    "\n",
    "  if(all(is.na(pred))){\n",
    "    out<- c(NA,NA)\n",
    "    names(out)<- c(\"recall\", \"precision\")\n",
    "    return(out)\n",
    "  }\n",
    "\n",
    "  # Reassign the labels. The positive class is the one with the lowest number, i.e. \"DA\":\n",
    "  truth<- ifelse(truth == \"DA\", 1, 0)\n",
    "  pred<- ifelse(pred == \"DA\", 1, 0)\n",
    "\n",
    "  # Compute the number of False Positive (FP), False Negative (FN), True Positive (TP), True Negative (TN):\n",
    "  FP<- sum(truth==0 & pred==1)\n",
    "  FN<- sum(truth==1 & pred==0)\n",
    "  TP<- sum(truth==1 & pred==1)\n",
    "  TN<- sum(truth==0 & pred==0)\n",
    "\n",
    "  # Calculate Precision and Recall:\n",
    "  if(TP==0 & FP==0){\n",
    "    precision<- NA\n",
    "  }else{\n",
    "    precision<- TP/(TP+FP)\n",
    "  }\n",
    "\n",
    "  if(TP==0 & FN==0){\n",
    "    recall<- NA\n",
    "  }else{\n",
    "    recall<- TP/(TP+FN)\n",
    "  }\n",
    "\n",
    "  if(FP==0 & TN==0){\n",
    "    fpr<- NA\n",
    "  }else{\n",
    "    fpr<- FP/(FP+TN)\n",
    "  }\n",
    "    \n",
    "  if(TP==0 & FP==0){\n",
    "    fdr<- NA\n",
    "  }else{\n",
    "    fdr<- FP/(TP+FP)\n",
    "  }  \n",
    "     \n",
    "    \n",
    "  f1_score<- 2*(recall*precision)/(precision+recall)\n",
    "\n",
    "  # Return precision and recall:\n",
    "  out<- c(recall,precision,fpr,fdr, f1_score)\n",
    "  names(out)<- c(\"recall\", \"precision\",\"fpr\",\"fdr\", \"f1_score\")\n",
    "  return(out)\n",
    "}\n"
   ]
  },
  {
   "cell_type": "code",
   "execution_count": 140,
   "id": "6f931152",
   "metadata": {},
   "outputs": [],
   "source": [
    "# Initialize a dataframe to store precision-recall metrics\n",
    "precision_recall_df <- data.frame()\n",
    "\n",
    "for(method in methods_to_run) {\n",
    "    recall_vector <- c()\n",
    "    precision_vector <- c()\n",
    "    fpr_vector <- c()\n",
    "    fdr_vector <- c()\n",
    "    f1_vector <- c()\n",
    "    \n",
    "    for(i in 1:length(list_of_dfs)) {\n",
    "        for(j in 1:length(sample_size)) {\n",
    "            method_results <- results_list[[method]][[i]][[j]]\n",
    "            \n",
    "            prec_rec_out <- compute_precision_recall(truth = method_results$truth, pred = method_results$pred)\n",
    "            \n",
    "            recall_vector <- c(recall_vector, prec_rec_out[\"recall\"])\n",
    "            precision_vector <- c(precision_vector, prec_rec_out[\"precision\"])\n",
    "            fpr_vector <- c(fpr_vector, prec_rec_out[\"fpr\"])\n",
    "            fdr_vector <- c(fdr_vector, prec_rec_out[\"fdr\"])\n",
    "            f1_vector <- c(f1_vector, prec_rec_out[\"f1_score\"])\n",
    "        }\n",
    "    }\n",
    "    \n",
    "    tmp_df <- data.frame(\"method\" = rep(method, length(recall_vector)),\n",
    "                         \"recall\" = recall_vector,\n",
    "                         \"precision\" = precision_vector,\n",
    "                         \"fpr\" = fpr_vector,\n",
    "                         \"fdr\" = fdr_vector,\n",
    "                         \"F1\" = f1_vector,\n",
    "                         \"na_precision\" = rep(sum(is.na(precision_vector)), length(recall_vector)),\n",
    "                         stringsAsFactors = F)\n",
    "    \n",
    "    precision_recall_df <- rbind(precision_recall_df, tmp_df)\n",
    "}\n"
   ]
  },
  {
   "cell_type": "code",
   "execution_count": 4,
   "id": "10766bc4",
   "metadata": {},
   "outputs": [],
   "source": [
    "#precision_recall_df"
   ]
  },
  {
   "cell_type": "code",
   "execution_count": 142,
   "id": "1351f2c5",
   "metadata": {},
   "outputs": [],
   "source": [
    "write.table(precision_recall_df, '/home/zakir/from_pendrive/PhD/DAA_benchmark_study/Benchmark_study_makarsa/result/new_result/output_dataframe_flashweave2_pdf.tsv', sep = \"\\t\", col.names=TRUE, row.names=FALSE, quote = FALSE)"
   ]
  },
  {
   "cell_type": "code",
   "execution_count": 1,
   "id": "671ff5af",
   "metadata": {},
   "outputs": [],
   "source": [
    "ancom_american_gut<- read.csv(file = '/home/zakir/from_pendrive/PhD/DAA_benchmark_study/Benchmark_study_makarsa/result/new_result/output_dataframe_ancom_american_gut.tsv', sep = '\\t')\n",
    "ancombc2_american_gut<- read.csv(file = '/home/zakir/from_pendrive/PhD/DAA_benchmark_study/Benchmark_study_makarsa/result/new_result/output_dataframe_ancombc2_american_gut.tsv', sep = '\\t')\n",
    "flashweave_radius4_american_gut<- read.csv(file = '/home/zakir/from_pendrive/PhD/DAA_benchmark_study/Benchmark_study_makarsa/result/new_result/output_dataframe_flashweave_radius4_american_gut.tsv', sep = '\\t')\n",
    "flashweave_radius2_american_gut<- read.csv(file = '/home/zakir/from_pendrive/PhD/DAA_benchmark_study/Benchmark_study_makarsa/result/new_result/output_dataframe_flashweave_radius2_american_gut.tsv', sep = '\\t')\n",
    "flashweave_radius3_american_gut<- read.csv(file = '/home/zakir/from_pendrive/PhD/DAA_benchmark_study/Benchmark_study_makarsa/result/new_result/output_dataframe_flashweave_radius3_american_gut.tsv', sep = '\\t')\n"
   ]
  },
  {
   "cell_type": "code",
   "execution_count": 5,
   "id": "f1ddec9f",
   "metadata": {},
   "outputs": [],
   "source": [
    "#ancombc2_american_gut"
   ]
  },
  {
   "cell_type": "code",
   "execution_count": 2,
   "id": "0243580b",
   "metadata": {},
   "outputs": [],
   "source": [
    "flashweave_radius4_american_gut$\"na_precision\"=NULL\n",
    "flashweave_radius2_american_gut$\"na_precision\"=NULL\n",
    "flashweave_radius3_american_gut$\"na_precision\"=NULL\n",
    "ancom_american_gut$\"na_precision\"=NULL\n",
    "ancombc2_american_gut$\"na_precision\"=NULL"
   ]
  },
  {
   "cell_type": "code",
   "execution_count": 3,
   "id": "a8d83e3a",
   "metadata": {},
   "outputs": [],
   "source": [
    "names(flashweave_radius3_american_gut)=c('method3','recall3','precision3','fpr3','fdr3','F13')\n",
    "names(flashweave_radius4_american_gut)=c('method4','recall4','precision4','fpr4','fdr4','F14')\n"
   ]
  },
  {
   "cell_type": "code",
   "execution_count": 4,
   "id": "26982994",
   "metadata": {},
   "outputs": [],
   "source": [
    "combine_flashweave_am=cbind(flashweave_radius2_american_gut,flashweave_radius3_american_gut,flashweave_radius4_american_gut)"
   ]
  },
  {
   "cell_type": "code",
   "execution_count": 5,
   "id": "7ebac26e",
   "metadata": {},
   "outputs": [],
   "source": [
    "combine_flashweave_am$method3=NULL\n",
    "combine_flashweave_am$method4=NULL"
   ]
  },
  {
   "cell_type": "code",
   "execution_count": 6,
   "id": "39f4b2ea",
   "metadata": {},
   "outputs": [],
   "source": [
    "#combine_flashweave_am"
   ]
  },
  {
   "cell_type": "code",
   "execution_count": 7,
   "id": "322e6eed",
   "metadata": {},
   "outputs": [],
   "source": [
    "tmp_df_am <- data.frame( \"recall3\" = rep(0, length(ancom_american_gut$recall)),\n",
    "                      \"precision3\" = rep(0, length(ancom_american_gut$recall)),\n",
    "                      \"fpr3\" = rep(0, length(ancom_american_gut$recall)),\n",
    "                      \"fdr3\" = rep(0, length(ancom_american_gut$recall)),\n",
    "                      \"F13\" = rep(0, length(ancom_american_gut$recall)),\n",
    "                     \"recall4\" = rep(0, length(ancom_american_gut$recall)),\n",
    "                      \"precision4\" = rep(0, length(ancom_american_gut$recall)),\n",
    "                      \"fpr4\" = rep(0, length(ancom_american_gut$recall)),\n",
    "                      \"fdr4\" = rep(0, length(ancom_american_gut$recall)),\n",
    "                      \"F14\" = rep(0, length(ancom_american_gut$recall)),\n",
    "                         stringsAsFactors = F)"
   ]
  },
  {
   "cell_type": "code",
   "execution_count": 8,
   "id": "0183afe8",
   "metadata": {},
   "outputs": [],
   "source": [
    "tdf_am=cbind(ancom_american_gut,tmp_df_am)"
   ]
  },
  {
   "cell_type": "code",
   "execution_count": 9,
   "id": "c3aa94b1",
   "metadata": {},
   "outputs": [],
   "source": [
    "tdf_ambc2=cbind(ancombc2_american_gut,tmp_df_am)"
   ]
  },
  {
   "cell_type": "code",
   "execution_count": 10,
   "id": "ab3ce931",
   "metadata": {},
   "outputs": [],
   "source": [
    "combine_american_gut=rbind(combine_flashweave_am,tdf_am,tdf_ambc2)"
   ]
  },
  {
   "cell_type": "code",
   "execution_count": 11,
   "id": "fe907fec",
   "metadata": {},
   "outputs": [],
   "source": [
    "combine_american_gut <- combine_american_gut[, c(1, 2,7,12, 3,8,13, 4,9,14, 5,10,15,6,11,16)]"
   ]
  },
  {
   "cell_type": "code",
   "execution_count": 12,
   "id": "5ff2b5b2",
   "metadata": {},
   "outputs": [],
   "source": [
    "#combine_american_gut"
   ]
  },
  {
   "cell_type": "code",
   "execution_count": null,
   "id": "862083de",
   "metadata": {},
   "outputs": [],
   "source": []
  },
  {
   "cell_type": "code",
   "execution_count": null,
   "id": "9f0d6463",
   "metadata": {},
   "outputs": [],
   "source": []
  },
  {
   "cell_type": "code",
   "execution_count": 13,
   "id": "10ed933b",
   "metadata": {},
   "outputs": [],
   "source": [
    "ancom_IDB<- read.csv(file = '/home/zakir/from_pendrive/PhD/DAA_benchmark_study/Benchmark_study_makarsa/result/new_result/output_dataframe_ancom_ibd.tsv', sep = '\\t')\n",
    "ancombc2_IDB<- read.csv(file = '/home/zakir/from_pendrive/PhD/DAA_benchmark_study/Benchmark_study_makarsa/result/new_result/output_dataframe_ancombc2_ibd.tsv', sep = '\\t')\n",
    "flashweave_radius4_IDB<- read.csv(file = '/home/zakir/from_pendrive/PhD/DAA_benchmark_study/Benchmark_study_makarsa/result/new_result/output_dataframe_flashweave_radius4_ibd.tsv', sep = '\\t')\n",
    "flashweave_radius2_IDB<- read.csv(file = '/home/zakir/from_pendrive/PhD/DAA_benchmark_study/Benchmark_study_makarsa/result/new_result/output_dataframe_flashweave_radius2_ibd.tsv', sep = '\\t')\n",
    "flashweave_radius3_IDB<- read.csv(file = '/home/zakir/from_pendrive/PhD/DAA_benchmark_study/Benchmark_study_makarsa/result/new_result/output_dataframe_flashweave_radius3_ibd.tsv', sep = '\\t')"
   ]
  },
  {
   "cell_type": "code",
   "execution_count": 14,
   "id": "0e885e03",
   "metadata": {},
   "outputs": [],
   "source": [
    "flashweave_radius4_IDB$\"na_precision\"=NULL\n",
    "flashweave_radius2_IDB$\"na_precision\"=NULL\n",
    "flashweave_radius3_IDB$\"na_precision\"=NULL\n",
    "ancom_IDB$\"na_precision\"=NULL\n",
    "ancombc2_IDB$\"na_precision\"=NULL"
   ]
  },
  {
   "cell_type": "code",
   "execution_count": 15,
   "id": "bf807bf8",
   "metadata": {},
   "outputs": [],
   "source": [
    "names(flashweave_radius3_IDB)=c('method3','recall3','precision3','fpr3','fdr3','F13')\n",
    "names(flashweave_radius4_IDB)=c('method4','recall4','precision4','fpr4','fdr4','F14')"
   ]
  },
  {
   "cell_type": "code",
   "execution_count": 16,
   "id": "e7de1ab8",
   "metadata": {},
   "outputs": [],
   "source": [
    "combine_flashweave_ibd=cbind(flashweave_radius2_IDB,flashweave_radius3_IDB,flashweave_radius4_IDB)"
   ]
  },
  {
   "cell_type": "code",
   "execution_count": 17,
   "id": "1bc79e15",
   "metadata": {},
   "outputs": [],
   "source": [
    "combine_flashweave_ibd$method3=NULL\n",
    "combine_flashweave_ibd$method4=NULL"
   ]
  },
  {
   "cell_type": "code",
   "execution_count": 18,
   "id": "5f357c15",
   "metadata": {},
   "outputs": [],
   "source": [
    "tmp_df_ibd <- data.frame( \"recall3\" = rep(0, length(ancom_IDB$recall)),\n",
    "                      \"precision3\" = rep(0, length(ancom_IDB$recall)),\n",
    "                      \"fpr3\" = rep(0, length(ancom_IDB$recall)),\n",
    "                      \"fdr3\" = rep(0, length(ancom_IDB$recall)),\n",
    "                      \"F13\" = rep(0, length(ancom_IDB$recall)),\n",
    "                     \"recall4\" = rep(0, length(ancom_IDB$recall)),\n",
    "                      \"precision4\" = rep(0, length(ancom_IDB$recall)),\n",
    "                      \"fpr4\" = rep(0, length(ancom_IDB$recall)),\n",
    "                      \"fdr4\" = rep(0, length(ancom_IDB$recall)),\n",
    "                      \"F14\" = rep(0, length(ancom_IDB$recall)),\n",
    "                         stringsAsFactors = F)"
   ]
  },
  {
   "cell_type": "code",
   "execution_count": 19,
   "id": "d98f7494",
   "metadata": {},
   "outputs": [],
   "source": [
    "tdf_ibd=cbind(ancom_IDB,tmp_df_ibd)"
   ]
  },
  {
   "cell_type": "code",
   "execution_count": 20,
   "id": "4487e6a6",
   "metadata": {},
   "outputs": [],
   "source": [
    "tdfbc2_ibd=cbind(ancombc2_IDB,tmp_df_ibd)"
   ]
  },
  {
   "cell_type": "code",
   "execution_count": 21,
   "id": "3ffa3f5f",
   "metadata": {},
   "outputs": [],
   "source": [
    "combine_IDB=rbind(combine_flashweave_ibd,tdf_ibd,tdfbc2_ibd)"
   ]
  },
  {
   "cell_type": "code",
   "execution_count": 22,
   "id": "9f4b1e2d",
   "metadata": {},
   "outputs": [],
   "source": [
    "combine_IDB <- combine_IDB[, c(1, 2,7,12, 3,8,13, 4,9,14, 5,10,15,6,11,16)]"
   ]
  },
  {
   "cell_type": "code",
   "execution_count": 6,
   "id": "e7d07561",
   "metadata": {},
   "outputs": [],
   "source": [
    "#combine_IDB"
   ]
  },
  {
   "cell_type": "code",
   "execution_count": null,
   "id": "869495a5",
   "metadata": {},
   "outputs": [],
   "source": []
  },
  {
   "cell_type": "code",
   "execution_count": 24,
   "id": "df985eea",
   "metadata": {},
   "outputs": [],
   "source": [
    "ancom_ecam<- read.csv(file = '/home/zakir/from_pendrive/PhD/DAA_benchmark_study/Benchmark_study_makarsa/result/new_result/output_dataframe_ancom_ecamf.tsv', sep = '\\t')\n",
    "ancombc2_ecam<- read.csv(file = '/home/zakir/from_pendrive/PhD/DAA_benchmark_study/Benchmark_study_makarsa/result/new_result/output_dataframe_ancombc2_ecamf.tsv', sep = '\\t')\n",
    "flashweave_radius4_ecam<- read.csv(file = '/home/zakir/from_pendrive/PhD/DAA_benchmark_study/Benchmark_study_makarsa/result/new_result/output_dataframe_flashweave_radius4_ecamf.tsv', sep = '\\t')\n",
    "flashweave_radius2_ecam<- read.csv(file = '/home/zakir/from_pendrive/PhD/DAA_benchmark_study/Benchmark_study_makarsa/result/new_result/output_dataframe_flashweave_radius2_ecamf.tsv', sep = '\\t')\n",
    "flashweave_radius3_ecam<- read.csv(file = '/home/zakir/from_pendrive/PhD/DAA_benchmark_study/Benchmark_study_makarsa/result/new_result/output_dataframe_flashweave_radius3_ecamf.tsv', sep = '\\t')"
   ]
  },
  {
   "cell_type": "code",
   "execution_count": 25,
   "id": "475e637e",
   "metadata": {},
   "outputs": [],
   "source": [
    "flashweave_radius4_ecam$\"na_precision\"=NULL\n",
    "flashweave_radius2_ecam$\"na_precision\"=NULL\n",
    "flashweave_radius3_ecam$\"na_precision\"=NULL\n",
    "ancom_ecam$\"na_precision\"=NULL\n",
    "ancombc2_ecam$\"na_precision\"=NULL"
   ]
  },
  {
   "cell_type": "code",
   "execution_count": 26,
   "id": "a43bbc34",
   "metadata": {},
   "outputs": [],
   "source": [
    "names(flashweave_radius3_ecam)=c('method3','recall3','precision3','fpr3','fdr3','F13')\n",
    "names(flashweave_radius4_ecam)=c('method4','recall4','precision4','fpr4','fdr4','F14')"
   ]
  },
  {
   "cell_type": "code",
   "execution_count": 27,
   "id": "776eb308",
   "metadata": {},
   "outputs": [],
   "source": [
    "combine_flashweave_ecam=cbind(flashweave_radius2_ecam,flashweave_radius3_ecam,flashweave_radius4_ecam)"
   ]
  },
  {
   "cell_type": "code",
   "execution_count": 28,
   "id": "45a8c432",
   "metadata": {},
   "outputs": [],
   "source": [
    "combine_flashweave_ecam$method3=NULL\n",
    "combine_flashweave_ecam$method4=NULL"
   ]
  },
  {
   "cell_type": "code",
   "execution_count": 29,
   "id": "63975865",
   "metadata": {},
   "outputs": [],
   "source": [
    "tmp_df_ecam <- data.frame( \"recall3\" = rep(0, length(ancom_ecam$recall)),\n",
    "                      \"precision3\" = rep(0, length(ancom_ecam$recall)),\n",
    "                      \"fpr3\" = rep(0, length(ancom_ecam$recall)),\n",
    "                      \"fdr3\" = rep(0, length(ancom_ecam$recall)),\n",
    "                      \"F13\" = rep(0, length(ancom_ecam$recall)),\n",
    "                     \"recall4\" = rep(0, length(ancom_ecam$recall)),\n",
    "                      \"precision4\" = rep(0, length(ancom_ecam$recall)),\n",
    "                      \"fpr4\" = rep(0, length(ancom_ecam$recall)),\n",
    "                      \"fdr4\" = rep(0, length(ancom_ecam$recall)),\n",
    "                      \"F14\" = rep(0, length(ancom_ecam$recall)),\n",
    "                         stringsAsFactors = F)"
   ]
  },
  {
   "cell_type": "code",
   "execution_count": 30,
   "id": "7476967a",
   "metadata": {},
   "outputs": [],
   "source": [
    "tdf_ecam=cbind(ancom_ecam,tmp_df_ecam)"
   ]
  },
  {
   "cell_type": "code",
   "execution_count": 31,
   "id": "97672bfb",
   "metadata": {},
   "outputs": [],
   "source": [
    "tdfbc2_ecam=cbind(ancombc2_ecam,tmp_df_ecam)"
   ]
  },
  {
   "cell_type": "code",
   "execution_count": 32,
   "id": "104d4293",
   "metadata": {},
   "outputs": [],
   "source": [
    "combine_ecam=rbind(combine_flashweave_ecam,tdf_ecam,tdfbc2_ecam)"
   ]
  },
  {
   "cell_type": "code",
   "execution_count": null,
   "id": "075f00ca",
   "metadata": {},
   "outputs": [],
   "source": []
  },
  {
   "cell_type": "code",
   "execution_count": 33,
   "id": "8a971ab3",
   "metadata": {},
   "outputs": [],
   "source": [
    "combine_ecam <- combine_ecam[, c(1, 2,7,12, 3,8,13, 4,9,14, 5,10,15,6,11,16)]"
   ]
  },
  {
   "cell_type": "code",
   "execution_count": 34,
   "id": "3da3bbdd",
   "metadata": {},
   "outputs": [],
   "source": [
    "#combine_ecam "
   ]
  },
  {
   "cell_type": "code",
   "execution_count": 145,
   "id": "43d7844b",
   "metadata": {},
   "outputs": [],
   "source": [
    "ancom_pd<- read.csv(file = '/home/zakir/from_pendrive/PhD/DAA_benchmark_study/Benchmark_study_makarsa/result/new_result/output_dataframe_ancombc_pdf.tsv', sep = '\\t')\n",
    "ancombc2_pd<- read.csv(file = '/home/zakir/from_pendrive/PhD/DAA_benchmark_study/Benchmark_study_makarsa/result/new_result/output_dataframe_ancombc2_pd.tsv', sep = '\\t')\n",
    "flashweave_radius2_pd<- read.csv(file = '/home/zakir/from_pendrive/PhD/DAA_benchmark_study/Benchmark_study_makarsa/result/new_result/output_dataframe_flashweave_radius2_pd.tsv', sep = '\\t')\n",
    "flashweave_radius3_pd<- read.csv(file = '/home/zakir/from_pendrive/PhD/DAA_benchmark_study/Benchmark_study_makarsa/result/new_result/output_dataframe_flashweave_redius3_pd.tsv', sep = '\\t')\n",
    "flashweave_radius4_pd<- read.csv(file = '/home/zakir/from_pendrive/PhD/DAA_benchmark_study/Benchmark_study_makarsa/result/new_result/output_dataframe_flashweave_radius4_pd.tsv', sep = '\\t')"
   ]
  },
  {
   "cell_type": "code",
   "execution_count": 146,
   "id": "d617a993",
   "metadata": {},
   "outputs": [],
   "source": [
    "\n",
    "flashweave_radius4_pd$\"na_precision\"=NULL\n",
    "flashweave_radius2_pd$\"na_precision\"=NULL\n",
    "flashweave_radius3_pd$\"na_precision\"=NULL\n",
    "ancom_pd$\"na_precision\"=NULL\n",
    "ancombc2_pd$\"na_precision\"=NULL"
   ]
  },
  {
   "cell_type": "code",
   "execution_count": 147,
   "id": "7c03b327",
   "metadata": {},
   "outputs": [],
   "source": [
    "names(flashweave_radius3_pd)=c('method3','recall3','precision3','fpr3','fdr3','F13')\n",
    "names(flashweave_radius4_pd)=c('method4','recall4','precision4','fpr4','fdr4','F14')"
   ]
  },
  {
   "cell_type": "code",
   "execution_count": 148,
   "id": "ef2fbf8c",
   "metadata": {},
   "outputs": [],
   "source": [
    "combine_flashweave_pd=cbind(flashweave_radius2_pd,flashweave_radius3_pd,flashweave_radius4_pd)"
   ]
  },
  {
   "cell_type": "code",
   "execution_count": 149,
   "id": "b87dfaf1",
   "metadata": {},
   "outputs": [],
   "source": [
    "combine_flashweave_pd$method3=NULL\n",
    "combine_flashweave_pd$method4=NULL"
   ]
  },
  {
   "cell_type": "code",
   "execution_count": 150,
   "id": "e2b5af17",
   "metadata": {},
   "outputs": [],
   "source": [
    "tmp_df_pd <- data.frame( \"recall3\" = rep(0, length(ancom_pd$recall)),\n",
    "                      \"precision3\" = rep(0, length(ancom_pd$recall)),\n",
    "                      \"fpr3\" = rep(0, length(ancom_pd$recall)),\n",
    "                      \"fdr3\" = rep(0, length(ancom_pd$recall)),\n",
    "                      \"F13\" = rep(0, length(ancom_pd$recall)),\n",
    "                     \"recall4\" = rep(0, length(ancom_pd$recall)),\n",
    "                      \"precision4\" = rep(0, length(ancom_pd$recall)),\n",
    "                      \"fpr4\" = rep(0, length(ancom_pd$recall)),\n",
    "                      \"fdr4\" = rep(0, length(ancom_pd$recall)),\n",
    "                      \"F14\" = rep(0, length(ancom_pd$recall)),\n",
    "                         stringsAsFactors = F)"
   ]
  },
  {
   "cell_type": "code",
   "execution_count": 151,
   "id": "00df461f",
   "metadata": {},
   "outputs": [],
   "source": [
    "tdf_pd=cbind(ancom_pd,tmp_df_pd)"
   ]
  },
  {
   "cell_type": "code",
   "execution_count": 42,
   "id": "5405463b",
   "metadata": {},
   "outputs": [],
   "source": [
    "tdfbc2_pd=cbind(ancombc2_pd,tmp_df_pd)"
   ]
  },
  {
   "cell_type": "code",
   "execution_count": 153,
   "id": "77d93a3d",
   "metadata": {},
   "outputs": [],
   "source": [
    "combine_pd=rbind(combine_flashweave_pd,tdf_pd,tdfbc2_pd)"
   ]
  },
  {
   "cell_type": "code",
   "execution_count": 154,
   "id": "c5c244eb",
   "metadata": {},
   "outputs": [],
   "source": [
    "combine_pd <- combine_pd[, c(1, 2,7,12, 3,8,13, 4,9,14, 5,10,15,6,11,16)]"
   ]
  },
  {
   "cell_type": "code",
   "execution_count": 5,
   "id": "bde50653",
   "metadata": {},
   "outputs": [],
   "source": [
    "#combine_pd"
   ]
  },
  {
   "cell_type": "code",
   "execution_count": null,
   "id": "831aea4a",
   "metadata": {},
   "outputs": [],
   "source": []
  },
  {
   "cell_type": "code",
   "execution_count": 46,
   "id": "9d37cb63",
   "metadata": {},
   "outputs": [],
   "source": [
    "ancom_study_12021=read.csv(file = '/home/zakir/from_pendrive/PhD/DAA_benchmark_study/Benchmark_study_makarsa/result/new_result/output_dataframe_ancom_sifm.tsv', sep = '\\t')\n",
    "ancombc2_study_12021=read.csv(file = '/home/zakir/from_pendrive/PhD/DAA_benchmark_study/Benchmark_study_makarsa/result/new_result/output_dataframe_ancombc2_sifm.tsv', sep = '\\t')\n",
    "flashweave_radius4_study_12021<- read.csv(file = '/home/zakir/from_pendrive/PhD/DAA_benchmark_study/Benchmark_study_makarsa/result/new_result/output_dataframe_flashweave_radius4_sifm.tsv', sep = '\\t')\n",
    "flashweave_radius2_study_12021<- read.csv(file = '/home/zakir/from_pendrive/PhD/DAA_benchmark_study/Benchmark_study_makarsa/result/new_result/output_dataframe_flashweave_radius2_sifm.tsv', sep = '\\t')\n",
    "flashweave_radius3_study_12021<- read.csv(file = '/home/zakir/from_pendrive/PhD/DAA_benchmark_study/Benchmark_study_makarsa/result/new_result/output_dataframe_flashweave_radius3_sifm.tsv', sep = '\\t')"
   ]
  },
  {
   "cell_type": "code",
   "execution_count": 47,
   "id": "26cc9c15",
   "metadata": {},
   "outputs": [],
   "source": [
    "flashweave_radius4_study_12021$\"na_precision\"=NULL\n",
    "flashweave_radius2_study_12021$\"na_precision\"=NULL\n",
    "flashweave_radius3_study_12021$\"na_precision\"=NULL\n",
    "ancom_study_12021$\"na_precision\"=NULL\n",
    "ancombc2_study_12021$\"na_precision\"=NULL"
   ]
  },
  {
   "cell_type": "code",
   "execution_count": 48,
   "id": "6d46a6f0",
   "metadata": {},
   "outputs": [],
   "source": [
    "names(flashweave_radius3_study_12021)=c('method3','recall3','precision3','fpr3','fdr3','F13')\n",
    "names(flashweave_radius4_study_12021)=c('method4','recall4','precision4','fpr4','fdr4','F14')"
   ]
  },
  {
   "cell_type": "code",
   "execution_count": 49,
   "id": "48ef4117",
   "metadata": {},
   "outputs": [],
   "source": [
    "combine_flashweave_sifm=cbind(flashweave_radius2_study_12021,flashweave_radius3_study_12021,flashweave_radius4_study_12021)"
   ]
  },
  {
   "cell_type": "code",
   "execution_count": 50,
   "id": "ea801e3e",
   "metadata": {},
   "outputs": [],
   "source": [
    "combine_flashweave_sifm$method3=NULL\n",
    "combine_flashweave_sifm$method4=NULL"
   ]
  },
  {
   "cell_type": "code",
   "execution_count": 51,
   "id": "91657c83",
   "metadata": {},
   "outputs": [],
   "source": [
    "tmp_df_sifm <- data.frame( \"recall3\" = rep(0, length(ancom_study_12021$recall)),\n",
    "                      \"precision3\" = rep(0, length(ancom_study_12021$recall)),\n",
    "                      \"fpr3\" = rep(0, length(ancom_study_12021$recall)),\n",
    "                      \"fdr3\" = rep(0, length(ancom_study_12021$recall)),\n",
    "                      \"F13\" = rep(0, length(ancom_study_12021$recall)),\n",
    "                     \"recall4\" = rep(0, length(ancom_study_12021$recall)),\n",
    "                      \"precision4\" = rep(0, length(ancom_study_12021$recall)),\n",
    "                      \"fpr4\" = rep(0, length(ancom_study_12021$recall)),\n",
    "                      \"fdr4\" = rep(0, length(ancom_study_12021$recall)),\n",
    "                      \"F14\" = rep(0, length(ancom_study_12021$recall)),\n",
    "                         stringsAsFactors = F)"
   ]
  },
  {
   "cell_type": "code",
   "execution_count": 52,
   "id": "3fb9fe74",
   "metadata": {},
   "outputs": [],
   "source": [
    "tdf_sifm=cbind(ancom_study_12021,tmp_df_sifm)"
   ]
  },
  {
   "cell_type": "code",
   "execution_count": 53,
   "id": "3fbd7c38",
   "metadata": {},
   "outputs": [],
   "source": [
    "tdfbc2_sifm=cbind(ancombc2_study_12021,tmp_df_sifm)"
   ]
  },
  {
   "cell_type": "code",
   "execution_count": 54,
   "id": "5d46256a",
   "metadata": {},
   "outputs": [],
   "source": [
    "combine_study_12021=rbind(combine_flashweave_sifm,tdf_sifm,tdfbc2_sifm)"
   ]
  },
  {
   "cell_type": "code",
   "execution_count": 55,
   "id": "0dd714a0",
   "metadata": {},
   "outputs": [],
   "source": [
    "combine_study_12021 <- combine_study_12021[, c(1, 2,7,12, 3,8,13, 4,9,14, 5,10,15,6,11,16)]"
   ]
  },
  {
   "cell_type": "code",
   "execution_count": 56,
   "id": "afe09276",
   "metadata": {},
   "outputs": [],
   "source": [
    "#combine_study_12021"
   ]
  },
  {
   "cell_type": "markdown",
   "id": "11e32e96",
   "metadata": {},
   "source": [
    "### Final Plot"
   ]
  },
  {
   "cell_type": "code",
   "execution_count": 94,
   "id": "e37799bb",
   "metadata": {},
   "outputs": [],
   "source": [
    "precision_recall_df=combine_study_12021\n",
    "#precision_recall_df=combine_american_gut\n",
    "#precision_recall_df=combine_IDB\n",
    "#precision_recall_df=combine_ecam\n",
    "#precision_recall_df=combine_pd"
   ]
  },
  {
   "cell_type": "code",
   "execution_count": null,
   "id": "075eb204",
   "metadata": {},
   "outputs": [],
   "source": []
  },
  {
   "cell_type": "code",
   "execution_count": 95,
   "id": "f62ca498",
   "metadata": {},
   "outputs": [
    {
     "data": {
      "text/html": [
       "<strong>png:</strong> 2"
      ],
      "text/latex": [
       "\\textbf{png:} 2"
      ],
      "text/markdown": [
       "**png:** 2"
      ],
      "text/plain": [
       "png \n",
       "  2 "
      ]
     },
     "metadata": {},
     "output_type": "display_data"
    }
   ],
   "source": [
    "png(\"Box_plot_sifmf.png\")\n",
    "library(ggplot2)\n",
    "library(dplyr)\n",
    "library(forcats) # For releveling factors\n",
    "library(viridis) # For color scales\n",
    "\n",
    "df <- precision_recall_df\n",
    "\n",
    "# Convert the data to a long format for easier plotting with ggplot2\n",
    "df_long <- pivot_longer(df, cols = -c(method), names_to = \"metric\", values_to = \"value\")\n",
    "\n",
    "# Filter the dataframe if necessary, using your custom conditions\n",
    "ibd_long <- df_long %>%\n",
    "  filter(!(method == \"ANCOM-BC2\" & (metric %in% c(\"F13\", \"F14\", \"fdr3\", \"fdr4\", \"fpr3\", \"fpr4\", \"recall3\", \"recall4\", \"precision3\", \"precision4\")))) %>%\n",
    "  filter(!(method == \"ANCOM-BC\" & (metric %in% c(\"F13\", \"F14\", \"fdr3\", \"fdr4\", \"fpr3\", \"fpr4\", \"recall3\", \"recall4\", \"precision3\", \"precision4\"))))\n",
    "\n",
    "# Adding a 'radius' column based on the conditions provided\n",
    "ibd_long <- ibd_long %>%\n",
    "  mutate(radius = ifelse(method == \"FlashWeave\",\n",
    "                         ifelse(grepl(\"3$\", metric), \" radius 3\", \n",
    "                         ifelse(grepl(\"4$\", metric), \" radius 4\", \" radius 2\")),\n",
    "                         \"\"))\n",
    "\n",
    "# Removing trailing 3s or 4s from the metric column\n",
    "ibd_long$metric <- gsub(\"3$\", \"\", gsub(\"4$\", \"\", ibd_long$metric))\n",
    "\n",
    "# Reordering the levels of metric to ensure correct order in the plot\n",
    "ibd_long$metric <- fct_relevel(ibd_long$metric, \"F1\", \"precision\", \"recall\", \"fdr\", \"fpr\")\n",
    "\n",
    "# Now plot the data using ggplot2 with viridis color scale\n",
    "ggplot(ibd_long, aes(x = metric, y = value, fill = interaction(method, radius, sep = \"\"))) +\n",
    "  geom_boxplot() +\n",
    "  scale_fill_viridis_d() +\n",
    "  theme(\n",
    "    axis.title.x = element_text(face = \"bold\", size = 12), \n",
    "    axis.title.y = element_text(face = \"bold\", size = 12), \n",
    "    axis.text.x = element_text(face = \"bold\", size = 12 ,angle = 45, hjust = 1),  \n",
    "    axis.text.y = element_text(face = \"bold\", size = 12),  \n",
    "    plot.title = element_text(face = \"bold\", size = 14)    \n",
    "  )+\n",
    " # theme(axis.text.x = element_text(angle = 45, hjust = 1)) +\n",
    "  labs(x = \"Metric\", y = \"Value\", fill = \"Method & Radius\", title = \"         Performance evaluation on SIFM data.\",)\n",
    "dev.off()"
   ]
  },
  {
   "cell_type": "code",
   "execution_count": 96,
   "id": "3789a0d3",
   "metadata": {},
   "outputs": [],
   "source": [
    "#precision_recall_df=combine_study_12021\n",
    "precision_recall_df=combine_american_gut\n",
    "#precision_recall_df=combine_IDB\n",
    "#precision_recall_df=combine_ecam\n",
    "#precision_recall_df=combine_pd"
   ]
  },
  {
   "cell_type": "code",
   "execution_count": 97,
   "id": "276748f1",
   "metadata": {},
   "outputs": [
    {
     "data": {
      "text/html": [
       "<strong>png:</strong> 2"
      ],
      "text/latex": [
       "\\textbf{png:} 2"
      ],
      "text/markdown": [
       "**png:** 2"
      ],
      "text/plain": [
       "png \n",
       "  2 "
      ]
     },
     "metadata": {},
     "output_type": "display_data"
    }
   ],
   "source": [
    "png(\"Box_plot_american_gutf.png\")\n",
    "library(ggplot2)\n",
    "library(dplyr)\n",
    "library(forcats) # For releveling factors\n",
    "library(viridis) # For color scales\n",
    "\n",
    "df <- precision_recall_df\n",
    "\n",
    "# Convert the data to a long format for easier plotting with ggplot2\n",
    "df_long <- pivot_longer(df, cols = -c(method), names_to = \"metric\", values_to = \"value\")\n",
    "\n",
    "# Filter the dataframe if necessary, using your custom conditions\n",
    "ibd_long <- df_long %>%\n",
    "  filter(!(method == \"ANCOM-BC2\" & (metric %in% c(\"F13\", \"F14\", \"fdr3\", \"fdr4\", \"fpr3\", \"fpr4\", \"recall3\", \"recall4\", \"precision3\", \"precision4\")))) %>%\n",
    "  filter(!(method == \"ANCOM-BC\" & (metric %in% c(\"F13\", \"F14\", \"fdr3\", \"fdr4\", \"fpr3\", \"fpr4\", \"recall3\", \"recall4\", \"precision3\", \"precision4\"))))\n",
    "\n",
    "# Adding a 'radius' column based on the conditions provided\n",
    "ibd_long <- ibd_long %>%\n",
    "  mutate(radius = ifelse(method == \"FlashWeave\",\n",
    "                         ifelse(grepl(\"3$\", metric), \" radius 3\", \n",
    "                         ifelse(grepl(\"4$\", metric), \" radius 4\", \" radius 2\")),\n",
    "                         \"\"))\n",
    "\n",
    "# Removing trailing 3s or 4s from the metric column\n",
    "ibd_long$metric <- gsub(\"3$\", \"\", gsub(\"4$\", \"\", ibd_long$metric))\n",
    "\n",
    "# Reordering the levels of metric to ensure correct order in the plot\n",
    "ibd_long$metric <- fct_relevel(ibd_long$metric, \"F1\", \"precision\", \"recall\", \"fdr\", \"fpr\")\n",
    "\n",
    "# Now plot the data using ggplot2 with viridis color scale\n",
    "ggplot(ibd_long, aes(x = metric, y = value, fill = interaction(method, radius, sep = \"\"))) +\n",
    "  geom_boxplot() +\n",
    "  scale_fill_viridis_d() +\n",
    "  theme(\n",
    "    axis.title.x = element_text(face = \"bold\", size = 12), \n",
    "    axis.title.y = element_text(face = \"bold\", size = 12), \n",
    "    axis.text.x = element_text(face = \"bold\", size = 12 ,angle = 45, hjust = 1),  \n",
    "    axis.text.y = element_text(face = \"bold\", size = 12),  \n",
    "    plot.title = element_text(face = \"bold\", size = 14)    \n",
    "  )+\n",
    " # theme(axis.text.x = element_text(angle = 45, hjust = 1)) +\n",
    "  labs(x = \"Metric\", y = \"Value\", fill = \"Method & Radius\", title = \"  Performance evaluation on American gut data.\",)\n",
    "dev.off()"
   ]
  },
  {
   "cell_type": "code",
   "execution_count": 98,
   "id": "ddab767c",
   "metadata": {},
   "outputs": [],
   "source": [
    "#precision_recall_df=combine_study_12021\n",
    "#precision_recall_df=combine_american_gut\n",
    "precision_recall_df=combine_IDB\n",
    "#precision_recall_df=combine_ecam\n",
    "#precision_recall_df=combine_pd"
   ]
  },
  {
   "cell_type": "code",
   "execution_count": 99,
   "id": "3d8cc56d",
   "metadata": {},
   "outputs": [
    {
     "data": {
      "text/html": [
       "<strong>png:</strong> 2"
      ],
      "text/latex": [
       "\\textbf{png:} 2"
      ],
      "text/markdown": [
       "**png:** 2"
      ],
      "text/plain": [
       "png \n",
       "  2 "
      ]
     },
     "metadata": {},
     "output_type": "display_data"
    }
   ],
   "source": [
    "png(\"Box_plot_ibdf.png\")\n",
    "library(ggplot2)\n",
    "library(dplyr)\n",
    "library(forcats) # For releveling factors\n",
    "library(viridis) # For color scales\n",
    "\n",
    "df <- precision_recall_df\n",
    "\n",
    "# Convert the data to a long format for easier plotting with ggplot2\n",
    "df_long <- pivot_longer(df, cols = -c(method), names_to = \"metric\", values_to = \"value\")\n",
    "\n",
    "# Filter the dataframe if necessary, using your custom conditions\n",
    "ibd_long <- df_long %>%\n",
    "  filter(!(method == \"ANCOM-BC2\" & (metric %in% c(\"F13\", \"F14\", \"fdr3\", \"fdr4\", \"fpr3\", \"fpr4\", \"recall3\", \"recall4\", \"precision3\", \"precision4\")))) %>%\n",
    "  filter(!(method == \"ANCOM-BC\" & (metric %in% c(\"F13\", \"F14\", \"fdr3\", \"fdr4\", \"fpr3\", \"fpr4\", \"recall3\", \"recall4\", \"precision3\", \"precision4\"))))\n",
    "\n",
    "# Adding a 'radius' column based on the conditions provided\n",
    "ibd_long <- ibd_long %>%\n",
    "  mutate(radius = ifelse(method == \"FlashWeave\",\n",
    "                         ifelse(grepl(\"3$\", metric), \" radius 3\", \n",
    "                         ifelse(grepl(\"4$\", metric), \" radius 4\", \" radius 2\")),\n",
    "                         \"\"))\n",
    "\n",
    "# Removing trailing 3s or 4s from the metric column\n",
    "ibd_long$metric <- gsub(\"3$\", \"\", gsub(\"4$\", \"\", ibd_long$metric))\n",
    "\n",
    "# Reordering the levels of metric to ensure correct order in the plot\n",
    "ibd_long$metric <- fct_relevel(ibd_long$metric, \"F1\", \"precision\", \"recall\", \"fdr\", \"fpr\")\n",
    "\n",
    "# Now plot the data using ggplot2 with viridis color scale\n",
    "ggplot(ibd_long, aes(x = metric, y = value, fill = interaction(method, radius, sep = \"\"))) +\n",
    "  geom_boxplot() +\n",
    "  scale_fill_viridis_d() +\n",
    "  theme(\n",
    "    axis.title.x = element_text(face = \"bold\", size = 12), \n",
    "    axis.title.y = element_text(face = \"bold\", size = 12), \n",
    "    axis.text.x = element_text(face = \"bold\", size = 12 ,angle = 45, hjust = 1),  \n",
    "    axis.text.y = element_text(face = \"bold\", size = 12),  \n",
    "    plot.title = element_text(face = \"bold\", size = 14)    \n",
    "  )+\n",
    " # theme(axis.text.x = element_text(angle = 45, hjust = 1)) +\n",
    "  labs(x = \"Metric\", y = \"Value\", fill = \"Method & Radius\", title = \"        Performance evaluation on IBD data.\",)\n",
    "dev.off()"
   ]
  },
  {
   "cell_type": "code",
   "execution_count": 100,
   "id": "011353bb",
   "metadata": {},
   "outputs": [],
   "source": [
    "\n",
    "#precision_recall_df=combine_study_12021\n",
    "#precision_recall_df=combine_american_gut\n",
    "#precision_recall_df=combine_IDB\n",
    "precision_recall_df=combine_ecam\n",
    "#precision_recall_df=combine_pd\n"
   ]
  },
  {
   "cell_type": "code",
   "execution_count": 101,
   "id": "ab146407",
   "metadata": {},
   "outputs": [
    {
     "data": {
      "text/html": [
       "<strong>png:</strong> 2"
      ],
      "text/latex": [
       "\\textbf{png:} 2"
      ],
      "text/markdown": [
       "**png:** 2"
      ],
      "text/plain": [
       "png \n",
       "  2 "
      ]
     },
     "metadata": {},
     "output_type": "display_data"
    }
   ],
   "source": [
    "png(\"Box_plot_ecamf.png\")\n",
    "library(ggplot2)\n",
    "library(dplyr)\n",
    "library(forcats) # For releveling factors\n",
    "library(viridis) # For color scales\n",
    "\n",
    "df <- precision_recall_df\n",
    "\n",
    "# Convert the data to a long format for easier plotting with ggplot2\n",
    "df_long <- pivot_longer(df, cols = -c(method), names_to = \"metric\", values_to = \"value\")\n",
    "\n",
    "# Filter the dataframe if necessary, using your custom conditions\n",
    "ibd_long <- df_long %>%\n",
    "  filter(!(method == \"ANCOM-BC2\" & (metric %in% c(\"F13\", \"F14\", \"fdr3\", \"fdr4\", \"fpr3\", \"fpr4\", \"recall3\", \"recall4\", \"precision3\", \"precision4\")))) %>%\n",
    "  filter(!(method == \"ANCOM-BC\" & (metric %in% c(\"F13\", \"F14\", \"fdr3\", \"fdr4\", \"fpr3\", \"fpr4\", \"recall3\", \"recall4\", \"precision3\", \"precision4\"))))\n",
    "\n",
    "# Adding a 'radius' column based on the conditions provided\n",
    "ibd_long <- ibd_long %>%\n",
    "  mutate(radius = ifelse(method == \"FlashWeave\",\n",
    "                         ifelse(grepl(\"3$\", metric), \" radius 3\", \n",
    "                         ifelse(grepl(\"4$\", metric), \" radius 4\", \" radius 2\")),\n",
    "                         \"\"))\n",
    "\n",
    "# Removing trailing 3s or 4s from the metric column\n",
    "ibd_long$metric <- gsub(\"3$\", \"\", gsub(\"4$\", \"\", ibd_long$metric))\n",
    "\n",
    "# Reordering the levels of metric to ensure correct order in the plot\n",
    "ibd_long$metric <- fct_relevel(ibd_long$metric, \"F1\", \"precision\", \"recall\", \"fdr\", \"fpr\")\n",
    "\n",
    "# Now plot the data using ggplot2 with viridis color scale\n",
    "ggplot(ibd_long, aes(x = metric, y = value, fill = interaction(method, radius, sep = \"\"))) +\n",
    "  geom_boxplot() +\n",
    "  scale_fill_viridis_d() +\n",
    "  theme(\n",
    "    axis.title.x = element_text(face = \"bold\", size = 12), \n",
    "    axis.title.y = element_text(face = \"bold\", size = 12), \n",
    "    axis.text.x = element_text(face = \"bold\", size = 12 ,angle = 45, hjust = 1),  \n",
    "    axis.text.y = element_text(face = \"bold\", size = 12),  \n",
    "    plot.title = element_text(face = \"bold\", size = 14)    \n",
    "  )+\n",
    " # theme(axis.text.x = element_text(angle = 45, hjust = 1)) +\n",
    "  labs(x = \"Metric\", y = \"Value\", fill = \"Method & Radius\", title = \"        Performance evaluation on ECAM data.\",)\n",
    "dev.off()"
   ]
  },
  {
   "cell_type": "code",
   "execution_count": 130,
   "id": "164fb412",
   "metadata": {},
   "outputs": [],
   "source": []
  },
  {
   "cell_type": "code",
   "execution_count": 129,
   "id": "d4c10804",
   "metadata": {},
   "outputs": [],
   "source": []
  },
  {
   "cell_type": "code",
   "execution_count": null,
   "id": "c9b57f26",
   "metadata": {},
   "outputs": [],
   "source": []
  },
  {
   "cell_type": "code",
   "execution_count": 156,
   "id": "44fd5de7",
   "metadata": {},
   "outputs": [],
   "source": [
    "#precision_recall_df=combine_study_12021\n",
    "#precision_recall_df=combine_american_gut\n",
    "#precision_recall_df=combine_IDB\n",
    "#precision_recall_df=combine_ecam\n",
    "precision_recall_df=combine_pd\n",
    "\n"
   ]
  },
  {
   "cell_type": "code",
   "execution_count": 158,
   "id": "ab89a75d",
   "metadata": {},
   "outputs": [
    {
     "data": {
      "text/html": [
       "<strong>png:</strong> 2"
      ],
      "text/latex": [
       "\\textbf{png:} 2"
      ],
      "text/markdown": [
       "**png:** 2"
      ],
      "text/plain": [
       "png \n",
       "  2 "
      ]
     },
     "metadata": {},
     "output_type": "display_data"
    }
   ],
   "source": [
    "png(\"Box_plot_pdff.png\")\n",
    "library(ggplot2)\n",
    "library(dplyr)\n",
    "library(forcats) # For releveling factors\n",
    "library(viridis) # For color scales\n",
    "\n",
    "df <- precision_recall_df\n",
    "\n",
    "# Convert the data to a long format for easier plotting with ggplot2\n",
    "df_long <- pivot_longer(df, cols = -c(method), names_to = \"metric\", values_to = \"value\")\n",
    "\n",
    "# Filter the dataframe if necessary, using your custom conditions\n",
    "ibd_long <- df_long %>%\n",
    "  filter(!(method == \"ANCOM-BC2\" & (metric %in% c(\"F13\", \"F14\", \"fdr3\", \"fdr4\", \"fpr3\", \"fpr4\", \"recall3\", \"recall4\", \"precision3\", \"precision4\")))) %>%\n",
    "  filter(!(method == \"ANCOM-BC\" & (metric %in% c(\"F13\", \"F14\", \"fdr3\", \"fdr4\", \"fpr3\", \"fpr4\", \"recall3\", \"recall4\", \"precision3\", \"precision4\"))))\n",
    "\n",
    "# Adding a 'radius' column based on the conditions provided\n",
    "ibd_long <- ibd_long %>%\n",
    "  mutate(radius = ifelse(method == \"FlashWeave\",\n",
    "                         ifelse(grepl(\"3$\", metric), \" radius 3\", \n",
    "                         ifelse(grepl(\"4$\", metric), \" radius 4\", \" radius 2\")),\n",
    "                         \"\"))\n",
    "\n",
    "# Removing trailing 3s or 4s from the metric column\n",
    "ibd_long$metric <- gsub(\"3$\", \"\", gsub(\"4$\", \"\", ibd_long$metric))\n",
    "\n",
    "# Reordering the levels of metric to ensure correct order in the plot\n",
    "ibd_long$metric <- fct_relevel(ibd_long$metric, \"F1\", \"precision\", \"recall\", \"fdr\", \"fpr\")\n",
    "\n",
    "# Now plot the data using ggplot2 with viridis color scale\n",
    "ggplot(ibd_long, aes(x = metric, y = value, fill = interaction(method, radius, sep = \"\"))) +\n",
    "  geom_boxplot() +\n",
    "  scale_fill_viridis_d() +\n",
    "  theme(\n",
    "    axis.title.x = element_text(face = \"bold\", size = 12), \n",
    "    axis.title.y = element_text(face = \"bold\", size = 12), \n",
    "    axis.text.x = element_text(face = \"bold\", size = 12 ,angle = 45, hjust = 1),  \n",
    "    axis.text.y = element_text(face = \"bold\", size = 12),  \n",
    "    plot.title = element_text(face = \"bold\", size = 14)    \n",
    "  )+\n",
    " # theme(axis.text.x = element_text(angle = 45, hjust = 1)) +\n",
    "  labs(x = \"Metric\", y = \"Value\", fill = \"Method & Radius\", title = \"            Performance evaluation on PD data.\",)\n",
    "dev.off()"
   ]
  },
  {
   "cell_type": "code",
   "execution_count": 160,
   "id": "b3efafb5",
   "metadata": {},
   "outputs": [
    {
     "data": {
      "text/html": [
       "'/home/zakir/from_pendrive/PhD/DAA_benchmark_study/qiime2_benchmark'"
      ],
      "text/latex": [
       "'/home/zakir/from\\_pendrive/PhD/DAA\\_benchmark\\_study/qiime2\\_benchmark'"
      ],
      "text/markdown": [
       "'/home/zakir/from_pendrive/PhD/DAA_benchmark_study/qiime2_benchmark'"
      ],
      "text/plain": [
       "[1] \"/home/zakir/from_pendrive/PhD/DAA_benchmark_study/qiime2_benchmark\""
      ]
     },
     "metadata": {},
     "output_type": "display_data"
    }
   ],
   "source": [
    "getwd()"
   ]
  },
  {
   "cell_type": "markdown",
   "id": "f72ad89c",
   "metadata": {},
   "source": [
    "### t-test"
   ]
  },
  {
   "cell_type": "code",
   "execution_count": 100,
   "id": "50f1b64e",
   "metadata": {},
   "outputs": [],
   "source": [
    "df=combine_study_12021"
   ]
  },
  {
   "cell_type": "code",
   "execution_count": 67,
   "id": "35fa4524",
   "metadata": {},
   "outputs": [],
   "source": [
    "#df"
   ]
  },
  {
   "cell_type": "code",
   "execution_count": 105,
   "id": "3fa2f40f",
   "metadata": {},
   "outputs": [],
   "source": [
    "precision_recall_df=combine_study_12021\n",
    "#precision_recall_df=combine_american_gut\n",
    "#precision_recall_df=combine_IBD\n",
    "#precision_recall_df=combine_ecam\n",
    "#precision_recall_df=combine_pd"
   ]
  },
  {
   "cell_type": "code",
   "execution_count": null,
   "id": "9b1b2a10",
   "metadata": {},
   "outputs": [],
   "source": []
  },
  {
   "cell_type": "code",
   "execution_count": 82,
   "id": "78d1201e",
   "metadata": {},
   "outputs": [
    {
     "name": "stdout",
     "output_type": "stream",
     "text": [
      "      Dataset    Method1   Method2    Metric    T_Value      P_Value\n",
      "         SIFM FlashWeave  ANCOM-BC    recall  3.3918487 6.189076e-03\n",
      "         SIFM FlashWeave ANCOM-BC2    recall  5.5197847 3.072692e-04\n",
      "         SIFM   ANCOM-BC ANCOM-BC2    recall  4.0024468 1.215161e-03\n",
      "         SIFM FlashWeave  ANCOM-BC precision -0.2333340 8.188469e-01\n",
      "         SIFM FlashWeave ANCOM-BC2 precision -0.6542939 5.288652e-01\n",
      "         SIFM   ANCOM-BC ANCOM-BC2 precision -0.5218486 6.125029e-01\n",
      "         SIFM FlashWeave  ANCOM-BC       fpr  3.0248496 1.380608e-02\n",
      "         SIFM FlashWeave ANCOM-BC2       fpr  4.8667543 1.135067e-03\n",
      "         SIFM   ANCOM-BC ANCOM-BC2       fpr  5.5628575 1.679536e-04\n",
      "         SIFM FlashWeave  ANCOM-BC       fdr  0.2333340 8.188469e-01\n",
      "         SIFM FlashWeave ANCOM-BC2       fdr  0.6542939 5.288652e-01\n",
      "         SIFM   ANCOM-BC ANCOM-BC2       fdr  0.5218486 6.125029e-01\n",
      "         SIFM FlashWeave  ANCOM-BC        F1  3.6942294 2.456886e-03\n",
      "         SIFM FlashWeave ANCOM-BC2        F1  6.8178241 1.599595e-05\n",
      "         SIFM   ANCOM-BC ANCOM-BC2        F1  3.9241798 1.282339e-03\n",
      " American_gut FlashWeave  ANCOM-BC    recall  2.8825461 9.528796e-03\n",
      " American_gut FlashWeave ANCOM-BC2    recall  3.7192723 1.831467e-03\n",
      " American_gut   ANCOM-BC ANCOM-BC2    recall  1.7125530 1.002045e-01\n",
      " American_gut FlashWeave  ANCOM-BC precision  0.8171985 4.210162e-01\n",
      " American_gut FlashWeave ANCOM-BC2 precision -0.3382988 7.382993e-01\n",
      " American_gut   ANCOM-BC ANCOM-BC2 precision -0.8948860 3.786217e-01\n",
      " American_gut FlashWeave  ANCOM-BC       fpr  2.2729158 3.615403e-02\n",
      " American_gut FlashWeave ANCOM-BC2       fpr  2.8990262 1.073934e-02\n",
      " American_gut   ANCOM-BC ANCOM-BC2       fpr  1.9060365 7.022598e-02\n",
      " American_gut FlashWeave  ANCOM-BC       fdr -0.8171985 4.210162e-01\n",
      " American_gut FlashWeave ANCOM-BC2       fdr  0.3382988 7.382993e-01\n",
      " American_gut   ANCOM-BC ANCOM-BC2       fdr  0.8948860 3.786217e-01\n",
      " American_gut FlashWeave  ANCOM-BC        F1  3.7561139 8.740974e-04\n",
      " American_gut FlashWeave ANCOM-BC2        F1  5.4567547 2.183627e-05\n",
      " American_gut   ANCOM-BC ANCOM-BC2        F1  1.8110336 8.169894e-02\n",
      "          IBD FlashWeave  ANCOM-BC    recall  8.9625873 2.868840e-06\n",
      "          IBD FlashWeave ANCOM-BC2    recall 10.9554439 1.073216e-06\n",
      "          IBD   ANCOM-BC ANCOM-BC2    recall  3.4873127 3.353682e-03\n",
      "          IBD FlashWeave  ANCOM-BC precision  0.2854740 7.791571e-01\n",
      "          IBD FlashWeave ANCOM-BC2 precision -2.0055253 7.150660e-02\n",
      "          IBD   ANCOM-BC ANCOM-BC2 precision -2.0875382 5.910808e-02\n",
      "          IBD FlashWeave  ANCOM-BC       fpr  7.9311052 1.922813e-05\n",
      "          IBD FlashWeave ANCOM-BC2       fpr  9.8817953 4.806004e-06\n",
      "          IBD   ANCOM-BC ANCOM-BC2       fpr  5.1291248 1.260058e-04\n",
      "          IBD FlashWeave  ANCOM-BC       fdr -0.2854740 7.791571e-01\n",
      "          IBD FlashWeave ANCOM-BC2       fdr  2.0055253 7.150660e-02\n",
      "          IBD   ANCOM-BC ANCOM-BC2       fdr  2.0875382 5.910808e-02\n",
      "          IBD FlashWeave  ANCOM-BC        F1 10.8510098 1.577199e-08\n",
      "          IBD FlashWeave ANCOM-BC2        F1 14.3313185 9.043779e-10\n",
      "          IBD   ANCOM-BC ANCOM-BC2        F1  3.4208203 3.591676e-03\n",
      "         ECAM FlashWeave  ANCOM-BC    recall  3.1952954 5.850767e-03\n",
      "         ECAM FlashWeave ANCOM-BC2    recall  4.4706727 7.235549e-04\n",
      "         ECAM   ANCOM-BC ANCOM-BC2    recall  2.7163942 1.680320e-02\n",
      "         ECAM FlashWeave  ANCOM-BC precision  5.3509169 3.325870e-05\n",
      "         ECAM FlashWeave ANCOM-BC2 precision  2.4720219 2.607339e-02\n",
      "         ECAM   ANCOM-BC ANCOM-BC2 precision -0.8572706 4.018511e-01\n",
      "         ECAM FlashWeave  ANCOM-BC       fpr  2.6213301 1.755549e-02\n",
      "         ECAM FlashWeave ANCOM-BC2       fpr  4.7703517 3.593259e-04\n",
      "         ECAM   ANCOM-BC ANCOM-BC2       fpr  3.6251022 2.218121e-03\n",
      "         ECAM FlashWeave  ANCOM-BC       fdr -5.3509169 3.325870e-05\n",
      "         ECAM FlashWeave ANCOM-BC2       fdr -2.4720219 2.607339e-02\n",
      "         ECAM   ANCOM-BC ANCOM-BC2       fdr  0.8572706 4.018511e-01\n",
      "         ECAM FlashWeave  ANCOM-BC        F1  3.6661908 1.790268e-03\n",
      "         ECAM FlashWeave ANCOM-BC2        F1  5.5751990 9.807756e-05\n",
      "         ECAM   ANCOM-BC ANCOM-BC2        F1  2.8716376 1.185851e-02\n",
      "           PD FlashWeave  ANCOM-BC    recall  2.5082677 3.090103e-02\n",
      "           PD FlashWeave ANCOM-BC2    recall  3.0167739 1.374095e-02\n",
      "           PD   ANCOM-BC ANCOM-BC2    recall  1.6319635 1.224492e-01\n",
      "           PD FlashWeave  ANCOM-BC precision  1.3643024 1.928055e-01\n",
      "           PD FlashWeave ANCOM-BC2 precision -1.7698688 1.019216e-01\n",
      "           PD   ANCOM-BC ANCOM-BC2 precision -2.4878736 2.422743e-02\n",
      "           PD FlashWeave  ANCOM-BC       fpr  2.1976123 5.245078e-02\n",
      "           PD FlashWeave ANCOM-BC2       fpr  3.0355725 1.404314e-02\n",
      "           PD   ANCOM-BC ANCOM-BC2       fpr  3.1055591 1.152963e-02\n",
      "           PD FlashWeave  ANCOM-BC       fdr -1.3643024 1.928055e-01\n",
      "           PD FlashWeave ANCOM-BC2       fdr  1.7698688 1.019216e-01\n",
      "           PD   ANCOM-BC ANCOM-BC2       fdr  2.4878736 2.422743e-02\n",
      "           PD FlashWeave  ANCOM-BC        F1  3.1964372 7.461660e-03\n",
      "           PD FlashWeave ANCOM-BC2        F1  4.1429089 1.632421e-03\n",
      "           PD   ANCOM-BC ANCOM-BC2        F1  1.6028551 1.274879e-01\n"
     ]
    }
   ],
   "source": [
    "# List of datasets and their names\n",
    "datasets <- list(combine_study_12021, combine_american_gut, combine_IDB, combine_ecam, combine_pd)\n",
    "dataset_names <- c(\"SIFM\", \"American_gut\", \"IBD\", \"ECAM\", \"PD\")\n",
    "\n",
    "# List of metrics\n",
    "metrics <- c(\"recall\", \"precision\", \"fpr\", \"fdr\", \"F1\")\n",
    "\n",
    "# Initialize an empty data frame to store the results\n",
    "results <- data.frame(Dataset = character(),\n",
    "                      Method1 = character(),\n",
    "                      Method2 = character(),\n",
    "                      Metric = character(),\n",
    "                      T_Value = numeric(),\n",
    "                      P_Value = numeric(),\n",
    "                      stringsAsFactors = FALSE)\n",
    "\n",
    "# Perform t-tests for each dataset and metric\n",
    "for (d in seq_along(datasets)) {\n",
    "    dataset <- datasets[[d]]\n",
    "    dataset_name <- dataset_names[d]\n",
    "  \n",
    "  for (metric in metrics) {\n",
    "  \n",
    "    # Perform t-test for each pair of methods\n",
    "    unique_methods <- unique(dataset$method)\n",
    "    for (i in 1:(length(unique_methods) - 1)) {\n",
    "      for (j in (i + 1):length(unique_methods)) {\n",
    "        method1 <- unique_methods[i]\n",
    "        method2 <- unique_methods[j]\n",
    "        values1 <- dataset[dataset$method == method1, metric]\n",
    "        values2 <- dataset[dataset$method == method2, metric]\n",
    "\n",
    "        # Perform t-test\n",
    "        t_test <- t.test(values1, values2)\n",
    "\n",
    "        # Store results in the data frame\n",
    "        results <- rbind(results, data.frame(Dataset = dataset_name,\n",
    "                                             Method1 = method1,\n",
    "                                             Method2 = method2,\n",
    "                                             Metric = metric,\n",
    "                                             T_Value = t_test$statistic,\n",
    "                                             P_Value = t_test$p.value))\n",
    "      }\n",
    "    }\n",
    "  }\n",
    "}\n",
    "\n",
    "# Display the results\n",
    "print(results,row.names = FALSE)\n",
    "\n"
   ]
  },
  {
   "cell_type": "code",
   "execution_count": null,
   "id": "4fac7e52",
   "metadata": {},
   "outputs": [],
   "source": []
  },
  {
   "cell_type": "code",
   "execution_count": null,
   "id": "673a1d7e",
   "metadata": {},
   "outputs": [],
   "source": []
  },
  {
   "cell_type": "code",
   "execution_count": null,
   "id": "be6da443",
   "metadata": {},
   "outputs": [],
   "source": []
  }
 ],
 "metadata": {
  "kernelspec": {
   "display_name": "R",
   "language": "R",
   "name": "ir"
  },
  "language_info": {
   "codemirror_mode": "r",
   "file_extension": ".r",
   "mimetype": "text/x-r-source",
   "name": "R",
   "pygments_lexer": "r",
   "version": "4.2.2"
  }
 },
 "nbformat": 4,
 "nbformat_minor": 5
}
