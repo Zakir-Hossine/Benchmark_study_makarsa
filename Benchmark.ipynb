{
 "cells": [
  {
   "cell_type": "code",
   "execution_count": 1,
   "id": "c6c1b151",
   "metadata": {},
   "outputs": [],
   "source": [
    "#load the library for data simulator\n",
    "library(GUniFrac)"
   ]
  },
  {
   "cell_type": "markdown",
   "id": "8c9088c5",
   "metadata": {},
   "source": [
    "### Simulation"
   ]
  },
  {
   "cell_type": "code",
   "execution_count": null,
   "id": "c559c082",
   "metadata": {},
   "outputs": [],
   "source": []
  },
  {
   "cell_type": "code",
   "execution_count": 3,
   "id": "be07a908",
   "metadata": {},
   "outputs": [],
   "source": [
    "# Specify the location of original data and read it\n",
    "# continue all steps from the following cell untill saving the simulated data\n",
    "# each time select a perticular data and its corresponding line of code from each cell."
   ]
  },
  {
   "cell_type": "code",
   "execution_count": 2,
   "id": "d258264b",
   "metadata": {},
   "outputs": [],
   "source": [
    "#ecam dataframe\n",
    "#file_paths <- c(\"data/ecam_tutorial/ecam_otu.tsv\")\n",
    "#pd dataframe\n",
    "file_paths <- c(\"data/PD/pd_otu.tsv\")\n",
    "#american_gut dataframe\n",
    "#file_paths <- c(\"data/american_gut/american_gut_otu.tsv\")\n",
    "#IDB dataframe\n",
    "#file_paths <- c(\"data/IBD/ibd_otu.tsv\")\n",
    "#Study_12021\n",
    "#file_paths <- c(\"data/SIFM/sifm_otu.tsv\")\n",
    "\n",
    "list_of_dfs <- lapply(file_paths, function(file) read.table(file, sep = '\\t', header=TRUE, row.names=1))"
   ]
  },
  {
   "cell_type": "code",
   "execution_count": 3,
   "id": "b2258e9a",
   "metadata": {},
   "outputs": [],
   "source": [
    "\n"
   ]
  },
  {
   "cell_type": "code",
   "execution_count": null,
   "id": "906d9b4e",
   "metadata": {},
   "outputs": [],
   "source": []
  },
  {
   "cell_type": "code",
   "execution_count": 4,
   "id": "10bb825a",
   "metadata": {},
   "outputs": [],
   "source": [
    "\n",
    "# Specify the number of features you want to include in your simulated data respectively"
   ]
  },
  {
   "cell_type": "code",
   "execution_count": 3,
   "id": "4bce9351",
   "metadata": {},
   "outputs": [],
   "source": [
    "#sample_size=list(length(rownames(list_of_dfs$ecam)),length(rownames(list_of_dfs$pd)))\n",
    "sample_size=list(1000,2000,3000,4050,5100,6150,7200,8000,9000,10000) # for pd dataframe\n",
    "#sample_size=list(1000,2000,3000,4000,5000,6000,7000,8000,9000,10000,11000,12000,13000) # for ecam dataframe\n",
    "#sample_size=list(4000,5000,6000,6500,7000,7500,8000,8500,9000) # for IDB dataframe\n",
    "#sample_size=list(1000,1100,1200,1400,1600,1700,1800,1900,2500) # for study_12021\n",
    "#sample_size=list(1200,2500,3000,4500,5500,6500,7500,8400,9500,11000,12000,13000,14000,15000,16000,17000) # for for american_gut dataframe"
   ]
  },
  {
   "cell_type": "code",
   "execution_count": null,
   "id": "4c07bf4e",
   "metadata": {},
   "outputs": [],
   "source": []
  },
  {
   "cell_type": "code",
   "execution_count": 79,
   "id": "2aa61888",
   "metadata": {},
   "outputs": [],
   "source": []
  },
  {
   "cell_type": "code",
   "execution_count": null,
   "id": "4dfb7be1",
   "metadata": {},
   "outputs": [],
   "source": [
    "# provide the value of nSam in accordance to the number of sample you want to take in your simulated data.\n",
    "#we use fixed value for nSam for a particular data.\n",
    "#number of sample used for data simulation for different data\n",
    "#american_gut=500\n",
    "#pd=350\n",
    "#ecam=400\n",
    "#sifm=250\n",
    "#ibd=600 \n"
   ]
  },
  {
   "cell_type": "code",
   "execution_count": 8,
   "id": "5e9c0a95",
   "metadata": {},
   "outputs": [
    {
     "name": "stderr",
     "output_type": "stream",
     "text": [
      "Iteration 1: Log-likelihood value: -10863193.8317842\n",
      "\n",
      "Iteration 2: Log-likelihood value: -10847703.7855286\n",
      "\n",
      "Iteration 3: Log-likelihood value: -10830091.22304\n",
      "\n",
      "Iteration 4: Log-likelihood value: -10815036.548357\n",
      "\n",
      "Iteration 5: Log-likelihood value: -10802855.2656361\n",
      "\n",
      "Iteration 6: Log-likelihood value: -10793708.6491659\n",
      "\n",
      "Iteration 7: Log-likelihood value: -10787626.953565\n",
      "\n",
      "Iteration 8: Log-likelihood value: -10784234.2114724\n",
      "\n",
      "Iteration 9: Log-likelihood value: -10782859.5488924\n",
      "\n",
      "Iteration 10: Log-likelihood value: -10782517.5927466\n",
      "\n",
      "Iteration 11: Log-likelihood value: -10782473.4371145\n",
      "\n",
      "Iteration 12: Log-likelihood value: -10782466.3327243\n",
      "\n",
      "Iteration 13: Log-likelihood value: -10782462.9383482\n",
      "\n",
      "Iteration 14: Log-likelihood value: -10782461.668298\n",
      "\n",
      "Iteration 15: Log-likelihood value: -10782461.4639633\n",
      "\n",
      "Iteration 16: Log-likelihood value: -10782461.4531894\n",
      "\n",
      "Iteration 17: Log-likelihood value: -10782461.4528378\n",
      "\n",
      "Iteration 18: Log-likelihood value: -10782461.452829\n",
      "\n",
      "Iteration 1: Log-likelihood value: -10863193.8317842\n",
      "\n",
      "Iteration 2: Log-likelihood value: -10847703.7855286\n",
      "\n",
      "Iteration 3: Log-likelihood value: -10830091.22304\n",
      "\n",
      "Iteration 4: Log-likelihood value: -10815036.548357\n",
      "\n",
      "Iteration 5: Log-likelihood value: -10802855.2656361\n",
      "\n",
      "Iteration 6: Log-likelihood value: -10793708.6491659\n",
      "\n",
      "Iteration 7: Log-likelihood value: -10787626.953565\n",
      "\n",
      "Iteration 8: Log-likelihood value: -10784234.2114724\n",
      "\n",
      "Iteration 9: Log-likelihood value: -10782859.5488924\n",
      "\n",
      "Iteration 10: Log-likelihood value: -10782517.5927466\n",
      "\n",
      "Iteration 11: Log-likelihood value: -10782473.4371145\n",
      "\n",
      "Iteration 12: Log-likelihood value: -10782466.3327243\n",
      "\n",
      "Iteration 13: Log-likelihood value: -10782462.9383482\n",
      "\n",
      "Iteration 14: Log-likelihood value: -10782461.668298\n",
      "\n",
      "Iteration 15: Log-likelihood value: -10782461.4639633\n",
      "\n",
      "Iteration 16: Log-likelihood value: -10782461.4531894\n",
      "\n",
      "Iteration 17: Log-likelihood value: -10782461.4528378\n",
      "\n",
      "Iteration 18: Log-likelihood value: -10782461.452829\n",
      "\n",
      "Iteration 1: Log-likelihood value: -10863193.8317842\n",
      "\n",
      "Iteration 2: Log-likelihood value: -10847703.7855286\n",
      "\n",
      "Iteration 3: Log-likelihood value: -10830091.22304\n",
      "\n",
      "Iteration 4: Log-likelihood value: -10815036.548357\n",
      "\n",
      "Iteration 5: Log-likelihood value: -10802855.2656361\n",
      "\n",
      "Iteration 6: Log-likelihood value: -10793708.6491659\n",
      "\n",
      "Iteration 7: Log-likelihood value: -10787626.953565\n",
      "\n",
      "Iteration 8: Log-likelihood value: -10784234.2114724\n",
      "\n",
      "Iteration 9: Log-likelihood value: -10782859.5488924\n",
      "\n",
      "Iteration 10: Log-likelihood value: -10782517.5927466\n",
      "\n",
      "Iteration 11: Log-likelihood value: -10782473.4371145\n",
      "\n",
      "Iteration 12: Log-likelihood value: -10782466.3327243\n",
      "\n",
      "Iteration 13: Log-likelihood value: -10782462.9383482\n",
      "\n",
      "Iteration 14: Log-likelihood value: -10782461.668298\n",
      "\n",
      "Iteration 15: Log-likelihood value: -10782461.4639633\n",
      "\n",
      "Iteration 16: Log-likelihood value: -10782461.4531894\n",
      "\n",
      "Iteration 17: Log-likelihood value: -10782461.4528378\n",
      "\n",
      "Iteration 18: Log-likelihood value: -10782461.452829\n",
      "\n",
      "Iteration 1: Log-likelihood value: -10863193.8317842\n",
      "\n",
      "Iteration 2: Log-likelihood value: -10847703.7855286\n",
      "\n",
      "Iteration 3: Log-likelihood value: -10830091.22304\n",
      "\n",
      "Iteration 4: Log-likelihood value: -10815036.548357\n",
      "\n",
      "Iteration 5: Log-likelihood value: -10802855.2656361\n",
      "\n",
      "Iteration 6: Log-likelihood value: -10793708.6491659\n",
      "\n",
      "Iteration 7: Log-likelihood value: -10787626.953565\n",
      "\n",
      "Iteration 8: Log-likelihood value: -10784234.2114724\n",
      "\n",
      "Iteration 9: Log-likelihood value: -10782859.5488924\n",
      "\n",
      "Iteration 10: Log-likelihood value: -10782517.5927466\n",
      "\n",
      "Iteration 11: Log-likelihood value: -10782473.4371145\n",
      "\n",
      "Iteration 12: Log-likelihood value: -10782466.3327243\n",
      "\n",
      "Iteration 13: Log-likelihood value: -10782462.9383482\n",
      "\n",
      "Iteration 14: Log-likelihood value: -10782461.668298\n",
      "\n",
      "Iteration 15: Log-likelihood value: -10782461.4639633\n",
      "\n",
      "Iteration 16: Log-likelihood value: -10782461.4531894\n",
      "\n",
      "Iteration 17: Log-likelihood value: -10782461.4528378\n",
      "\n",
      "Iteration 18: Log-likelihood value: -10782461.452829\n",
      "\n",
      "Iteration 1: Log-likelihood value: -10863193.8317842\n",
      "\n",
      "Iteration 2: Log-likelihood value: -10847703.7855286\n",
      "\n",
      "Iteration 3: Log-likelihood value: -10830091.22304\n",
      "\n",
      "Iteration 4: Log-likelihood value: -10815036.548357\n",
      "\n",
      "Iteration 5: Log-likelihood value: -10802855.2656361\n",
      "\n",
      "Iteration 6: Log-likelihood value: -10793708.6491659\n",
      "\n",
      "Iteration 7: Log-likelihood value: -10787626.953565\n",
      "\n",
      "Iteration 8: Log-likelihood value: -10784234.2114724\n",
      "\n",
      "Iteration 9: Log-likelihood value: -10782859.5488924\n",
      "\n",
      "Iteration 10: Log-likelihood value: -10782517.5927466\n",
      "\n",
      "Iteration 11: Log-likelihood value: -10782473.4371145\n",
      "\n",
      "Iteration 12: Log-likelihood value: -10782466.3327243\n",
      "\n",
      "Iteration 13: Log-likelihood value: -10782462.9383482\n",
      "\n",
      "Iteration 14: Log-likelihood value: -10782461.668298\n",
      "\n",
      "Iteration 15: Log-likelihood value: -10782461.4639633\n",
      "\n",
      "Iteration 16: Log-likelihood value: -10782461.4531894\n",
      "\n",
      "Iteration 17: Log-likelihood value: -10782461.4528378\n",
      "\n",
      "Iteration 18: Log-likelihood value: -10782461.452829\n",
      "\n",
      "Iteration 1: Log-likelihood value: -10863193.8317842\n",
      "\n",
      "Iteration 2: Log-likelihood value: -10847703.7855286\n",
      "\n",
      "Iteration 3: Log-likelihood value: -10830091.22304\n",
      "\n",
      "Iteration 4: Log-likelihood value: -10815036.548357\n",
      "\n",
      "Iteration 5: Log-likelihood value: -10802855.2656361\n",
      "\n",
      "Iteration 6: Log-likelihood value: -10793708.6491659\n",
      "\n",
      "Iteration 7: Log-likelihood value: -10787626.953565\n",
      "\n",
      "Iteration 8: Log-likelihood value: -10784234.2114724\n",
      "\n",
      "Iteration 9: Log-likelihood value: -10782859.5488924\n",
      "\n",
      "Iteration 10: Log-likelihood value: -10782517.5927466\n",
      "\n",
      "Iteration 11: Log-likelihood value: -10782473.4371145\n",
      "\n",
      "Iteration 12: Log-likelihood value: -10782466.3327243\n",
      "\n",
      "Iteration 13: Log-likelihood value: -10782462.9383482\n",
      "\n",
      "Iteration 14: Log-likelihood value: -10782461.668298\n",
      "\n",
      "Iteration 15: Log-likelihood value: -10782461.4639633\n",
      "\n",
      "Iteration 16: Log-likelihood value: -10782461.4531894\n",
      "\n",
      "Iteration 17: Log-likelihood value: -10782461.4528378\n",
      "\n",
      "Iteration 18: Log-likelihood value: -10782461.452829\n",
      "\n",
      "Iteration 1: Log-likelihood value: -10863193.8317842\n",
      "\n",
      "Iteration 2: Log-likelihood value: -10847703.7855286\n",
      "\n",
      "Iteration 3: Log-likelihood value: -10830091.22304\n",
      "\n",
      "Iteration 4: Log-likelihood value: -10815036.548357\n",
      "\n",
      "Iteration 5: Log-likelihood value: -10802855.2656361\n",
      "\n",
      "Iteration 6: Log-likelihood value: -10793708.6491659\n",
      "\n",
      "Iteration 7: Log-likelihood value: -10787626.953565\n",
      "\n",
      "Iteration 8: Log-likelihood value: -10784234.2114724\n",
      "\n",
      "Iteration 9: Log-likelihood value: -10782859.5488924\n",
      "\n",
      "Iteration 10: Log-likelihood value: -10782517.5927466\n",
      "\n",
      "Iteration 11: Log-likelihood value: -10782473.4371145\n",
      "\n",
      "Iteration 12: Log-likelihood value: -10782466.3327243\n",
      "\n",
      "Iteration 13: Log-likelihood value: -10782462.9383482\n",
      "\n",
      "Iteration 14: Log-likelihood value: -10782461.668298\n",
      "\n",
      "Iteration 15: Log-likelihood value: -10782461.4639633\n",
      "\n",
      "Iteration 16: Log-likelihood value: -10782461.4531894\n",
      "\n",
      "Iteration 17: Log-likelihood value: -10782461.4528378\n",
      "\n",
      "Iteration 18: Log-likelihood value: -10782461.452829\n",
      "\n",
      "Iteration 1: Log-likelihood value: -10863193.8317842\n",
      "\n",
      "Iteration 2: Log-likelihood value: -10847703.7855286\n",
      "\n",
      "Iteration 3: Log-likelihood value: -10830091.22304\n",
      "\n",
      "Iteration 4: Log-likelihood value: -10815036.548357\n",
      "\n",
      "Iteration 5: Log-likelihood value: -10802855.2656361\n",
      "\n",
      "Iteration 6: Log-likelihood value: -10793708.6491659\n",
      "\n",
      "Iteration 7: Log-likelihood value: -10787626.953565\n",
      "\n",
      "Iteration 8: Log-likelihood value: -10784234.2114724\n",
      "\n",
      "Iteration 9: Log-likelihood value: -10782859.5488924\n",
      "\n",
      "Iteration 10: Log-likelihood value: -10782517.5927466\n",
      "\n",
      "Iteration 11: Log-likelihood value: -10782473.4371145\n",
      "\n",
      "Iteration 12: Log-likelihood value: -10782466.3327243\n",
      "\n",
      "Iteration 13: Log-likelihood value: -10782462.9383482\n",
      "\n",
      "Iteration 14: Log-likelihood value: -10782461.668298\n",
      "\n",
      "Iteration 15: Log-likelihood value: -10782461.4639633\n",
      "\n",
      "Iteration 16: Log-likelihood value: -10782461.4531894\n",
      "\n",
      "Iteration 17: Log-likelihood value: -10782461.4528378\n",
      "\n",
      "Iteration 18: Log-likelihood value: -10782461.452829\n",
      "\n",
      "Iteration 1: Log-likelihood value: -10863193.8317842\n",
      "\n",
      "Iteration 2: Log-likelihood value: -10847703.7855286\n",
      "\n",
      "Iteration 3: Log-likelihood value: -10830091.22304\n",
      "\n",
      "Iteration 4: Log-likelihood value: -10815036.548357\n",
      "\n",
      "Iteration 5: Log-likelihood value: -10802855.2656361\n",
      "\n",
      "Iteration 6: Log-likelihood value: -10793708.6491659\n",
      "\n",
      "Iteration 7: Log-likelihood value: -10787626.953565\n",
      "\n",
      "Iteration 8: Log-likelihood value: -10784234.2114724\n",
      "\n"
     ]
    },
    {
     "name": "stderr",
     "output_type": "stream",
     "text": [
      "Iteration 9: Log-likelihood value: -10782859.5488924\n",
      "\n",
      "Iteration 10: Log-likelihood value: -10782517.5927466\n",
      "\n",
      "Iteration 11: Log-likelihood value: -10782473.4371145\n",
      "\n",
      "Iteration 12: Log-likelihood value: -10782466.3327243\n",
      "\n",
      "Iteration 13: Log-likelihood value: -10782462.9383482\n",
      "\n",
      "Iteration 14: Log-likelihood value: -10782461.668298\n",
      "\n",
      "Iteration 15: Log-likelihood value: -10782461.4639633\n",
      "\n",
      "Iteration 16: Log-likelihood value: -10782461.4531894\n",
      "\n",
      "Iteration 17: Log-likelihood value: -10782461.4528378\n",
      "\n",
      "Iteration 18: Log-likelihood value: -10782461.452829\n",
      "\n",
      "Iteration 1: Log-likelihood value: -10863193.8317842\n",
      "\n",
      "Iteration 2: Log-likelihood value: -10847703.7855286\n",
      "\n",
      "Iteration 3: Log-likelihood value: -10830091.22304\n",
      "\n",
      "Iteration 4: Log-likelihood value: -10815036.548357\n",
      "\n",
      "Iteration 5: Log-likelihood value: -10802855.2656361\n",
      "\n",
      "Iteration 6: Log-likelihood value: -10793708.6491659\n",
      "\n",
      "Iteration 7: Log-likelihood value: -10787626.953565\n",
      "\n",
      "Iteration 8: Log-likelihood value: -10784234.2114724\n",
      "\n",
      "Iteration 9: Log-likelihood value: -10782859.5488924\n",
      "\n",
      "Iteration 10: Log-likelihood value: -10782517.5927466\n",
      "\n",
      "Iteration 11: Log-likelihood value: -10782473.4371145\n",
      "\n",
      "Iteration 12: Log-likelihood value: -10782466.3327243\n",
      "\n",
      "Iteration 13: Log-likelihood value: -10782462.9383482\n",
      "\n",
      "Iteration 14: Log-likelihood value: -10782461.668298\n",
      "\n",
      "Iteration 15: Log-likelihood value: -10782461.4639633\n",
      "\n",
      "Iteration 16: Log-likelihood value: -10782461.4531894\n",
      "\n",
      "Iteration 17: Log-likelihood value: -10782461.4528378\n",
      "\n",
      "Iteration 18: Log-likelihood value: -10782461.452829\n",
      "\n"
     ]
    }
   ],
   "source": [
    "num_dfs <- length(list_of_dfs)\n",
    "num_sizes <- length(sample_size)\n",
    "simulation <- vector(\"list\", num_dfs)\n",
    "\n",
    "for(i in 1:length(list_of_dfs)) {\n",
    "    simulation[[i]] <- vector(\"list\", num_sizes)\n",
    "    for(j in 1:length(sample_size)){\n",
    "    simulation[[i]][[j]] <- SimulateMSeq(\n",
    "ref.otu.tab = list_of_dfs[[i]], nSam = 350, nOTU = sample_size[[j]],  \n",
    "# True signal setting\n",
    "diff.otu.pct = 0.2, diff.otu.direct = c(\"unbalanced\"), \n",
    "diff.otu.mode = c(\"abundant\"),\n",
    "covariate.type = c(\"binary\"), grp.ratio = 1,\n",
    "covariate.eff.mean = 1.0, covariate.eff.sd = 0,\n",
    "# Confounder signal setting\n",
    "confounder.type = c(\"both\"), conf.cov.cor = 0.6,\n",
    "conf.diff.otu.pct = 0.1, conf.nondiff.otu.pct = 0.1,\n",
    "confounder.eff.mean = 1.0, confounder.eff.sd = 0,\n",
    "# Depth setting\n",
    "depth.mu = 10000, depth.theta = 5, depth.conf.factor = 0\n",
    ")\n",
    " }   \n",
    "}\n"
   ]
  },
  {
   "cell_type": "code",
   "execution_count": null,
   "id": "ecc89399",
   "metadata": {},
   "outputs": [],
   "source": []
  },
  {
   "cell_type": "code",
   "execution_count": 7,
   "id": "bcc8dbd5",
   "metadata": {},
   "outputs": [],
   "source": [
    "# save the simulated data to a specific location after each run \n",
    "saveRDS(simulation, file = \"data/simulated_data/pd_otu_05.rds\")\n"
   ]
  },
  {
   "cell_type": "code",
   "execution_count": null,
   "id": "1dfd5868",
   "metadata": {},
   "outputs": [],
   "source": []
  },
  {
   "cell_type": "markdown",
   "id": "59478a91",
   "metadata": {},
   "source": [
    "### Method run"
   ]
  },
  {
   "cell_type": "code",
   "execution_count": 125,
   "id": "bff816fc",
   "metadata": {},
   "outputs": [],
   "source": [
    "library(ANCOMBC)"
   ]
  },
  {
   "cell_type": "code",
   "execution_count": 126,
   "id": "e346ca1b",
   "metadata": {},
   "outputs": [],
   "source": [
    "# define the calling function\n",
    "run_method<- function(raw_data, DA_method){\n",
    "\n",
    "  if(DA_method==\"ANCOM-BC\"){\n",
    "    out<- run_ancombc(raw_data = raw_data)\n",
    "  } else if(DA_method==\"FlashWeave\"){\n",
    "    out<- run_flashweave(raw_data = raw_data)\n",
    "  \n",
    "  } else if(DA_method==\"ANCOM-BC2\"){\n",
    "     out<- run_ancombc2(raw_data = raw_data) \n",
    "  }\n",
    "\n",
    "  return(out)\n",
    "}\n",
    "\n",
    "\n",
    "run_flashweave<- function(raw_data){\n",
    "\n",
    "    # data file paths \n",
    "    simulated_data<-\"qiime2_benchmark/otu_table1.txt\"\n",
    "    biom_file <- 'qiime2_benchmark/otu_table1.biom'\n",
    "    output_qza <- 'qiime2_benchmark/otu_table1.qza'\n",
    "    metadata<-\"qiime2_benchmark/meta_table1.tsv\"\n",
    "    output_flash <- 'qiime2_benchmark/flashnet1.qza'\n",
    "    neighbour='qiime2_benchmark/neighbours1.qza'\n",
    "    exported <- 'qiime2_benchmark/exported_neighbours'\n",
    "    ppd_otu_filtered_qza=\"qiime2_benchmark/otu_pd_qiime_filtered.qza\"\n",
    "    \n",
    "    meta.dat <- data.frame(X = raw_data$covariate, Z1 = raw_data$confounder[, 1],\n",
    "                       Z2 = raw_data$confounder[, 2])\n",
    "    otu.tab.sim <- raw_data$otu.tab.sim\n",
    "    actual=ifelse(raw_data$diff.otu.ind, \"DA\", \"NOT_DA\")\n",
    "    tr=data.frame(\"truth\" = actual, row.names = rownames(otu.tab.sim), stringsAsFactors = F)\n",
    "     meta.dat$X=ifelse(meta.dat$X, \"healthy\",\"unhealthy\")\n",
    "    #otu data processing for qiime2 input\n",
    "    otu <- cbind(rownames(otu.tab.sim), otu.tab.sim[,2:length(colnames(otu.tab.sim))])\n",
    "    colnames(otu)[1] <- \"featureid\"\n",
    "    rownames(otu) <- NULL\n",
    "\n",
    "    write.table(otu, simulated_data, sep = \"\\t\", col.names=TRUE, row.names=FALSE, quote = FALSE)\n",
    "    #metadata processing for qiime2 input\n",
    "    colnames(meta.dat)=c(\"covariate\", \"cofounder1\",\"cofounder2\")\n",
    "\n",
    "    metad  <- cbind(rownames(meta.dat),meta.dat)\n",
    "    colnames(metad)[1] <- \"sampleid\"\n",
    "    rownames(metad) <- NULL\n",
    "    write.table(metad, metadata, sep = \"\\t\", col.names=TRUE, row.names=FALSE, quote = FALSE)\n",
    "\n",
    "   # convert data into biom format\n",
    "    system(paste(\"biom convert\",\n",
    "                 \"-i\",simulated_data ,\n",
    "                 \"-o\", biom_file ,\n",
    "                 \"--table-type=\\\"OTU table\\\"\",\n",
    "                 \"--to-hdf5\"), intern=TRUE)\n",
    "\n",
    "    #import data into qiime \n",
    "    system(paste(\"qiime tools import\",\n",
    "             \"--input-path\", biom_file,\n",
    "             \"--type 'FeatureTable[Frequency]'\",\n",
    "             \"--input-format BIOMV210Format\",\n",
    "             \"--output-path\", output_qza), intern=TRUE)\n",
    "    \n",
    "    # filtering data\n",
    "    # if want filtering then skip this step\n",
    "    system(paste(\"qiime feature-table filter-features\",\n",
    "             \"--i-table\", output_qza,\n",
    "             \"--p-min-frequency\",50,\n",
    "             \"--p-min-samples\",4,\n",
    "             \"--o-filtered-table\", ppd_otu_filtered_qza), intern=TRUE)\n",
    "  \n",
    "    # Run FlashWeave with sampled parameters\n",
    "    system(paste(\"qiime makarsa flashweave\",\n",
    "             \"--i-table\", ppd_otu_filtered_qza,\n",
    "             \"--m-metadata-file\",metadata,\n",
    "             \"--p-heterogeneous\", TRUE,         \n",
    "             \"--p-sensitive\", TRUE,             \n",
    "             \"--p-max-k\", 0,\n",
    "             \"--p-alpha\", 0.04 ,\n",
    "             \"--o-network\", output_flash), intern=TRUE)                              \n",
    "  \n",
    " \n",
    " \n",
    "    system(paste(\"qiime makarsa list-neighbours\",\n",
    "                \"--i-network\",output_flash,\n",
    "                \"--p-feature-id\", \"covariate\",\n",
    "                 \"--p-radius\",2,\n",
    "                \"--o-neighbours\",neighbour), intern=TRUE)                 \n",
    "\n",
    "   # Export the results from QIIME2\n",
    "   system(paste(\"qiime tools export\", \n",
    "              \"--input-path\",neighbour,\n",
    "             \"--output-path\",exported), intern=TRUE)                \n",
    "  \n",
    "  \n",
    "  \n",
    "  # Construct file path for metadata.tsv\n",
    "   metadata_tsv <- paste0(exported, \"/metadata.tsv\")\n",
    "  \n",
    "  # Check if the file exists before reading\n",
    "  if (!file.exists(metadata_tsv)) {\n",
    "    cat(\"Expected metadata.tsv does not exist at path:\", metadata_tsv, \"\\n\")\n",
    "    next\n",
    "  }\n",
    "  \n",
    "  # Read the results\n",
    "  neighbors <-read.csv(file = metadata_tsv, sep = '\\t', row.names = 1)\n",
    "  \n",
    "  # take only necessary data\n",
    "    neighbors=neighbors[-1,]\n",
    "  row_names_df_to_remove=c(\"cofounder1\",\"cofounder2\")\n",
    "  neighbors=neighbors[!(row.names(neighbors) %in% row_names_df_to_remove),]\n",
    "  e=(rownames(otu.tab.sim)%in%rownames(neighbors))   \n",
    "  pred=data.frame(\"pred\" =ifelse(e, \"DA\", \"NOT_DA\") , row.names =rownames(otu.tab.sim) , stringsAsFactors = F)\n",
    "  df=cbind(pred,tr) \n",
    "  bet1=neighbors[\"Betweenness.Centrality\"]\n",
    "  bet=data.frame(\"Betweenness.Centrality\" =rep(0,length(rownames(otu.tab.sim)[!e])),  row.names =rownames(otu.tab.sim)[!e] , stringsAsFactors = F)\n",
    "  bet2=rbind(bet1,bet)\n",
    "  out_df=cbind(df,bet2)\n",
    "    \n",
    "  return(\"method_out\"=out_df)\n",
    "}\n",
    "\n",
    "\n",
    "\n",
    "run_ancombc<- function(raw_data){\n",
    "\n",
    "    \n",
    "    # data file paths\n",
    "    simulated_data<-\"qiime2_benchmark/otu_table1.txt\"\n",
    "    biom_file <- 'qiime2_benchmark/otu_table1.biom'\n",
    "    output_qza <- 'qiime2_benchmark/otu_table1.qza'\n",
    "    metadata<-\"qiime2_benchmark/meta_table1.tsv\"\n",
    "    ancomoutput <- 'qiime2_benchmark/ancombc.qza'\n",
    "    exported <- 'qiime2_benchmark/exported_ancompd'\n",
    "    ppd_otu_filtered_qza=\"qiime2_benchmark/otu_pd_qiime_filtered.qza\"\n",
    "    meta.dat <- data.frame(X = raw_data$covariate, Z1 = raw_data$confounder[, 1],\n",
    "                       Z2 = raw_data$confounder[, 2])\n",
    "    otu.tab.sim <- raw_data$otu.tab.sim\n",
    "    actual=ifelse(raw_data$diff.otu.ind, \"DA\", \"NOT_DA\")\n",
    "    tr=data.frame(\"truth\" = actual, row.names = rownames(otu.tab.sim), stringsAsFactors = F)\n",
    "    meta.dat$X=ifelse(meta.dat$X, \"healthy\",\"unhealthy\")\n",
    "    #otu data processing for qiime2 input\n",
    "    otu <- cbind(rownames(otu.tab.sim), otu.tab.sim[,2:length(colnames(otu.tab.sim))])\n",
    "    colnames(otu)[1] <- \"featureid\"\n",
    "    rownames(otu) <- NULL\n",
    "\n",
    "    write.table(otu, simulated_data, sep = \"\\t\", col.names=TRUE, row.names=FALSE, quote = FALSE)\n",
    "    #metadata processing for qiime2 input\n",
    "    colnames(meta.dat)=c(\"covariate\", \"cofounder1\",\"cofounder2\")\n",
    "\n",
    "    metad  <- cbind(rownames(meta.dat),meta.dat)\n",
    "    colnames(metad)[1] <- \"sampleid\"\n",
    "    rownames(metad) <- NULL\n",
    "    write.table(metad, metadata, sep = \"\\t\", col.names=TRUE, row.names=FALSE, quote = FALSE)\n",
    "\n",
    "   # convert data into biom format\n",
    "    system(paste(\"biom convert\",\n",
    "                 \"-i\",simulated_data ,\n",
    "                 \"-o\", biom_file ,\n",
    "                 \"--table-type=\\\"OTU table\\\"\",\n",
    "                 \"--to-hdf5\"), intern=TRUE)\n",
    "    #import data into qiime2                \n",
    "    system(paste(\"qiime tools import\",\n",
    "             \"--input-path\", biom_file,\n",
    "             \"--type 'FeatureTable[Frequency]'\",\n",
    "             \"--input-format BIOMV210Format\",\n",
    "             \"--output-path\", output_qza), intern=TRUE)\n",
    "    \n",
    "    #ppd_otu_filtered_qza=\"~/from_pendrive/PhD/DAA_benchmark_study/Benchmark_study_makarsa/data/PD/otu_pd_qiime_filtered.qza\"\n",
    "    system(paste(\"qiime feature-table filter-features\",\n",
    "             \"--i-table\", output_qza,\n",
    "             \"--p-min-frequency\",50,\n",
    "             \"--p-min-samples\",4,\n",
    "             \"--o-filtered-table\", ppd_otu_filtered_qza), intern=TRUE)\n",
    "                   \n",
    "   # Run ANCOM-BC with sampled parameters\n",
    "    system(paste(\"qiime composition ancombc\",\n",
    "             \"--i-table\",ppd_otu_filtered_qza,\n",
    "             \"--m-metadata-file\", metadata,\n",
    "             \"--p-formula\", \"covariate\",\n",
    "             \"--p-p-adj-method\", \"BH\",\n",
    "             \"--p-neg-lb\", FALSE,\n",
    "             \"--p-tol\", 0.01,\n",
    "             \"--p-max-iter\", 75,\n",
    "             \"--p-conserve\", FALSE,\n",
    "             \"--o-differentials\", ancomoutput))                \n",
    "  \n",
    "   # Export the results from QIIME2\n",
    "   system(paste(\"qiime tools export\", \n",
    "              \"--input-path\",ancomoutput,\n",
    "             \"--output-path\",exported))                \n",
    "  \n",
    "  # Construct file path for q_val_slice.csv\n",
    "   q_val_csv <- paste0(exported, \"/q_val_slice.csv\")\n",
    "  \n",
    "  # Check if the file exists before reading\n",
    "  if (!file.exists(q_val_csv)) {\n",
    "    cat(\"Expected q_val_slice.csv does not exist at path:\", q_val_csv, \"\\n\")\n",
    "    next\n",
    "  }\n",
    "  \n",
    "    # Read the q-value results\n",
    "    ancom_q_val <- read.csv(file = q_val_csv, sep = ',', row.names = 1)\n",
    "\n",
    "    # take only necessary data\n",
    "    ancom_q_val=data.frame(\"covariateunhealthy\" = ancom_q_val$covariateunhealthy, row.names = rownames(ancom_q_val), stringsAsFactors = F)\n",
    "    #construct output dataframe\n",
    "    e=!(rownames(otu.tab.sim)%in%rownames(ancom_q_val))\n",
    "    nq=rownames(otu.tab.sim)[e]\n",
    "    nqv=data.frame(\"covariateunhealthy\" = rep(NA, length(nq)), row.names = nq, stringsAsFactors = F)\n",
    "    q_val_all=rbind(ancom_q_val,nqv)\n",
    "    names(q_val_all)[names(q_val_all) == \"covariateunhealthy\"] <- \"q_value\"\n",
    "    pred= ifelse(ancom_q_val < 0.05, \"DA\", \"NOT_DA\")\n",
    "    pred=as.data.frame(pred)\n",
    "    d=!(rownames(otu.tab.sim)%in%rownames(pred))\n",
    "    npred=rownames(otu.tab.sim)[d]\n",
    "    ND=data.frame(\"covariateunhealthy\" = rep(\"NOT_DA\", length(npred)), row.names = npred, stringsAsFactors = F)\n",
    "    pr=rbind(pred,ND)\n",
    "    out_df=cbind(pr,q_val_all,tr)\n",
    "    names(out_df)[names(out_df) == \"covariateunhealthy\"] <- \"pred\"\n",
    "\n",
    "  return(\"method_out\"=out_df)\n",
    "}\n",
    "\n",
    "\n",
    "run_ancombc2<- function(raw_data){\n",
    "\n",
    "    library(phyloseq)\n",
    "    meta.dat <- data.frame(X = raw_data$covariate, Z1 = raw_data$confounder[, 1],\n",
    "                       Z2 = raw_data$confounder[, 2])\n",
    "    otu.tab.sim <- raw_data$otu.tab.sim\n",
    "    actual=ifelse(raw_data$diff.otu.ind, \"DA\", \"NOT_DA\")\n",
    "    tr=data.frame(\"truth\" = actual, row.names = rownames(otu.tab.sim), stringsAsFactors = F)\n",
    "    meta.dat$X=ifelse(meta.dat$X, \"healthy\",\"unhealthy\")\n",
    "    colnames(meta.dat)=c(\"covariate\", \"cofounder1\",\"cofounder2\")\n",
    "\n",
    "    otu<-otu_table(otu.tab.sim,taxa_are_rows = TRUE)\n",
    "    sam<-sample_data(meta.dat)\n",
    "    physeq = phyloseq(otu, sam)\n",
    "                   \n",
    "   # Run ANCOM-BC2 with sampled parameters\n",
    "    set.seed(123)\n",
    "    output = ancombc2(data = physeq, assay_name = \"counts\", tax_level = \"Species\",\n",
    "                  fix_formula = \"covariate\", rand_formula = NULL,\n",
    "                  p_adj_method = \"holm\", pseudo_sens = TRUE,\n",
    "                  prv_cut = 0.10, lib_cut = 1000, s0_perc = 0.05,\n",
    "                  group = \"covariate\", struc_zero = FALSE, neg_lb = FALSE,\n",
    "                  alpha = 0.05, n_cl = 2, verbose = TRUE,\n",
    "                  global = FALSE, pairwise = TRUE, \n",
    "                  dunnet = FALSE, trend = FALSE,\n",
    "                  iter_control = list(tol = 1e-5, max_iter = 20, \n",
    "                                      verbose = FALSE),\n",
    "                  em_control = list(tol = 1e-5, max_iter = 100),\n",
    "                  lme_control = NULL, \n",
    "                  mdfdr_control = list(fwer_ctrl_method = \"holm\", B = 100), \n",
    "                  trend_control = NULL)\n",
    "\n",
    "     res_prim = output$res\n",
    "     #res_pair = output$res_pair\n",
    "     rownames(res_prim)=res_prim$taxon\n",
    "     res_prim$taxon=NULL\n",
    "\n",
    "    # take only necessary data\n",
    "    ancom_q_val=data.frame(\"covariateunhealthy\" = res_prim$q_covariateunhealthy, row.names = rownames(res_prim), stringsAsFactors = F)\n",
    "    #construct output dataframe\n",
    "    e=!(rownames(otu.tab.sim)%in%rownames(ancom_q_val))\n",
    "    nq=rownames(otu.tab.sim)[e]\n",
    "    nqv=data.frame(\"covariateunhealthy\" = rep(NA, length(nq)), row.names = nq, stringsAsFactors = F)\n",
    "    q_val_all=rbind(ancom_q_val,nqv)\n",
    "    names(q_val_all)[names(q_val_all) == \"covariateunhealthy\"] <- \"q_value\"\n",
    "    pred= ifelse(ancom_q_val < 0.05, \"DA\", \"NOT_DA\")\n",
    "    pred=as.data.frame(pred)\n",
    "    d=!(rownames(otu.tab.sim)%in%rownames(pred))\n",
    "    npred=rownames(otu.tab.sim)[d]\n",
    "    ND=data.frame(\"covariateunhealthy\" = rep(\"NOT_DA\", length(npred)), row.names = npred, stringsAsFactors = F)\n",
    "    pr=rbind(pred,ND)\n",
    "    out_df=cbind(pr,q_val_all,tr)\n",
    "    names(out_df)[names(out_df) == \"covariateunhealthy\"] <- \"pred\"\n",
    "    \n",
    "  return(\"method_out\"=out_df)\n",
    "}\n",
    "\n"
   ]
  },
  {
   "cell_type": "markdown",
   "id": "8e366bd2",
   "metadata": {},
   "source": [
    "### Running methods on simulated data"
   ]
  },
  {
   "cell_type": "code",
   "execution_count": null,
   "id": "d71526b8",
   "metadata": {},
   "outputs": [],
   "source": [
    "#continue from following cell untill saving metric dataframe\n",
    "#In case of FlashWeave we have to change radius of neighbor selection in flashwave function\n",
    "# if you want run flashweave for different radius."
   ]
  },
  {
   "cell_type": "code",
   "execution_count": 120,
   "id": "d41d73cc",
   "metadata": {},
   "outputs": [],
   "source": [
    "\n",
    "# Load a specific simulated data\n",
    "\n",
    "#simulation <- readRDS(\"data/simulated_data/sifm_otu.rds\")\n",
    "#simulation <- readRDS(\"data/simulated_data/pd_otu.rds\")\n",
    "#simulation <- readRDS(\"data/simulated_data/ibd_otu.rds\")\n",
    "#simulation <- readRDS(\"data/simulated_data/ecam_otu.rds\")\n",
    "#simulation <- readRDS(\"data/simulated_data/american_gut_otu.rds\")\n",
    "\n",
    "\n",
    "simulation <- readRDS(\"data/simulated_data/pd_otu_05.rds\")"
   ]
  },
  {
   "cell_type": "code",
   "execution_count": 3,
   "id": "d7955bbf",
   "metadata": {},
   "outputs": [],
   "source": []
  },
  {
   "cell_type": "code",
   "execution_count": 121,
   "id": "178258ba",
   "metadata": {},
   "outputs": [],
   "source": [
    "# specify corresponding sample size\n",
    "#sample_size=list(length(rownames(list_of_dfs$ecam)),length(rownames(list_of_dfs$pd)))\n",
    "sample_size=list(1000,2000,3000,4050,5100,6150,7200,8000,9000,10000) # for pd dataframe\n",
    "#sample_size=list(1000,2000,3000,4000,5000,6000,7000,8000,9000,10000,11000,12000,13000) # for ecam dataframe\n",
    "#sample_size=list(4000,5000,6000,6500,7000,7500,8000,8500,9000) # for IDB dataframe\n",
    "#sample_size=list(1000,1100,1200,1400,1600,1700,1800,1900,2500) # for study_12021\n",
    "#sample_size=list(1200,2500,3000,4500,5500,6500,7500,8400,9500,11000,12000,13000,14000,15000,16000,17000) # for for american_gut dataframe"
   ]
  },
  {
   "cell_type": "code",
   "execution_count": 122,
   "id": "34b191db",
   "metadata": {},
   "outputs": [],
   "source": [
    "#specify corresponding file path of original data\n",
    "#ecam dataframe\n",
    "#file_paths <- c(\"data/ecam_tutorial/ecam_otu.tsv\")\n",
    "#pd dataframe\n",
    "file_paths <- c(\"data/PD/pd_otu.tsv\")\n",
    "#american_gut dataframe\n",
    "#file_paths <- c(\"data/american_gut/american_gut_otu.tsv\")\n",
    "#IDB dataframe\n",
    "#file_paths <- c(\"data/IBD/ibd_otu.tsv\")\n",
    "#Study_12021\n",
    "#file_paths <- c(\"data/SIFM/sifm_otu.tsv\")\n",
    "\n",
    "\n",
    "\n",
    "list_of_dfs <- lapply(file_paths, function(file) read.table(file, sep = '\\t', header=TRUE, row.names=1))"
   ]
  },
  {
   "cell_type": "code",
   "execution_count": 127,
   "id": "6fd810a6",
   "metadata": {},
   "outputs": [],
   "source": [
    "# Specify the method you want to run\n",
    "methods_to_run <- c(\"FlashWeave\")  # Add more if needed , \"FlashWeave\"  \"ANCOM-BC\"\n",
    "\n",
    "# Initialize results_list\n",
    "results_list <- list()\n",
    "for(method in methods_to_run) {\n",
    "  results_list[[method]] <- vector(\"list\", length(list_of_dfs))\n",
    "  for(i in 1:length(list_of_dfs)) {\n",
    "    results_list[[method]][[i]] <- vector(\"list\", length(sample_size))\n",
    "  }\n",
    "}\n",
    "\n",
    "# Loop over datasets and methods\n",
    "for(i in 1:length(list_of_dfs)) {\n",
    "  for(j in 1:length(sample_size)) {\n",
    "    data <- simulation[[i]][[j]]\n",
    "    \n",
    "    for(method in methods_to_run) {\n",
    "      # Run the method\n",
    "      result <- run_method(data, method)\n",
    "      \n",
    "      # Store the result\n",
    "      results_list[[method]][[i]][[j]] <- result\n",
    "    }\n",
    "  }\n",
    "}\n"
   ]
  },
  {
   "cell_type": "code",
   "execution_count": null,
   "id": "51a7b946",
   "metadata": {},
   "outputs": [],
   "source": []
  },
  {
   "cell_type": "code",
   "execution_count": 287,
   "id": "24e2e0d7",
   "metadata": {},
   "outputs": [],
   "source": [
    "library(ANCOMBC)\n",
    "library(phyloseq)"
   ]
  },
  {
   "cell_type": "code",
   "execution_count": 226,
   "id": "8d3918dd",
   "metadata": {},
   "outputs": [],
   "source": [
    "#results_list"
   ]
  },
  {
   "cell_type": "markdown",
   "id": "28e9253a",
   "metadata": {},
   "source": [
    "### RUNNING OUTPUT TO GENERATE METRIC DATAFRAME"
   ]
  },
  {
   "cell_type": "code",
   "execution_count": 1,
   "id": "e141e744",
   "metadata": {},
   "outputs": [],
   "source": [
    "#Function for calculating metrics\n",
    "\n",
    "compute_precision_recall<- function(truth, pred){\n",
    "\n",
    "  if(all(is.na(pred))){\n",
    "    out<- c(NA,NA)\n",
    "    names(out)<- c(\"recall\", \"precision\")\n",
    "    return(out)\n",
    "  }\n",
    "\n",
    "  # Reassign the labels. The positive class is the one with the lowest number, i.e. \"DA\":\n",
    "  truth<- ifelse(truth == \"DA\", 1, 0)\n",
    "  pred<- ifelse(pred == \"DA\", 1, 0)\n",
    "\n",
    "  # Compute the number of False Positive (FP), False Negative (FN), True Positive (TP), True Negative (TN):\n",
    "  FP<- sum(truth==0 & pred==1)\n",
    "  FN<- sum(truth==1 & pred==0)\n",
    "  TP<- sum(truth==1 & pred==1)\n",
    "  TN<- sum(truth==0 & pred==0)\n",
    "\n",
    "  # Calculate Precision and Recall:\n",
    "  if(TP==0 & FP==0){\n",
    "    precision<- NA\n",
    "  }else{\n",
    "    precision<- TP/(TP+FP)\n",
    "  }\n",
    "\n",
    "  if(TP==0 & FN==0){\n",
    "    recall<- NA\n",
    "  }else{\n",
    "    recall<- TP/(TP+FN)\n",
    "  }\n",
    "\n",
    "  if(FP==0 & TN==0){\n",
    "    fpr<- NA\n",
    "  }else{\n",
    "    fpr<- FP/(FP+TN)\n",
    "  }\n",
    "    \n",
    "  if(TP==0 & FP==0){\n",
    "    fdr<- NA\n",
    "  }else{\n",
    "    fdr<- FP/(TP+FP)\n",
    "  }  \n",
    "     \n",
    "    \n",
    "  f1_score<- 2*(recall*precision)/(precision+recall)\n",
    "\n",
    "  # Return precision and recall:\n",
    "  out<- c(recall,precision,fpr,fdr, f1_score)\n",
    "  names(out)<- c(\"recall\", \"precision\",\"fpr\",\"fdr\", \"f1_score\")\n",
    "  return(out)\n",
    "}\n"
   ]
  },
  {
   "cell_type": "code",
   "execution_count": 11,
   "id": "6f931152",
   "metadata": {},
   "outputs": [
    {
     "ename": "ERROR",
     "evalue": "Error in eval(expr, envir, enclos): object 'results_list' not found\n",
     "output_type": "error",
     "traceback": [
      "Error in eval(expr, envir, enclos): object 'results_list' not found\nTraceback:\n"
     ]
    }
   ],
   "source": [
    "# Initialize a dataframe to store metrics\n",
    "precision_recall_df <- data.frame()\n",
    "\n",
    "for(method in methods_to_run) {\n",
    "    recall_vector <- c()\n",
    "    precision_vector <- c()\n",
    "    fpr_vector <- c()\n",
    "    fdr_vector <- c()\n",
    "    f1_vector <- c()\n",
    "    \n",
    "    for(i in 1:length(list_of_dfs)) {\n",
    "        for(j in 1:length(sample_size)) {\n",
    "            method_results <- results_list[[method]][[i]][[j]]\n",
    "            \n",
    "            prec_rec_out <- compute_precision_recall(truth = method_results$truth, pred = method_results$pred)\n",
    "            \n",
    "            recall_vector <- c(recall_vector, prec_rec_out[\"recall\"])\n",
    "            precision_vector <- c(precision_vector, prec_rec_out[\"precision\"])\n",
    "            fpr_vector <- c(fpr_vector, prec_rec_out[\"fpr\"])\n",
    "            fdr_vector <- c(fdr_vector, prec_rec_out[\"fdr\"])\n",
    "            f1_vector <- c(f1_vector, prec_rec_out[\"f1_score\"])\n",
    "        }\n",
    "    }\n",
    "    \n",
    "    tmp_df <- data.frame(\"method\" = rep(method, length(recall_vector)),\n",
    "                         \"recall\" = recall_vector,\n",
    "                         \"precision\" = precision_vector,\n",
    "                         \"fpr\" = fpr_vector,\n",
    "                         \"fdr\" = fdr_vector,\n",
    "                         \"F1\" = f1_vector,\n",
    "                         stringsAsFactors = F)\n",
    "    \n",
    "    precision_recall_df <- rbind(precision_recall_df, tmp_df)\n",
    "}\n"
   ]
  },
  {
   "cell_type": "code",
   "execution_count": 53,
   "id": "10766bc4",
   "metadata": {},
   "outputs": [
    {
     "data": {
      "text/html": [
       "<table class=\"dataframe\">\n",
       "<caption>A data.frame: 10 × 6</caption>\n",
       "<thead>\n",
       "\t<tr><th scope=col>method</th><th scope=col>recall</th><th scope=col>precision</th><th scope=col>fpr</th><th scope=col>fdr</th><th scope=col>F1</th></tr>\n",
       "\t<tr><th scope=col>&lt;chr&gt;</th><th scope=col>&lt;dbl&gt;</th><th scope=col>&lt;dbl&gt;</th><th scope=col>&lt;dbl&gt;</th><th scope=col>&lt;dbl&gt;</th><th scope=col>&lt;dbl&gt;</th></tr>\n",
       "</thead>\n",
       "<tbody>\n",
       "\t<tr><td>FlashWeave</td><td>0.28000000</td><td>0.3684211</td><td>0.025263158</td><td>0.6315789</td><td>0.31818182</td></tr>\n",
       "\t<tr><td>FlashWeave</td><td>0.23000000</td><td>0.3898305</td><td>0.018947368</td><td>0.6101695</td><td>0.28930818</td></tr>\n",
       "\t<tr><td>FlashWeave</td><td>0.14000000</td><td>0.4375000</td><td>0.009473684</td><td>0.5625000</td><td>0.21212121</td></tr>\n",
       "\t<tr><td>FlashWeave</td><td>0.13366337</td><td>0.5869565</td><td>0.004937630</td><td>0.4130435</td><td>0.21774194</td></tr>\n",
       "\t<tr><td>FlashWeave</td><td>0.07450980</td><td>0.3166667</td><td>0.008462332</td><td>0.6833333</td><td>0.12063492</td></tr>\n",
       "\t<tr><td>FlashWeave</td><td>0.11038961</td><td>0.4657534</td><td>0.006675796</td><td>0.5342466</td><td>0.17847769</td></tr>\n",
       "\t<tr><td>FlashWeave</td><td>0.06944444</td><td>0.4807692</td><td>0.003947368</td><td>0.5192308</td><td>0.12135922</td></tr>\n",
       "\t<tr><td>FlashWeave</td><td>0.06250000</td><td>0.4385965</td><td>0.004210526</td><td>0.5614035</td><td>0.10940919</td></tr>\n",
       "\t<tr><td>FlashWeave</td><td>0.06666667</td><td>0.4615385</td><td>0.004093567</td><td>0.5384615</td><td>0.11650485</td></tr>\n",
       "\t<tr><td>FlashWeave</td><td>0.05000000</td><td>0.3289474</td><td>0.005368421</td><td>0.6710526</td><td>0.08680556</td></tr>\n",
       "</tbody>\n",
       "</table>\n"
      ],
      "text/latex": [
       "A data.frame: 10 × 6\n",
       "\\begin{tabular}{llllll}\n",
       " method & recall & precision & fpr & fdr & F1\\\\\n",
       " <chr> & <dbl> & <dbl> & <dbl> & <dbl> & <dbl>\\\\\n",
       "\\hline\n",
       "\t FlashWeave & 0.28000000 & 0.3684211 & 0.025263158 & 0.6315789 & 0.31818182\\\\\n",
       "\t FlashWeave & 0.23000000 & 0.3898305 & 0.018947368 & 0.6101695 & 0.28930818\\\\\n",
       "\t FlashWeave & 0.14000000 & 0.4375000 & 0.009473684 & 0.5625000 & 0.21212121\\\\\n",
       "\t FlashWeave & 0.13366337 & 0.5869565 & 0.004937630 & 0.4130435 & 0.21774194\\\\\n",
       "\t FlashWeave & 0.07450980 & 0.3166667 & 0.008462332 & 0.6833333 & 0.12063492\\\\\n",
       "\t FlashWeave & 0.11038961 & 0.4657534 & 0.006675796 & 0.5342466 & 0.17847769\\\\\n",
       "\t FlashWeave & 0.06944444 & 0.4807692 & 0.003947368 & 0.5192308 & 0.12135922\\\\\n",
       "\t FlashWeave & 0.06250000 & 0.4385965 & 0.004210526 & 0.5614035 & 0.10940919\\\\\n",
       "\t FlashWeave & 0.06666667 & 0.4615385 & 0.004093567 & 0.5384615 & 0.11650485\\\\\n",
       "\t FlashWeave & 0.05000000 & 0.3289474 & 0.005368421 & 0.6710526 & 0.08680556\\\\\n",
       "\\end{tabular}\n"
      ],
      "text/markdown": [
       "\n",
       "A data.frame: 10 × 6\n",
       "\n",
       "| method &lt;chr&gt; | recall &lt;dbl&gt; | precision &lt;dbl&gt; | fpr &lt;dbl&gt; | fdr &lt;dbl&gt; | F1 &lt;dbl&gt; |\n",
       "|---|---|---|---|---|---|\n",
       "| FlashWeave | 0.28000000 | 0.3684211 | 0.025263158 | 0.6315789 | 0.31818182 |\n",
       "| FlashWeave | 0.23000000 | 0.3898305 | 0.018947368 | 0.6101695 | 0.28930818 |\n",
       "| FlashWeave | 0.14000000 | 0.4375000 | 0.009473684 | 0.5625000 | 0.21212121 |\n",
       "| FlashWeave | 0.13366337 | 0.5869565 | 0.004937630 | 0.4130435 | 0.21774194 |\n",
       "| FlashWeave | 0.07450980 | 0.3166667 | 0.008462332 | 0.6833333 | 0.12063492 |\n",
       "| FlashWeave | 0.11038961 | 0.4657534 | 0.006675796 | 0.5342466 | 0.17847769 |\n",
       "| FlashWeave | 0.06944444 | 0.4807692 | 0.003947368 | 0.5192308 | 0.12135922 |\n",
       "| FlashWeave | 0.06250000 | 0.4385965 | 0.004210526 | 0.5614035 | 0.10940919 |\n",
       "| FlashWeave | 0.06666667 | 0.4615385 | 0.004093567 | 0.5384615 | 0.11650485 |\n",
       "| FlashWeave | 0.05000000 | 0.3289474 | 0.005368421 | 0.6710526 | 0.08680556 |\n",
       "\n"
      ],
      "text/plain": [
       "   method     recall     precision fpr         fdr       F1        \n",
       "1  FlashWeave 0.28000000 0.3684211 0.025263158 0.6315789 0.31818182\n",
       "2  FlashWeave 0.23000000 0.3898305 0.018947368 0.6101695 0.28930818\n",
       "3  FlashWeave 0.14000000 0.4375000 0.009473684 0.5625000 0.21212121\n",
       "4  FlashWeave 0.13366337 0.5869565 0.004937630 0.4130435 0.21774194\n",
       "5  FlashWeave 0.07450980 0.3166667 0.008462332 0.6833333 0.12063492\n",
       "6  FlashWeave 0.11038961 0.4657534 0.006675796 0.5342466 0.17847769\n",
       "7  FlashWeave 0.06944444 0.4807692 0.003947368 0.5192308 0.12135922\n",
       "8  FlashWeave 0.06250000 0.4385965 0.004210526 0.5614035 0.10940919\n",
       "9  FlashWeave 0.06666667 0.4615385 0.004093567 0.5384615 0.11650485\n",
       "10 FlashWeave 0.05000000 0.3289474 0.005368421 0.6710526 0.08680556"
      ]
     },
     "metadata": {},
     "output_type": "display_data"
    }
   ],
   "source": [
    "precision_recall_df"
   ]
  },
  {
   "cell_type": "code",
   "execution_count": 4,
   "id": "97476e54",
   "metadata": {},
   "outputs": [],
   "source": [
    "methods_to_run <- c(\"FlashWeave\")"
   ]
  },
  {
   "cell_type": "code",
   "execution_count": 54,
   "id": "1351f2c5",
   "metadata": {},
   "outputs": [],
   "source": [
    "#Save dataframe of metrics in you computer after each run beginning from method run on simulated data\n",
    "write.table(precision_recall_df, 'result/new_result/output_dataframe_flashweave_radius2_pd_05%.tsv', sep = \"\\t\", col.names=TRUE, row.names=FALSE, quote = FALSE)"
   ]
  },
  {
   "cell_type": "code",
   "execution_count": 12,
   "id": "671ff5af",
   "metadata": {},
   "outputs": [],
   "source": [
    "# load dataframe of metrics for american gut data\n",
    "ancom_american_gut<- read.csv(file = 'result/new_result/output_dataframe_ancom_american_gut.tsv', sep = '\\t')\n",
    "ancombc2_american_gut<- read.csv(file = 'result/new_result/output_dataframe_ancombc2_american_gut.tsv', sep = '\\t')\n",
    "flashweave_radius4_american_gut<- read.csv(file = 'result/new_result/output_dataframe_flashweave_radius4_american_gut.tsv', sep = '\\t')\n",
    "flashweave_radius2_american_gut<- read.csv(file = 'result/new_result/output_dataframe_flashweave_radius2_american_gut.tsv', sep = '\\t')\n",
    "flashweave_radius3_american_gut<- read.csv(file = 'result/new_result/output_dataframe_flashweave_radius3_american_gut.tsv', sep = '\\t')\n"
   ]
  },
  {
   "cell_type": "code",
   "execution_count": 13,
   "id": "f1ddec9f",
   "metadata": {},
   "outputs": [],
   "source": [
    "names(flashweave_radius3_american_gut)=c('method3','recall3','precision3','fpr3','fdr3','F13')\n",
    "names(flashweave_radius4_american_gut)=c('method4','recall4','precision4','fpr4','fdr4','F14')"
   ]
  },
  {
   "cell_type": "code",
   "execution_count": 14,
   "id": "26982994",
   "metadata": {},
   "outputs": [],
   "source": [
    "combine_flashweave_am=cbind(flashweave_radius2_american_gut,flashweave_radius3_american_gut,flashweave_radius4_american_gut)"
   ]
  },
  {
   "cell_type": "code",
   "execution_count": 15,
   "id": "7ebac26e",
   "metadata": {},
   "outputs": [],
   "source": [
    "combine_flashweave_am$method3=NULL\n",
    "combine_flashweave_am$method4=NULL"
   ]
  },
  {
   "cell_type": "code",
   "execution_count": 16,
   "id": "39f4b2ea",
   "metadata": {},
   "outputs": [],
   "source": [
    "#combine_flashweave_am"
   ]
  },
  {
   "cell_type": "code",
   "execution_count": 16,
   "id": "322e6eed",
   "metadata": {},
   "outputs": [],
   "source": [
    "# This only for creating dataframe for output of ancom as same as flashweave \n",
    "#so that we can combine all of them together.\n",
    "tmp_df_am <- data.frame( \"recall3\" = rep(0, length(ancom_american_gut$recall)),\n",
    "                      \"precision3\" = rep(0, length(ancom_american_gut$recall)),\n",
    "                      \"fpr3\" = rep(0, length(ancom_american_gut$recall)),\n",
    "                      \"fdr3\" = rep(0, length(ancom_american_gut$recall)),\n",
    "                      \"F13\" = rep(0, length(ancom_american_gut$recall)),\n",
    "                     \"recall4\" = rep(0, length(ancom_american_gut$recall)),\n",
    "                      \"precision4\" = rep(0, length(ancom_american_gut$recall)),\n",
    "                      \"fpr4\" = rep(0, length(ancom_american_gut$recall)),\n",
    "                      \"fdr4\" = rep(0, length(ancom_american_gut$recall)),\n",
    "                      \"F14\" = rep(0, length(ancom_american_gut$recall)),\n",
    "                         stringsAsFactors = F)"
   ]
  },
  {
   "cell_type": "code",
   "execution_count": 17,
   "id": "0183afe8",
   "metadata": {},
   "outputs": [],
   "source": [
    "tdf_am=cbind(ancom_american_gut,tmp_df_am)"
   ]
  },
  {
   "cell_type": "code",
   "execution_count": 18,
   "id": "c3aa94b1",
   "metadata": {},
   "outputs": [],
   "source": [
    "tdf_ambc2=cbind(ancombc2_american_gut,tmp_df_am)"
   ]
  },
  {
   "cell_type": "code",
   "execution_count": null,
   "id": "438718bf",
   "metadata": {},
   "outputs": [],
   "source": []
  },
  {
   "cell_type": "code",
   "execution_count": 19,
   "id": "ab3ce931",
   "metadata": {},
   "outputs": [],
   "source": [
    "combine_american_gut=rbind(combine_flashweave_am,tdf_am,tdf_ambc2)"
   ]
  },
  {
   "cell_type": "code",
   "execution_count": 20,
   "id": "fe907fec",
   "metadata": {},
   "outputs": [],
   "source": [
    "#rearranging column\n",
    "combine_american_gut <- combine_american_gut[, c(1, 2,7,12, 3,8,13, 4,9,14, 5,10,15,6,11,16)]"
   ]
  },
  {
   "cell_type": "code",
   "execution_count": 22,
   "id": "5ff2b5b2",
   "metadata": {},
   "outputs": [],
   "source": [
    "#combine_american_gut"
   ]
  },
  {
   "cell_type": "code",
   "execution_count": null,
   "id": "862083de",
   "metadata": {},
   "outputs": [],
   "source": []
  },
  {
   "cell_type": "code",
   "execution_count": null,
   "id": "9f0d6463",
   "metadata": {},
   "outputs": [],
   "source": []
  },
  {
   "cell_type": "code",
   "execution_count": 23,
   "id": "10ed933b",
   "metadata": {},
   "outputs": [],
   "source": [
    "ancom_IDB<- read.csv(file = 'result/new_result/output_dataframe_ancom_ibd.tsv', sep = '\\t')\n",
    "ancombc2_IDB<- read.csv(file = 'result/new_result/output_dataframe_ancombc2_ibd.tsv', sep = '\\t')\n",
    "flashweave_radius4_IDB<- read.csv(file = 'result/new_result/output_dataframe_flashweave_radius4_ibd.tsv', sep = '\\t')\n",
    "flashweave_radius2_IDB<- read.csv(file = 'result/new_result/output_dataframe_flashweave_radius2_ibd.tsv', sep = '\\t')\n",
    "flashweave_radius3_IDB<- read.csv(file = 'result/new_result/output_dataframe_flashweave_radius3_ibd.tsv', sep = '\\t')"
   ]
  },
  {
   "cell_type": "code",
   "execution_count": 24,
   "id": "bf807bf8",
   "metadata": {},
   "outputs": [],
   "source": [
    "names(flashweave_radius3_IDB)=c('method3','recall3','precision3','fpr3','fdr3','F13')\n",
    "names(flashweave_radius4_IDB)=c('method4','recall4','precision4','fpr4','fdr4','F14')"
   ]
  },
  {
   "cell_type": "code",
   "execution_count": 25,
   "id": "e7de1ab8",
   "metadata": {},
   "outputs": [],
   "source": [
    "combine_flashweave_ibd=cbind(flashweave_radius2_IDB,flashweave_radius3_IDB,flashweave_radius4_IDB)"
   ]
  },
  {
   "cell_type": "code",
   "execution_count": 26,
   "id": "1bc79e15",
   "metadata": {},
   "outputs": [],
   "source": [
    "combine_flashweave_ibd$method3=NULL\n",
    "combine_flashweave_ibd$method4=NULL"
   ]
  },
  {
   "cell_type": "code",
   "execution_count": 27,
   "id": "5f357c15",
   "metadata": {},
   "outputs": [],
   "source": [
    "tmp_df_ibd <- data.frame( \"recall3\" = rep(0, length(ancom_IDB$recall)),\n",
    "                      \"precision3\" = rep(0, length(ancom_IDB$recall)),\n",
    "                      \"fpr3\" = rep(0, length(ancom_IDB$recall)),\n",
    "                      \"fdr3\" = rep(0, length(ancom_IDB$recall)),\n",
    "                      \"F13\" = rep(0, length(ancom_IDB$recall)),\n",
    "                     \"recall4\" = rep(0, length(ancom_IDB$recall)),\n",
    "                      \"precision4\" = rep(0, length(ancom_IDB$recall)),\n",
    "                      \"fpr4\" = rep(0, length(ancom_IDB$recall)),\n",
    "                      \"fdr4\" = rep(0, length(ancom_IDB$recall)),\n",
    "                      \"F14\" = rep(0, length(ancom_IDB$recall)),\n",
    "                         stringsAsFactors = F)"
   ]
  },
  {
   "cell_type": "code",
   "execution_count": 28,
   "id": "d98f7494",
   "metadata": {},
   "outputs": [],
   "source": [
    "tdf_ibd=cbind(ancom_IDB,tmp_df_ibd)"
   ]
  },
  {
   "cell_type": "code",
   "execution_count": 29,
   "id": "4487e6a6",
   "metadata": {},
   "outputs": [],
   "source": [
    "tdfbc2_ibd=cbind(ancombc2_IDB,tmp_df_ibd)"
   ]
  },
  {
   "cell_type": "code",
   "execution_count": 30,
   "id": "3ffa3f5f",
   "metadata": {},
   "outputs": [],
   "source": [
    "combine_IDB=rbind(combine_flashweave_ibd,tdf_ibd,tdfbc2_ibd)"
   ]
  },
  {
   "cell_type": "code",
   "execution_count": 31,
   "id": "9f4b1e2d",
   "metadata": {},
   "outputs": [],
   "source": [
    "combine_IDB <- combine_IDB[, c(1, 2,7,12, 3,8,13, 4,9,14, 5,10,15,6,11,16)]"
   ]
  },
  {
   "cell_type": "code",
   "execution_count": 33,
   "id": "e7d07561",
   "metadata": {},
   "outputs": [],
   "source": [
    "#combine_IDB"
   ]
  },
  {
   "cell_type": "code",
   "execution_count": null,
   "id": "869495a5",
   "metadata": {},
   "outputs": [],
   "source": []
  },
  {
   "cell_type": "code",
   "execution_count": 34,
   "id": "df985eea",
   "metadata": {},
   "outputs": [],
   "source": [
    "ancom_ecam<- read.csv(file = 'result/new_result/output_dataframe_ancom_ecamf.tsv', sep = '\\t')\n",
    "ancombc2_ecam<- read.csv(file = 'result/new_result/output_dataframe_ancombc2_ecamf.tsv', sep = '\\t')\n",
    "flashweave_radius4_ecam<- read.csv(file = 'result/new_result/output_dataframe_flashweave_radius4_ecamf.tsv', sep = '\\t')\n",
    "flashweave_radius2_ecam<- read.csv(file = 'result/new_result/output_dataframe_flashweave_radius2_ecamf.tsv', sep = '\\t')\n",
    "flashweave_radius3_ecam<- read.csv(file = 'result/new_result/output_dataframe_flashweave_radius3_ecamf.tsv', sep = '\\t')"
   ]
  },
  {
   "cell_type": "code",
   "execution_count": 35,
   "id": "a43bbc34",
   "metadata": {},
   "outputs": [],
   "source": [
    "names(flashweave_radius3_ecam)=c('method3','recall3','precision3','fpr3','fdr3','F13')\n",
    "names(flashweave_radius4_ecam)=c('method4','recall4','precision4','fpr4','fdr4','F14')"
   ]
  },
  {
   "cell_type": "code",
   "execution_count": 36,
   "id": "776eb308",
   "metadata": {},
   "outputs": [],
   "source": [
    "combine_flashweave_ecam=cbind(flashweave_radius2_ecam,flashweave_radius3_ecam,flashweave_radius4_ecam)"
   ]
  },
  {
   "cell_type": "code",
   "execution_count": 37,
   "id": "45a8c432",
   "metadata": {},
   "outputs": [],
   "source": [
    "combine_flashweave_ecam$method3=NULL\n",
    "combine_flashweave_ecam$method4=NULL"
   ]
  },
  {
   "cell_type": "code",
   "execution_count": 38,
   "id": "63975865",
   "metadata": {},
   "outputs": [],
   "source": [
    "tmp_df_ecam <- data.frame( \"recall3\" = rep(0, length(ancom_ecam$recall)),\n",
    "                      \"precision3\" = rep(0, length(ancom_ecam$recall)),\n",
    "                      \"fpr3\" = rep(0, length(ancom_ecam$recall)),\n",
    "                      \"fdr3\" = rep(0, length(ancom_ecam$recall)),\n",
    "                      \"F13\" = rep(0, length(ancom_ecam$recall)),\n",
    "                     \"recall4\" = rep(0, length(ancom_ecam$recall)),\n",
    "                      \"precision4\" = rep(0, length(ancom_ecam$recall)),\n",
    "                      \"fpr4\" = rep(0, length(ancom_ecam$recall)),\n",
    "                      \"fdr4\" = rep(0, length(ancom_ecam$recall)),\n",
    "                      \"F14\" = rep(0, length(ancom_ecam$recall)),\n",
    "                         stringsAsFactors = F)"
   ]
  },
  {
   "cell_type": "code",
   "execution_count": 39,
   "id": "7476967a",
   "metadata": {},
   "outputs": [],
   "source": [
    "tdf_ecam=cbind(ancom_ecam,tmp_df_ecam)"
   ]
  },
  {
   "cell_type": "code",
   "execution_count": 40,
   "id": "97672bfb",
   "metadata": {},
   "outputs": [],
   "source": [
    "tdfbc2_ecam=cbind(ancombc2_ecam,tmp_df_ecam)"
   ]
  },
  {
   "cell_type": "code",
   "execution_count": 41,
   "id": "104d4293",
   "metadata": {},
   "outputs": [],
   "source": [
    "combine_ecam=rbind(combine_flashweave_ecam,tdf_ecam,tdfbc2_ecam)"
   ]
  },
  {
   "cell_type": "code",
   "execution_count": null,
   "id": "075f00ca",
   "metadata": {},
   "outputs": [],
   "source": []
  },
  {
   "cell_type": "code",
   "execution_count": 42,
   "id": "8a971ab3",
   "metadata": {},
   "outputs": [],
   "source": [
    "combine_ecam <- combine_ecam[, c(1, 2,7,12, 3,8,13, 4,9,14, 5,10,15,6,11,16)]"
   ]
  },
  {
   "cell_type": "code",
   "execution_count": 43,
   "id": "3da3bbdd",
   "metadata": {},
   "outputs": [],
   "source": [
    "#combine_ecam "
   ]
  },
  {
   "cell_type": "code",
   "execution_count": 43,
   "id": "43d7844b",
   "metadata": {},
   "outputs": [],
   "source": [
    "ancom_pd<- read.csv(file = 'result/new_result/output_dataframe_ancombc_pdf.tsv', sep = '\\t')\n",
    "ancombc2_pd<- read.csv(file = 'result/new_result/output_dataframe_ancombc2_pd.tsv', sep = '\\t')\n",
    "flashweave_radius2_pd<- read.csv(file = 'result/new_result/output_dataframe_flashweave_radius2_pd.tsv', sep = '\\t')\n",
    "flashweave_radius3_pd<- read.csv(file = 'result/new_result/output_dataframe_flashweave_radius3_pd.tsv', sep = '\\t')\n",
    "flashweave_radius4_pd<- read.csv(file = 'result/new_result/output_dataframe_flashweave_radius4_pd.tsv', sep = '\\t')"
   ]
  },
  {
   "cell_type": "code",
   "execution_count": 44,
   "id": "7c03b327",
   "metadata": {},
   "outputs": [],
   "source": [
    "names(flashweave_radius3_pd)=c('method3','recall3','precision3','fpr3','fdr3','F13')\n",
    "names(flashweave_radius4_pd)=c('method4','recall4','precision4','fpr4','fdr4','F14')"
   ]
  },
  {
   "cell_type": "code",
   "execution_count": 45,
   "id": "ef2fbf8c",
   "metadata": {},
   "outputs": [],
   "source": [
    "combine_flashweave_pd=cbind(flashweave_radius2_pd,flashweave_radius3_pd,flashweave_radius4_pd)"
   ]
  },
  {
   "cell_type": "code",
   "execution_count": 46,
   "id": "b87dfaf1",
   "metadata": {},
   "outputs": [],
   "source": [
    "combine_flashweave_pd$method3=NULL\n",
    "combine_flashweave_pd$method4=NULL"
   ]
  },
  {
   "cell_type": "code",
   "execution_count": 47,
   "id": "e2b5af17",
   "metadata": {},
   "outputs": [],
   "source": [
    "tmp_df_pd <- data.frame( \"recall3\" = rep(0, length(ancom_pd$recall)),\n",
    "                      \"precision3\" = rep(0, length(ancom_pd$recall)),\n",
    "                      \"fpr3\" = rep(0, length(ancom_pd$recall)),\n",
    "                      \"fdr3\" = rep(0, length(ancom_pd$recall)),\n",
    "                      \"F13\" = rep(0, length(ancom_pd$recall)),\n",
    "                     \"recall4\" = rep(0, length(ancom_pd$recall)),\n",
    "                      \"precision4\" = rep(0, length(ancom_pd$recall)),\n",
    "                      \"fpr4\" = rep(0, length(ancom_pd$recall)),\n",
    "                      \"fdr4\" = rep(0, length(ancom_pd$recall)),\n",
    "                      \"F14\" = rep(0, length(ancom_pd$recall)),\n",
    "                         stringsAsFactors = F)"
   ]
  },
  {
   "cell_type": "code",
   "execution_count": 48,
   "id": "00df461f",
   "metadata": {},
   "outputs": [],
   "source": [
    "tdf_pd=cbind(ancom_pd,tmp_df_pd)"
   ]
  },
  {
   "cell_type": "code",
   "execution_count": 49,
   "id": "5405463b",
   "metadata": {},
   "outputs": [],
   "source": [
    "tdfbc2_pd=cbind(ancombc2_pd,tmp_df_pd)"
   ]
  },
  {
   "cell_type": "code",
   "execution_count": null,
   "id": "670fb23a",
   "metadata": {},
   "outputs": [],
   "source": []
  },
  {
   "cell_type": "code",
   "execution_count": 50,
   "id": "77d93a3d",
   "metadata": {},
   "outputs": [],
   "source": [
    "combine_pd=rbind(combine_flashweave_pd,tdf_pd,tdfbc2_pd)"
   ]
  },
  {
   "cell_type": "code",
   "execution_count": 51,
   "id": "c5c244eb",
   "metadata": {},
   "outputs": [],
   "source": [
    "combine_pd <- combine_pd[, c(1, 2,7,12, 3,8,13, 4,9,14, 5,10,15,6,11,16)]"
   ]
  },
  {
   "cell_type": "code",
   "execution_count": 52,
   "id": "bde50653",
   "metadata": {},
   "outputs": [],
   "source": [
    "#combine_pd"
   ]
  },
  {
   "cell_type": "code",
   "execution_count": 53,
   "id": "831aea4a",
   "metadata": {},
   "outputs": [],
   "source": [
    "#pd20%\n",
    "\n",
    "ancom_pd20<- read.csv(file = 'result/new_result/output_dataframe_ancombc_pd_20%.tsv', sep = '\\t')\n",
    "ancombc2_pd20<- read.csv(file = 'result/new_result/output_dataframe_ancombc2_pd_20%.tsv', sep = '\\t')\n",
    "flashweave_radius2_pd20<- read.csv(file = 'result/new_result/output_dataframe_flashweave2_pd_20%.tsv', sep = '\\t')\n",
    "flashweave_radius3_pd20<- read.csv(file = 'result/new_result/output_dataframe_flashweave3_pd_20%.tsv', sep = '\\t')\n",
    "flashweave_radius4_pd20<- read.csv(file = 'result/new_result/output_dataframe_flashweave4_pd_20%.tsv', sep = '\\t')\n",
    "\n"
   ]
  },
  {
   "cell_type": "code",
   "execution_count": 54,
   "id": "d6cb99d4",
   "metadata": {},
   "outputs": [],
   "source": [
    "names(flashweave_radius3_pd20)=c('method3','recall3','precision3','fpr3','fdr3','F13')\n",
    "names(flashweave_radius4_pd20)=c('method4','recall4','precision4','fpr4','fdr4','F14')"
   ]
  },
  {
   "cell_type": "code",
   "execution_count": 55,
   "id": "aedd2fb6",
   "metadata": {},
   "outputs": [],
   "source": [
    "combine_flashweave_pd20=cbind(flashweave_radius2_pd20,flashweave_radius3_pd20,flashweave_radius4_pd20)"
   ]
  },
  {
   "cell_type": "code",
   "execution_count": 56,
   "id": "b046a8f1",
   "metadata": {},
   "outputs": [],
   "source": [
    "combine_flashweave_pd20$method3=NULL\n",
    "combine_flashweave_pd20$method4=NULL"
   ]
  },
  {
   "cell_type": "code",
   "execution_count": 57,
   "id": "749752b4",
   "metadata": {},
   "outputs": [],
   "source": [
    "tmp_df_pd20 <- data.frame( \"recall3\" = rep(0, length(ancom_pd20$recall)),\n",
    "                      \"precision3\" = rep(0, length(ancom_pd20$recall)),\n",
    "                      \"fpr3\" = rep(0, length(ancom_pd20$recall)),\n",
    "                      \"fdr3\" = rep(0, length(ancom_pd20$recall)),\n",
    "                      \"F13\" = rep(0, length(ancom_pd20$recall)),\n",
    "                     \"recall4\" = rep(0, length(ancom_pd20$recall)),\n",
    "                      \"precision4\" = rep(0, length(ancom_pd20$recall)),\n",
    "                      \"fpr4\" = rep(0, length(ancom_pd20$recall)),\n",
    "                      \"fdr4\" = rep(0, length(ancom_pd20$recall)),\n",
    "                      \"F14\" = rep(0, length(ancom_pd20$recall)),\n",
    "                         stringsAsFactors = F)"
   ]
  },
  {
   "cell_type": "code",
   "execution_count": 58,
   "id": "d1adc9b7",
   "metadata": {},
   "outputs": [],
   "source": [
    "tdf_pd20=cbind(ancom_pd20,tmp_df_pd20)"
   ]
  },
  {
   "cell_type": "code",
   "execution_count": 59,
   "id": "f0f7b8dd",
   "metadata": {},
   "outputs": [],
   "source": [
    "tdfbc2_pd20=cbind(ancombc2_pd20,tmp_df_pd20)"
   ]
  },
  {
   "cell_type": "code",
   "execution_count": 60,
   "id": "0f5121e4",
   "metadata": {},
   "outputs": [],
   "source": [
    "combine_pd20=rbind(combine_flashweave_pd20,tdf_pd20,tdfbc2_pd20)"
   ]
  },
  {
   "cell_type": "code",
   "execution_count": 61,
   "id": "f538107c",
   "metadata": {},
   "outputs": [],
   "source": [
    "combine_pd20 <- combine_pd20[, c(1, 2,7,12, 3,8,13, 4,9,14, 5,10,15,6,11,16)]"
   ]
  },
  {
   "cell_type": "code",
   "execution_count": 62,
   "id": "d4fa1466",
   "metadata": {},
   "outputs": [],
   "source": [
    "#combine_pd20"
   ]
  },
  {
   "cell_type": "code",
   "execution_count": 63,
   "id": "e55de6db",
   "metadata": {},
   "outputs": [],
   "source": [
    "#pd05%\n",
    "ancom_pd5<- read.csv(file = 'result/new_result/output_dataframe_ancombc_pd_05%.tsv', sep = '\\t')\n",
    "ancombc2_pd5<- read.csv(file = 'result/new_result/output_dataframe_ancombc2_pd_05%.tsv', sep = '\\t')\n",
    "flashweave_radius2_pd5<- read.csv(file = 'result/new_result/output_dataframe_flashweave_radius2_pd_05%.tsv', sep = '\\t')\n",
    "flashweave_radius3_pd5<- read.csv(file = 'result/new_result/output_dataframe_flashweave_radius3_pd_05%.tsv', sep = '\\t')\n",
    "flashweave_radius4_pd5<- read.csv(file = 'result/new_result/output_dataframe_flashweave_radius4_pd_05%.tsv', sep = '\\t')\n"
   ]
  },
  {
   "cell_type": "code",
   "execution_count": 64,
   "id": "b72f3706",
   "metadata": {},
   "outputs": [],
   "source": [
    "names(flashweave_radius3_pd5)=c('method3','recall3','precision3','fpr3','fdr3','F13')\n",
    "names(flashweave_radius4_pd5)=c('method4','recall4','precision4','fpr4','fdr4','F14')"
   ]
  },
  {
   "cell_type": "code",
   "execution_count": 65,
   "id": "164eaaaa",
   "metadata": {},
   "outputs": [],
   "source": [
    "combine_flashweave_pd5=cbind(flashweave_radius2_pd5,flashweave_radius3_pd5,flashweave_radius4_pd5)"
   ]
  },
  {
   "cell_type": "code",
   "execution_count": 66,
   "id": "f3541dbd",
   "metadata": {},
   "outputs": [],
   "source": [
    "combine_flashweave_pd5$method3=NULL\n",
    "combine_flashweave_pd5$method4=NULL"
   ]
  },
  {
   "cell_type": "code",
   "execution_count": 67,
   "id": "f3c14781",
   "metadata": {},
   "outputs": [],
   "source": [
    "tmp_df_pd5<- data.frame( \"recall3\" = rep(0, length(ancom_pd5$recall)),\n",
    "                      \"precision3\" = rep(0, length(ancom_pd5$recall)),\n",
    "                      \"fpr3\" = rep(0, length(ancom_pd5$recall)),\n",
    "                      \"fdr3\" = rep(0, length(ancom_pd5$recall)),\n",
    "                      \"F13\" = rep(0, length(ancom_pd5$recall)),\n",
    "                     \"recall4\" = rep(0, length(ancom_pd5$recall)),\n",
    "                      \"precision4\" = rep(0, length(ancom_pd5$recall)),\n",
    "                      \"fpr4\" = rep(0, length(ancom_pd5$recall)),\n",
    "                      \"fdr4\" = rep(0, length(ancom_pd5$recall)),\n",
    "                      \"F14\" = rep(0, length(ancom_pd5$recall)),\n",
    "                         stringsAsFactors = F)"
   ]
  },
  {
   "cell_type": "code",
   "execution_count": 68,
   "id": "b26f54c6",
   "metadata": {},
   "outputs": [],
   "source": [
    "tdf_pd5=cbind(ancom_pd5,tmp_df_pd5)"
   ]
  },
  {
   "cell_type": "code",
   "execution_count": 69,
   "id": "39773015",
   "metadata": {},
   "outputs": [],
   "source": [
    "tdfbc2_pd5=cbind(ancombc2_pd5,tmp_df_pd5)"
   ]
  },
  {
   "cell_type": "code",
   "execution_count": 70,
   "id": "5abf3eea",
   "metadata": {},
   "outputs": [],
   "source": [
    "combine_pd5=rbind(combine_flashweave_pd5,tdf_pd5,tdfbc2_pd5)"
   ]
  },
  {
   "cell_type": "code",
   "execution_count": 71,
   "id": "78ba4509",
   "metadata": {},
   "outputs": [],
   "source": [
    "combine_pd5 <- combine_pd5[, c(1, 2,7,12, 3,8,13, 4,9,14, 5,10,15,6,11,16)]"
   ]
  },
  {
   "cell_type": "code",
   "execution_count": 72,
   "id": "3d5b3b90",
   "metadata": {},
   "outputs": [],
   "source": [
    "#combine_pd5"
   ]
  },
  {
   "cell_type": "code",
   "execution_count": 90,
   "id": "6b635f16",
   "metadata": {},
   "outputs": [],
   "source": [
    "#Save dataframe of metrics in you computer after each run beginning from method run on simulated data\n",
    "write.table(combine_pd5, 'result/new_result/output_dataframe_pd_05%.tsv', sep = \"\\t\", col.names=TRUE, row.names=FALSE, quote = FALSE)"
   ]
  },
  {
   "cell_type": "code",
   "execution_count": 73,
   "id": "9d37cb63",
   "metadata": {},
   "outputs": [],
   "source": [
    "ancom_study_12021=read.csv(file = 'result/new_result/output_dataframe_ancom_sifm.tsv', sep = '\\t')\n",
    "ancombc2_study_12021=read.csv(file = 'result/new_result/output_dataframe_ancombc2_sifm.tsv', sep = '\\t')\n",
    "flashweave_radius4_study_12021<- read.csv(file = 'result/new_result/output_dataframe_flashweave_radius4_sifm.tsv', sep = '\\t')\n",
    "flashweave_radius2_study_12021<- read.csv(file = 'result/new_result/output_dataframe_flashweave_radius2_sifm.tsv', sep = '\\t')\n",
    "flashweave_radius3_study_12021<- read.csv(file = 'result/new_result/output_dataframe_flashweave_radius3_sifm.tsv', sep = '\\t')"
   ]
  },
  {
   "cell_type": "code",
   "execution_count": 74,
   "id": "6d46a6f0",
   "metadata": {},
   "outputs": [],
   "source": [
    "names(flashweave_radius3_study_12021)=c('method3','recall3','precision3','fpr3','fdr3','F13')\n",
    "names(flashweave_radius4_study_12021)=c('method4','recall4','precision4','fpr4','fdr4','F14')"
   ]
  },
  {
   "cell_type": "code",
   "execution_count": 75,
   "id": "48ef4117",
   "metadata": {},
   "outputs": [],
   "source": [
    "combine_flashweave_sifm=cbind(flashweave_radius2_study_12021,flashweave_radius3_study_12021,flashweave_radius4_study_12021)"
   ]
  },
  {
   "cell_type": "code",
   "execution_count": 76,
   "id": "ea801e3e",
   "metadata": {},
   "outputs": [],
   "source": [
    "combine_flashweave_sifm$method3=NULL\n",
    "combine_flashweave_sifm$method4=NULL"
   ]
  },
  {
   "cell_type": "code",
   "execution_count": 77,
   "id": "91657c83",
   "metadata": {},
   "outputs": [],
   "source": [
    "tmp_df_sifm <- data.frame( \"recall3\" = rep(0, length(ancom_study_12021$recall)),\n",
    "                      \"precision3\" = rep(0, length(ancom_study_12021$recall)),\n",
    "                      \"fpr3\" = rep(0, length(ancom_study_12021$recall)),\n",
    "                      \"fdr3\" = rep(0, length(ancom_study_12021$recall)),\n",
    "                      \"F13\" = rep(0, length(ancom_study_12021$recall)),\n",
    "                     \"recall4\" = rep(0, length(ancom_study_12021$recall)),\n",
    "                      \"precision4\" = rep(0, length(ancom_study_12021$recall)),\n",
    "                      \"fpr4\" = rep(0, length(ancom_study_12021$recall)),\n",
    "                      \"fdr4\" = rep(0, length(ancom_study_12021$recall)),\n",
    "                      \"F14\" = rep(0, length(ancom_study_12021$recall)),\n",
    "                         stringsAsFactors = F)"
   ]
  },
  {
   "cell_type": "code",
   "execution_count": 78,
   "id": "3fb9fe74",
   "metadata": {},
   "outputs": [],
   "source": [
    "tdf_sifm=cbind(ancom_study_12021,tmp_df_sifm)"
   ]
  },
  {
   "cell_type": "code",
   "execution_count": 79,
   "id": "3fbd7c38",
   "metadata": {},
   "outputs": [],
   "source": [
    "tdfbc2_sifm=cbind(ancombc2_study_12021,tmp_df_sifm)"
   ]
  },
  {
   "cell_type": "code",
   "execution_count": 80,
   "id": "5d46256a",
   "metadata": {},
   "outputs": [],
   "source": [
    "combine_study_12021=rbind(combine_flashweave_sifm,tdf_sifm,tdfbc2_sifm)"
   ]
  },
  {
   "cell_type": "code",
   "execution_count": 81,
   "id": "0dd714a0",
   "metadata": {},
   "outputs": [],
   "source": [
    "combine_study_12021 <- combine_study_12021[, c(1, 2,7,12, 3,8,13, 4,9,14, 5,10,15,6,11,16)]"
   ]
  },
  {
   "cell_type": "code",
   "execution_count": 82,
   "id": "afe09276",
   "metadata": {},
   "outputs": [],
   "source": [
    "#combine_study_12021"
   ]
  },
  {
   "cell_type": "markdown",
   "id": "11e32e96",
   "metadata": {},
   "source": [
    "### Final Plot"
   ]
  },
  {
   "cell_type": "code",
   "execution_count": 128,
   "id": "e37799bb",
   "metadata": {},
   "outputs": [],
   "source": [
    "precision_recall_df=combine_study_12021\n",
    "#precision_recall_df=combine_american_gut\n",
    "#precision_recall_df=combine_IDB\n",
    "#precision_recall_df=combine_ecam\n",
    "#precision_recall_df=combine_pd"
   ]
  },
  {
   "cell_type": "code",
   "execution_count": null,
   "id": "075eb204",
   "metadata": {},
   "outputs": [],
   "source": []
  },
  {
   "cell_type": "code",
   "execution_count": 129,
   "id": "f62ca498",
   "metadata": {},
   "outputs": [
    {
     "data": {
      "text/html": [
       "<strong>png:</strong> 2"
      ],
      "text/latex": [
       "\\textbf{png:} 2"
      ],
      "text/markdown": [
       "**png:** 2"
      ],
      "text/plain": [
       "png \n",
       "  2 "
      ]
     },
     "metadata": {},
     "output_type": "display_data"
    }
   ],
   "source": [
    "#postscript(\"Box_plot_sifmf.eps\")\n",
    "#png(\"Box_plot_sifmf.png\")\n",
    "pdf(\"Box_plot_sifmf.pdf\")\n",
    "library(ggplot2)\n",
    "library(dplyr)\n",
    "library(tidyr)\n",
    "library(forcats) # For releveling factors\n",
    "library(viridis) # For color scales\n",
    "\n",
    "df <- precision_recall_df\n",
    "\n",
    "# Convert the data to a long format for easier plotting with ggplot2\n",
    "df_long <- pivot_longer(df, cols = -c(method), names_to = \"metric\", values_to = \"value\")\n",
    "\n",
    "# Filter the dataframe if necessary, using your custom conditions\n",
    "ibd_long <- df_long %>%\n",
    "  filter(!(method == \"ANCOM-BC2\" & (metric %in% c(\"F13\", \"F14\", \"fdr3\", \"fdr4\", \"fpr3\", \"fpr4\", \"recall3\", \"recall4\", \"precision3\", \"precision4\")))) %>%\n",
    "  filter(!(method == \"ANCOM-BC\" & (metric %in% c(\"F13\", \"F14\", \"fdr3\", \"fdr4\", \"fpr3\", \"fpr4\", \"recall3\", \"recall4\", \"precision3\", \"precision4\"))))\n",
    "\n",
    "# Adding a 'radius' column based on the conditions provided\n",
    "ibd_long <- ibd_long %>%\n",
    "  mutate(radius = ifelse(method == \"FlashWeave\",\n",
    "                         ifelse(grepl(\"3$\", metric), \" radius 3\", \n",
    "                         ifelse(grepl(\"4$\", metric), \" radius 4\", \" radius 2\")),\n",
    "                         \"\"))\n",
    "\n",
    "# Removing trailing 3s or 4s from the metric column\n",
    "ibd_long$metric <- gsub(\"3$\", \"\", gsub(\"4$\", \"\", ibd_long$metric))\n",
    "\n",
    "# Reordering the levels of metric to ensure correct order in the plot\n",
    "ibd_long$metric <- fct_relevel(ibd_long$metric, \"F1\", \"precision\", \"recall\", \"fdr\", \"fpr\")\n",
    "\n",
    "# Now plot the data using ggplot2 with viridis color scale\n",
    "ggplot(ibd_long, aes(x = metric, y = value, fill = interaction(method, radius, sep = \"\"))) +\n",
    "  geom_boxplot() +\n",
    "  scale_fill_viridis_d() +\n",
    "  theme(\n",
    "    axis.title.x = element_text(face = \"bold\", size = 12), \n",
    "    axis.title.y = element_text(face = \"bold\", size = 12), \n",
    "    axis.text.x = element_text(face = \"bold\", size = 12 ,angle = 45, hjust = 1),  \n",
    "    axis.text.y = element_text(face = \"bold\", size = 12),  \n",
    "    plot.title = element_text(face = \"bold\", size = 14)    \n",
    "  )+\n",
    " # theme(axis.text.x = element_text(angle = 45, hjust = 1)) +\n",
    "  labs(x = \"Metric\", y = \"Value\", fill = \"Method & Radius\", title = \"         Performance evaluation on SIFM data.\",)\n",
    "dev.off()"
   ]
  },
  {
   "cell_type": "code",
   "execution_count": 130,
   "id": "3789a0d3",
   "metadata": {},
   "outputs": [],
   "source": [
    "#precision_recall_df=combine_study_12021\n",
    "precision_recall_df=combine_american_gut\n",
    "#precision_recall_df=combine_IDB\n",
    "#precision_recall_df=combine_ecam\n",
    "#precision_recall_df=combine_pd"
   ]
  },
  {
   "cell_type": "code",
   "execution_count": 131,
   "id": "276748f1",
   "metadata": {},
   "outputs": [
    {
     "data": {
      "text/html": [
       "<strong>png:</strong> 2"
      ],
      "text/latex": [
       "\\textbf{png:} 2"
      ],
      "text/markdown": [
       "**png:** 2"
      ],
      "text/plain": [
       "png \n",
       "  2 "
      ]
     },
     "metadata": {},
     "output_type": "display_data"
    }
   ],
   "source": [
    "#postscript(\"Box_plot_american_gutf.eps\")\n",
    "#png(\"Box_plot_american_gutf.png\")\n",
    "pdf(\"Box_plot_american_gutf.pdf\")\n",
    "library(ggplot2)\n",
    "library(dplyr)\n",
    "library(tidyr)\n",
    "library(forcats) # For releveling factors\n",
    "library(viridis) # For color scales\n",
    "\n",
    "df <- precision_recall_df\n",
    "\n",
    "# Convert the data to a long format for easier plotting with ggplot2\n",
    "df_long <- pivot_longer(df, cols = -c(method), names_to = \"metric\", values_to = \"value\")\n",
    "\n",
    "# Filter the dataframe if necessary, using your custom conditions\n",
    "ibd_long <- df_long %>%\n",
    "  filter(!(method == \"ANCOM-BC2\" & (metric %in% c(\"F13\", \"F14\", \"fdr3\", \"fdr4\", \"fpr3\", \"fpr4\", \"recall3\", \"recall4\", \"precision3\", \"precision4\")))) %>%\n",
    "  filter(!(method == \"ANCOM-BC\" & (metric %in% c(\"F13\", \"F14\", \"fdr3\", \"fdr4\", \"fpr3\", \"fpr4\", \"recall3\", \"recall4\", \"precision3\", \"precision4\"))))\n",
    "\n",
    "# Adding a 'radius' column based on the conditions provided\n",
    "ibd_long <- ibd_long %>%\n",
    "  mutate(radius = ifelse(method == \"FlashWeave\",\n",
    "                         ifelse(grepl(\"3$\", metric), \" radius 3\", \n",
    "                         ifelse(grepl(\"4$\", metric), \" radius 4\", \" radius 2\")),\n",
    "                         \"\"))\n",
    "\n",
    "# Removing trailing 3s or 4s from the metric column\n",
    "ibd_long$metric <- gsub(\"3$\", \"\", gsub(\"4$\", \"\", ibd_long$metric))\n",
    "\n",
    "# Reordering the levels of metric to ensure correct order in the plot\n",
    "ibd_long$metric <- fct_relevel(ibd_long$metric, \"F1\", \"precision\", \"recall\", \"fdr\", \"fpr\")\n",
    "\n",
    "# Now plot the data using ggplot2 with viridis color scale\n",
    "ggplot(ibd_long, aes(x = metric, y = value, fill = interaction(method, radius, sep = \"\"))) +\n",
    "  geom_boxplot() +\n",
    "  scale_fill_viridis_d() +\n",
    "  theme(\n",
    "    axis.title.x = element_text(face = \"bold\", size = 12), \n",
    "    axis.title.y = element_text(face = \"bold\", size = 12), \n",
    "    axis.text.x = element_text(face = \"bold\", size = 12 ,angle = 45, hjust = 1),  \n",
    "    axis.text.y = element_text(face = \"bold\", size = 12),  \n",
    "    plot.title = element_text(face = \"bold\", size = 14)    \n",
    "  )+\n",
    " # theme(axis.text.x = element_text(angle = 45, hjust = 1)) +\n",
    "  labs(x = \"Metric\", y = \"Value\", fill = \"Method & Radius\", title = \"  Performance evaluation on American gut data.\",)\n",
    "dev.off()"
   ]
  },
  {
   "cell_type": "code",
   "execution_count": 132,
   "id": "ddab767c",
   "metadata": {},
   "outputs": [],
   "source": [
    "#precision_recall_df=combine_study_12021\n",
    "#precision_recall_df=combine_american_gut\n",
    "precision_recall_df=combine_IDB\n",
    "#precision_recall_df=combine_ecam\n",
    "#precision_recall_df=combine_pd"
   ]
  },
  {
   "cell_type": "code",
   "execution_count": 133,
   "id": "3d8cc56d",
   "metadata": {},
   "outputs": [
    {
     "data": {
      "text/html": [
       "<strong>png:</strong> 2"
      ],
      "text/latex": [
       "\\textbf{png:} 2"
      ],
      "text/markdown": [
       "**png:** 2"
      ],
      "text/plain": [
       "png \n",
       "  2 "
      ]
     },
     "metadata": {},
     "output_type": "display_data"
    }
   ],
   "source": [
    "#postscript(\"Box_plot_ibdf.eps\")\n",
    "#png(\"Box_plot_ibdf.png\")\n",
    "pdf(\"Box_plot_ibdf.pdf\")\n",
    "library(ggplot2)\n",
    "library(dplyr)\n",
    "library(forcats) # For releveling factors\n",
    "library(viridis) # For color scales\n",
    "\n",
    "df <- precision_recall_df\n",
    "\n",
    "# Convert the data to a long format for easier plotting with ggplot2\n",
    "df_long <- pivot_longer(df, cols = -c(method), names_to = \"metric\", values_to = \"value\")\n",
    "\n",
    "# Filter the dataframe if necessary, using your custom conditions\n",
    "ibd_long <- df_long %>%\n",
    "  filter(!(method == \"ANCOM-BC2\" & (metric %in% c(\"F13\", \"F14\", \"fdr3\", \"fdr4\", \"fpr3\", \"fpr4\", \"recall3\", \"recall4\", \"precision3\", \"precision4\")))) %>%\n",
    "  filter(!(method == \"ANCOM-BC\" & (metric %in% c(\"F13\", \"F14\", \"fdr3\", \"fdr4\", \"fpr3\", \"fpr4\", \"recall3\", \"recall4\", \"precision3\", \"precision4\"))))\n",
    "\n",
    "# Adding a 'radius' column based on the conditions provided\n",
    "ibd_long <- ibd_long %>%\n",
    "  mutate(radius = ifelse(method == \"FlashWeave\",\n",
    "                         ifelse(grepl(\"3$\", metric), \" radius 3\", \n",
    "                         ifelse(grepl(\"4$\", metric), \" radius 4\", \" radius 2\")),\n",
    "                         \"\"))\n",
    "\n",
    "# Removing trailing 3s or 4s from the metric column\n",
    "ibd_long$metric <- gsub(\"3$\", \"\", gsub(\"4$\", \"\", ibd_long$metric))\n",
    "\n",
    "# Reordering the levels of metric to ensure correct order in the plot\n",
    "ibd_long$metric <- fct_relevel(ibd_long$metric, \"F1\", \"precision\", \"recall\", \"fdr\", \"fpr\")\n",
    "\n",
    "# Now plot the data using ggplot2 with viridis color scale\n",
    "ggplot(ibd_long, aes(x = metric, y = value, fill = interaction(method, radius, sep = \"\"))) +\n",
    "  geom_boxplot() +\n",
    "  scale_fill_viridis_d() +\n",
    "  theme(\n",
    "    axis.title.x = element_text(face = \"bold\", size = 12), \n",
    "    axis.title.y = element_text(face = \"bold\", size = 12), \n",
    "    axis.text.x = element_text(face = \"bold\", size = 12 ,angle = 45, hjust = 1),  \n",
    "    axis.text.y = element_text(face = \"bold\", size = 12),  \n",
    "    plot.title = element_text(face = \"bold\", size = 14)    \n",
    "  )+\n",
    " # theme(axis.text.x = element_text(angle = 45, hjust = 1)) +\n",
    "  labs(x = \"Metric\", y = \"Value\", fill = \"Method & Radius\", title = \"        Performance evaluation on IBD data.\",)\n",
    "dev.off()"
   ]
  },
  {
   "cell_type": "code",
   "execution_count": 134,
   "id": "011353bb",
   "metadata": {},
   "outputs": [],
   "source": [
    "\n",
    "#precision_recall_df=combine_study_12021\n",
    "#precision_recall_df=combine_american_gut\n",
    "#precision_recall_df=combine_IDB\n",
    "precision_recall_df=combine_ecam\n",
    "#precision_recall_df=combine_pd\n"
   ]
  },
  {
   "cell_type": "code",
   "execution_count": 135,
   "id": "ab146407",
   "metadata": {},
   "outputs": [
    {
     "data": {
      "text/html": [
       "<strong>png:</strong> 2"
      ],
      "text/latex": [
       "\\textbf{png:} 2"
      ],
      "text/markdown": [
       "**png:** 2"
      ],
      "text/plain": [
       "png \n",
       "  2 "
      ]
     },
     "metadata": {},
     "output_type": "display_data"
    }
   ],
   "source": [
    "#postscript(\"Box_plot_ecamf.eps\")\n",
    "png(\"Box_plot_ecamf.png\")\n",
    "pdf(\"Box_plot_ecamf.pdf\")\n",
    "library(ggplot2)\n",
    "library(dplyr)\n",
    "library(forcats) # For releveling factors\n",
    "library(viridis) # For color scales\n",
    "\n",
    "df <- precision_recall_df\n",
    "\n",
    "# Convert the data to a long format for easier plotting with ggplot2\n",
    "df_long <- pivot_longer(df, cols = -c(method), names_to = \"metric\", values_to = \"value\")\n",
    "\n",
    "# Filter the dataframe if necessary, using your custom conditions\n",
    "ibd_long <- df_long %>%\n",
    "  filter(!(method == \"ANCOM-BC2\" & (metric %in% c(\"F13\", \"F14\", \"fdr3\", \"fdr4\", \"fpr3\", \"fpr4\", \"recall3\", \"recall4\", \"precision3\", \"precision4\")))) %>%\n",
    "  filter(!(method == \"ANCOM-BC\" & (metric %in% c(\"F13\", \"F14\", \"fdr3\", \"fdr4\", \"fpr3\", \"fpr4\", \"recall3\", \"recall4\", \"precision3\", \"precision4\"))))\n",
    "\n",
    "# Adding a 'radius' column based on the conditions provided\n",
    "ibd_long <- ibd_long %>%\n",
    "  mutate(radius = ifelse(method == \"FlashWeave\",\n",
    "                         ifelse(grepl(\"3$\", metric), \" radius 3\", \n",
    "                         ifelse(grepl(\"4$\", metric), \" radius 4\", \" radius 2\")),\n",
    "                         \"\"))\n",
    "\n",
    "# Removing trailing 3s or 4s from the metric column\n",
    "ibd_long$metric <- gsub(\"3$\", \"\", gsub(\"4$\", \"\", ibd_long$metric))\n",
    "\n",
    "# Reordering the levels of metric to ensure correct order in the plot\n",
    "ibd_long$metric <- fct_relevel(ibd_long$metric, \"F1\", \"precision\", \"recall\", \"fdr\", \"fpr\")\n",
    "\n",
    "# Now plot the data using ggplot2 with viridis color scale\n",
    "ggplot(ibd_long, aes(x = metric, y = value, fill = interaction(method, radius, sep = \"\"))) +\n",
    "  geom_boxplot() +\n",
    "  scale_fill_viridis_d() +\n",
    "  theme(\n",
    "    axis.title.x = element_text(face = \"bold\", size = 12), \n",
    "    axis.title.y = element_text(face = \"bold\", size = 12), \n",
    "    axis.text.x = element_text(face = \"bold\", size = 12 ,angle = 45, hjust = 1),  \n",
    "    axis.text.y = element_text(face = \"bold\", size = 12),  \n",
    "    plot.title = element_text(face = \"bold\", size = 14)    \n",
    "  )+\n",
    " # theme(axis.text.x = element_text(angle = 45, hjust = 1)) +\n",
    "  labs(x = \"Metric\", y = \"Value\", fill = \"Method & Radius\", title = \"        Performance evaluation on ECAM data.\",)\n",
    "dev.off()"
   ]
  },
  {
   "cell_type": "code",
   "execution_count": 130,
   "id": "164fb412",
   "metadata": {},
   "outputs": [],
   "source": []
  },
  {
   "cell_type": "code",
   "execution_count": 141,
   "id": "d4c10804",
   "metadata": {},
   "outputs": [],
   "source": [
    "combine_pd5<- read.csv(file = 'result/new_result/output_dataframe_pd_05%.tsv', sep = '\\t')"
   ]
  },
  {
   "cell_type": "code",
   "execution_count": 136,
   "id": "c9b57f26",
   "metadata": {},
   "outputs": [],
   "source": [
    "combine_pd20<- read.csv(file = 'result/new_result/output_dataframe_pd_20%.tsv', sep = '\\t')"
   ]
  },
  {
   "cell_type": "code",
   "execution_count": 143,
   "id": "b3c4b33e",
   "metadata": {},
   "outputs": [],
   "source": [
    "#combine_pd5"
   ]
  },
  {
   "cell_type": "code",
   "execution_count": 146,
   "id": "44fd5de7",
   "metadata": {},
   "outputs": [],
   "source": [
    "#precision_recall_df=combine_study_12021\n",
    "#precision_recall_df=combine_american_gut\n",
    "#precision_recall_df=combine_IDB\n",
    "#precision_recall_df=combine_ecam\n",
    "precision_recall_df=combine_pd\n",
    "#precision_recall_df=combine_pd20\n",
    "#precision_recall_df=combine_pd5\n"
   ]
  },
  {
   "cell_type": "code",
   "execution_count": 147,
   "id": "ab89a75d",
   "metadata": {},
   "outputs": [
    {
     "data": {
      "text/html": [
       "<strong>png:</strong> 2"
      ],
      "text/latex": [
       "\\textbf{png:} 2"
      ],
      "text/markdown": [
       "**png:** 2"
      ],
      "text/plain": [
       "png \n",
       "  2 "
      ]
     },
     "metadata": {},
     "output_type": "display_data"
    }
   ],
   "source": [
    "#postscript(\"Box_plot_pdff05.eps\")\n",
    "#png(\"Box_plot_pdff05.png\")\n",
    "pdf(\"Box_plot_pdff.pdf\")\n",
    "library(ggplot2)\n",
    "library(dplyr)\n",
    "\n",
    "library(forcats) # For releveling factors\n",
    "library(viridis) # For color scales\n",
    "\n",
    "df <- precision_recall_df\n",
    "\n",
    "# Convert the data to a long format for easier plotting with ggplot2\n",
    "df_long <- pivot_longer(df, cols = -c(method), names_to = \"metric\", values_to = \"value\")\n",
    "\n",
    "# Filter the dataframe if necessary, using your custom conditions\n",
    "ibd_long <- df_long %>%\n",
    "  filter(!(method == \"ANCOM-BC2\" & (metric %in% c(\"F13\", \"F14\", \"fdr3\", \"fdr4\", \"fpr3\", \"fpr4\", \"recall3\", \"recall4\", \"precision3\", \"precision4\")))) %>%\n",
    "  filter(!(method == \"ANCOM-BC\" & (metric %in% c(\"F13\", \"F14\", \"fdr3\", \"fdr4\", \"fpr3\", \"fpr4\", \"recall3\", \"recall4\", \"precision3\", \"precision4\"))))\n",
    "\n",
    "# Adding a 'radius' column based on the conditions provided\n",
    "ibd_long <- ibd_long %>%\n",
    "  mutate(radius = ifelse(method == \"FlashWeave\",\n",
    "                         ifelse(grepl(\"3$\", metric), \" radius 3\", \n",
    "                         ifelse(grepl(\"4$\", metric), \" radius 4\", \" radius 2\")),\n",
    "                         \"\"))\n",
    "\n",
    "# Removing trailing 3s or 4s from the metric column\n",
    "ibd_long$metric <- gsub(\"3$\", \"\", gsub(\"4$\", \"\", ibd_long$metric))\n",
    "\n",
    "# Reordering the levels of metric to ensure correct order in the plot\n",
    "ibd_long$metric <- fct_relevel(ibd_long$metric, \"F1\", \"precision\", \"recall\", \"fdr\", \"fpr\")\n",
    "\n",
    "# Now plot the data using ggplot2 with viridis color scale\n",
    "ggplot(ibd_long, aes(x = metric, y = value, fill = interaction(method, radius, sep = \"\"))) +\n",
    "  geom_boxplot() +\n",
    "  scale_fill_viridis_d() +\n",
    "  theme(\n",
    "    axis.title.x = element_text(face = \"bold\", size = 12), \n",
    "    axis.title.y = element_text(face = \"bold\", size = 12), \n",
    "    axis.text.x = element_text(face = \"bold\", size = 12 ,angle = 45, hjust = 1),  \n",
    "    axis.text.y = element_text(face = \"bold\", size = 12),  \n",
    "    plot.title = element_text(face = \"bold\", size = 14)    \n",
    "  )+\n",
    " # theme(axis.text.x = element_text(angle = 45, hjust = 1)) +\n",
    "  labs(x = \"Metric\", y = \"Value\", fill = \"Method & Radius\", title = \"Performance evaluation on PD data.\",)\n",
    "dev.off()"
   ]
  },
  {
   "cell_type": "code",
   "execution_count": null,
   "id": "b3efafb5",
   "metadata": {},
   "outputs": [],
   "source": []
  },
  {
   "cell_type": "markdown",
   "id": "f72ad89c",
   "metadata": {},
   "source": [
    "### t-test"
   ]
  },
  {
   "cell_type": "code",
   "execution_count": 100,
   "id": "50f1b64e",
   "metadata": {},
   "outputs": [],
   "source": [
    "df=combine_study_12021"
   ]
  },
  {
   "cell_type": "code",
   "execution_count": 67,
   "id": "35fa4524",
   "metadata": {},
   "outputs": [],
   "source": [
    "#df"
   ]
  },
  {
   "cell_type": "code",
   "execution_count": 65,
   "id": "3fa2f40f",
   "metadata": {},
   "outputs": [],
   "source": [
    "precision_recall_df=combine_study_12021\n",
    "#precision_recall_df=combine_american_gut\n",
    "#precision_recall_df=combine_IBD\n",
    "#precision_recall_df=combine_ecam\n",
    "#precision_recall_df=combine_pd"
   ]
  },
  {
   "cell_type": "code",
   "execution_count": null,
   "id": "9b1b2a10",
   "metadata": {},
   "outputs": [],
   "source": []
  },
  {
   "cell_type": "code",
   "execution_count": 70,
   "id": "78d1201e",
   "metadata": {},
   "outputs": [
    {
     "name": "stdout",
     "output_type": "stream",
     "text": [
      "      Dataset    Method1   Method2    Metric    T_Value      P_Value\n",
      "         SIFM FlashWeave  ANCOM-BC    recall  5.2327192 7.902559e-04\n",
      "         SIFM FlashWeave ANCOM-BC2    recall  7.3101858 8.306604e-05\n",
      "         SIFM   ANCOM-BC ANCOM-BC2    recall  8.7938298 2.196621e-05\n",
      "         SIFM FlashWeave  ANCOM-BC precision -0.2385690 8.174373e-01\n",
      "         SIFM FlashWeave ANCOM-BC2 precision -0.6237351 5.501681e-01\n",
      "         SIFM   ANCOM-BC ANCOM-BC2 precision -0.6834899 5.136025e-01\n",
      "         SIFM FlashWeave  ANCOM-BC       fpr  3.1658837 1.327672e-02\n",
      "         SIFM FlashWeave ANCOM-BC2       fpr  4.7471263 1.450598e-03\n",
      "         SIFM   ANCOM-BC ANCOM-BC2       fpr  8.1945856 3.671633e-05\n",
      "         SIFM FlashWeave  ANCOM-BC       fdr  0.2385690 8.174373e-01\n",
      "         SIFM FlashWeave ANCOM-BC2       fdr  0.6237351 5.501681e-01\n",
      "         SIFM   ANCOM-BC ANCOM-BC2       fdr  0.6834899 5.136025e-01\n",
      "         SIFM FlashWeave  ANCOM-BC        F1  6.5509469 1.782974e-04\n",
      "         SIFM FlashWeave ANCOM-BC2        F1 10.2893878 6.857132e-06\n",
      "         SIFM   ANCOM-BC ANCOM-BC2        F1  8.8639417 2.072429e-05\n",
      " American_gut FlashWeave  ANCOM-BC    recall  4.8087220 2.299215e-04\n",
      " American_gut FlashWeave ANCOM-BC2    recall  4.7125401 2.777684e-04\n",
      " American_gut   ANCOM-BC ANCOM-BC2    recall  4.2063587 7.630414e-04\n",
      " American_gut FlashWeave  ANCOM-BC precision  0.8222066 4.238370e-01\n",
      " American_gut FlashWeave ANCOM-BC2 precision -0.3281393 7.473421e-01\n",
      " American_gut   ANCOM-BC ANCOM-BC2 precision -1.4981783 1.548346e-01\n",
      " American_gut FlashWeave  ANCOM-BC       fpr  3.2047158 5.906542e-03\n",
      " American_gut FlashWeave ANCOM-BC2       fpr  3.3293034 4.575519e-03\n",
      " American_gut   ANCOM-BC ANCOM-BC2       fpr  3.7704650 1.851767e-03\n",
      " American_gut FlashWeave  ANCOM-BC       fdr -0.8222066 4.238370e-01\n",
      " American_gut FlashWeave ANCOM-BC2       fdr  0.3281393 7.473421e-01\n",
      " American_gut   ANCOM-BC ANCOM-BC2       fdr  1.4981783 1.548346e-01\n",
      " American_gut FlashWeave  ANCOM-BC        F1 10.0083920 4.942047e-08\n",
      " American_gut FlashWeave ANCOM-BC2        F1  9.5410796 9.237628e-08\n",
      " American_gut   ANCOM-BC ANCOM-BC2        F1  6.1965896 1.710075e-05\n",
      "          IBD FlashWeave  ANCOM-BC    recall 15.8908632 2.461854e-07\n",
      "          IBD FlashWeave ANCOM-BC2    recall 14.5397029 4.905493e-07\n",
      "          IBD   ANCOM-BC ANCOM-BC2    recall  7.9799238 4.446508e-05\n",
      "          IBD FlashWeave  ANCOM-BC precision  0.3339000 7.470392e-01\n",
      "          IBD FlashWeave ANCOM-BC2 precision -1.7783707 1.132316e-01\n",
      "          IBD   ANCOM-BC ANCOM-BC2 precision -2.2858938 5.159449e-02\n",
      "          IBD FlashWeave  ANCOM-BC       fpr 10.9084076 4.419181e-06\n",
      "          IBD FlashWeave ANCOM-BC2       fpr 11.4251915 3.113627e-06\n",
      "          IBD   ANCOM-BC ANCOM-BC2       fpr  9.4655726 1.277121e-05\n",
      "          IBD FlashWeave  ANCOM-BC       fdr -0.3339000 7.470392e-01\n",
      "          IBD FlashWeave ANCOM-BC2       fdr  1.7783707 1.132316e-01\n",
      "          IBD   ANCOM-BC ANCOM-BC2       fdr  2.2858938 5.159449e-02\n",
      "          IBD FlashWeave  ANCOM-BC        F1 41.8156664 1.178606e-10\n",
      "          IBD FlashWeave ANCOM-BC2        F1 25.1550230 6.676913e-09\n",
      "          IBD   ANCOM-BC ANCOM-BC2        F1  8.1861888 3.698954e-05\n",
      "         ECAM FlashWeave  ANCOM-BC    recall  5.3544686 1.723519e-04\n",
      "         ECAM FlashWeave ANCOM-BC2    recall  4.9725849 3.238580e-04\n",
      "         ECAM   ANCOM-BC ANCOM-BC2    recall  3.6707667 3.202470e-03\n",
      "         ECAM FlashWeave  ANCOM-BC precision  6.2882822 4.017405e-05\n",
      "         ECAM FlashWeave ANCOM-BC2 precision  2.3084424 3.958774e-02\n",
      "         ECAM   ANCOM-BC ANCOM-BC2 precision -1.1419126 2.757646e-01\n",
      "         ECAM FlashWeave  ANCOM-BC       fpr  5.3830690 1.645344e-04\n",
      "         ECAM FlashWeave ANCOM-BC2       fpr  5.8105105 8.335371e-05\n",
      "         ECAM   ANCOM-BC ANCOM-BC2       fpr  6.1982060 4.598958e-05\n",
      "         ECAM FlashWeave  ANCOM-BC       fdr -6.2882822 4.017405e-05\n",
      "         ECAM FlashWeave ANCOM-BC2       fdr -2.3084424 3.958774e-02\n",
      "         ECAM   ANCOM-BC ANCOM-BC2       fdr  1.1419126 2.757646e-01\n",
      "         ECAM FlashWeave  ANCOM-BC        F1  7.6235746 6.136682e-06\n",
      "         ECAM FlashWeave ANCOM-BC2        F1  6.6607943 2.323820e-05\n",
      "         ECAM   ANCOM-BC ANCOM-BC2        F1  4.1693023 1.301055e-03\n",
      "           PD FlashWeave  ANCOM-BC    recall  3.3507684 8.513138e-03\n",
      "           PD FlashWeave ANCOM-BC2    recall  3.6271256 5.510235e-03\n",
      "           PD   ANCOM-BC ANCOM-BC2    recall  4.1579797 2.455075e-03\n",
      "           PD FlashWeave  ANCOM-BC precision  1.4858201 1.714909e-01\n",
      "           PD FlashWeave ANCOM-BC2 precision -1.6710727 1.290427e-01\n",
      "           PD   ANCOM-BC ANCOM-BC2 precision -3.8545989 3.878948e-03\n",
      "           PD FlashWeave  ANCOM-BC       fpr  2.7254502 2.339813e-02\n",
      "           PD FlashWeave ANCOM-BC2       fpr  3.1781352 1.121834e-02\n",
      "           PD   ANCOM-BC ANCOM-BC2       fpr  3.8361571 3.989928e-03\n",
      "           PD FlashWeave  ANCOM-BC       fdr -1.4858201 1.714909e-01\n",
      "           PD FlashWeave ANCOM-BC2       fdr  1.6710727 1.290427e-01\n",
      "           PD   ANCOM-BC ANCOM-BC2       fdr  3.8545989 3.878948e-03\n",
      "           PD FlashWeave  ANCOM-BC        F1  5.9399017 2.180398e-04\n",
      "           PD FlashWeave ANCOM-BC2        F1  6.1913447 1.605259e-04\n",
      "           PD   ANCOM-BC ANCOM-BC2        F1  4.8813324 8.697787e-04\n"
     ]
    }
   ],
   "source": [
    "# List of datasets and their names\n",
    "datasets <- list(combine_study_12021, combine_american_gut, combine_IDB, combine_ecam, combine_pd)\n",
    "dataset_names <- c(\"SIFM\", \"American_gut\", \"IBD\", \"ECAM\", \"PD\")\n",
    "\n",
    "# List of metrics\n",
    "metrics <- c(\"recall\", \"precision\", \"fpr\", \"fdr\", \"F1\")\n",
    "\n",
    "# Initialize an empty data frame to store the results\n",
    "results <- data.frame(Dataset = character(),\n",
    "                      Method1 = character(),\n",
    "                      Method2 = character(),\n",
    "                      Metric = character(),\n",
    "                      T_Value = numeric(),\n",
    "                      P_Value = numeric(),\n",
    "                      stringsAsFactors = FALSE)\n",
    "\n",
    "# Perform t-tests for each dataset and metric\n",
    "for (d in seq_along(datasets)) {\n",
    "    dataset <- datasets[[d]]\n",
    "    dataset_name <- dataset_names[d]\n",
    "  \n",
    "  for (metric in metrics) {\n",
    "  \n",
    "    # Perform t-test for each pair of methods\n",
    "    unique_methods <- unique(dataset$method)\n",
    "    for (i in 1:(length(unique_methods) - 1)) {\n",
    "      for (j in (i + 1):length(unique_methods)) {\n",
    "        method1 <- unique_methods[i]\n",
    "        method2 <- unique_methods[j]\n",
    "        values1 <- dataset[dataset$method == method1, metric]\n",
    "        values2 <- dataset[dataset$method == method2, metric]\n",
    "          differences=values1-values2\n",
    "\n",
    "        # Perform t-test\n",
    "        t_test <- t.test(values1, values2, paired=TRUE)\n",
    "\n",
    "        # Store results in the data frame\n",
    "        results <- rbind(results, data.frame(Dataset = dataset_name,\n",
    "                                             Method1 = method1,\n",
    "                                             Method2 = method2,\n",
    "                                             Metric = metric,\n",
    "                                             T_Value = t_test$statistic,\n",
    "                                             P_Value = t_test$p.value))\n",
    "      }\n",
    "    }\n",
    "  }\n",
    "}\n",
    "\n",
    "# Display the results\n",
    "print(results,row.names = FALSE)\n",
    "\n"
   ]
  },
  {
   "cell_type": "code",
   "execution_count": null,
   "id": "4fac7e52",
   "metadata": {},
   "outputs": [],
   "source": [
    "#radius 4\n",
    "Dataset    Method1   Method2     Metric   T_Value      P_Value\n",
    "         SIFM FlashWeave  ANCOM-BC    recall4  8.428236 2.994505e-05\n",
    "         SIFM FlashWeave ANCOM-BC2    recall4  8.428236 2.994505e-05\n",
    "         SIFM   ANCOM-BC ANCOM-BC2    recall4       NaN          NaN\n",
    "         SIFM FlashWeave  ANCOM-BC precision4 42.724636 9.930103e-11\n",
    "         SIFM FlashWeave ANCOM-BC2 precision4 42.724636 9.930103e-11\n",
    "         SIFM   ANCOM-BC ANCOM-BC2 precision4       NaN          NaN\n",
    "         SIFM FlashWeave  ANCOM-BC       fpr4  7.474730 7.095731e-05\n",
    "         SIFM FlashWeave ANCOM-BC2       fpr4  7.474730 7.095731e-05\n",
    "         SIFM   ANCOM-BC ANCOM-BC2       fpr4       NaN          NaN\n",
    "         SIFM FlashWeave  ANCOM-BC       fdr4 54.952347 1.334110e-11\n",
    "         SIFM FlashWeave ANCOM-BC2       fdr4 54.952347 1.334110e-11\n",
    "         SIFM   ANCOM-BC ANCOM-BC2       fdr4       NaN          NaN\n",
    "         SIFM FlashWeave  ANCOM-BC        F14 14.064458 6.342019e-07\n",
    "         SIFM FlashWeave ANCOM-BC2        F14 14.064458 6.342019e-07\n",
    "         SIFM   ANCOM-BC ANCOM-BC2        F14       NaN          NaN\n",
    " American_gut FlashWeave  ANCOM-BC    recall4  4.929370 1.816513e-04\n",
    " American_gut FlashWeave ANCOM-BC2    recall4  4.929370 1.816513e-04\n",
    " American_gut   ANCOM-BC ANCOM-BC2    recall4       NaN          NaN\n",
    " American_gut FlashWeave  ANCOM-BC precision4 43.200561 3.719321e-17\n",
    " American_gut FlashWeave ANCOM-BC2 precision4 43.200561 3.719321e-17\n",
    " American_gut   ANCOM-BC ANCOM-BC2 precision4       NaN          NaN\n",
    " American_gut FlashWeave  ANCOM-BC       fpr4  3.519138 3.099400e-03\n",
    " American_gut FlashWeave ANCOM-BC2       fpr4  3.519138 3.099400e-03\n",
    " American_gut   ANCOM-BC ANCOM-BC2       fpr4       NaN          NaN\n",
    " American_gut FlashWeave  ANCOM-BC       fdr4 61.848565 1.759558e-19\n",
    " American_gut FlashWeave ANCOM-BC2       fdr4 61.848565 1.759558e-19\n",
    " American_gut   ANCOM-BC ANCOM-BC2       fdr4       NaN          NaN\n",
    " American_gut FlashWeave  ANCOM-BC        F14  8.829318 2.504089e-07\n",
    " American_gut FlashWeave ANCOM-BC2        F14  8.829318 2.504089e-07\n",
    " American_gut   ANCOM-BC ANCOM-BC2        F14       NaN          NaN\n",
    "          IBD FlashWeave  ANCOM-BC    recall4 13.409186 9.160412e-07\n",
    "          IBD FlashWeave ANCOM-BC2    recall4 13.409186 9.160412e-07\n",
    "          IBD   ANCOM-BC ANCOM-BC2    recall4       NaN          NaN\n",
    "          IBD FlashWeave  ANCOM-BC precision4 54.056661 1.521072e-11\n",
    "          IBD FlashWeave ANCOM-BC2 precision4 54.056661 1.521072e-11\n",
    "          IBD   ANCOM-BC ANCOM-BC2 precision4       NaN          NaN\n",
    "          IBD FlashWeave  ANCOM-BC       fpr4 10.861090 4.566512e-06\n",
    "          IBD FlashWeave ANCOM-BC2       fpr4 10.861090 4.566512e-06\n",
    "          IBD   ANCOM-BC ANCOM-BC2       fpr4       NaN          NaN\n",
    "          IBD FlashWeave  ANCOM-BC       fdr4 74.924188 1.122058e-12\n",
    "          IBD FlashWeave ANCOM-BC2       fdr4 74.924188 1.122058e-12\n",
    "          IBD   ANCOM-BC ANCOM-BC2       fdr4       NaN          NaN\n",
    "          IBD FlashWeave  ANCOM-BC        F14 24.180268 9.125983e-09\n",
    "          IBD FlashWeave ANCOM-BC2        F14 24.180268 9.125983e-09\n",
    "          IBD   ANCOM-BC ANCOM-BC2        F14       NaN          NaN\n",
    "         ECAM FlashWeave  ANCOM-BC    recall4  4.469183 7.667519e-04\n",
    "         ECAM FlashWeave ANCOM-BC2    recall4  4.469183 7.667519e-04\n",
    "         ECAM   ANCOM-BC ANCOM-BC2    recall4       NaN          NaN\n",
    "         ECAM FlashWeave  ANCOM-BC precision4 40.046776 3.797962e-14\n",
    "         ECAM FlashWeave ANCOM-BC2 precision4 40.046776 3.797962e-14\n",
    "         ECAM   ANCOM-BC ANCOM-BC2 precision4       NaN          NaN\n",
    "         ECAM FlashWeave  ANCOM-BC       fpr4  3.367379 5.597275e-03\n",
    "         ECAM FlashWeave ANCOM-BC2       fpr4  3.367379 5.597275e-03\n",
    "         ECAM   ANCOM-BC ANCOM-BC2       fpr4       NaN          NaN\n",
    "         ECAM FlashWeave  ANCOM-BC       fdr4 57.695033 4.853233e-16\n",
    "         ECAM FlashWeave ANCOM-BC2       fdr4 57.695033 4.853233e-16\n",
    "         ECAM   ANCOM-BC ANCOM-BC2       fdr4       NaN          NaN\n",
    "         ECAM FlashWeave  ANCOM-BC        F14  8.706895 1.564036e-06\n",
    "         ECAM FlashWeave ANCOM-BC2        F14  8.706895 1.564036e-06\n",
    "         ECAM   ANCOM-BC ANCOM-BC2        F14       NaN          NaN\n",
    "           PD FlashWeave  ANCOM-BC    recall4  3.678008 5.091180e-03\n",
    "           PD FlashWeave ANCOM-BC2    recall4  3.678008 5.091180e-03\n",
    "           PD   ANCOM-BC ANCOM-BC2    recall4       NaN          NaN\n",
    "           PD FlashWeave  ANCOM-BC precision4 35.505171 5.515776e-11\n",
    "           PD FlashWeave ANCOM-BC2 precision4 35.505171 5.515776e-11\n",
    "           PD   ANCOM-BC ANCOM-BC2 precision4       NaN          NaN\n",
    "           PD FlashWeave  ANCOM-BC       fpr4  2.975836 1.555436e-02\n",
    "           PD FlashWeave ANCOM-BC2       fpr4  2.975836 1.555436e-02\n",
    "           PD   ANCOM-BC ANCOM-BC2       fpr4       NaN          NaN\n",
    "           PD FlashWeave  ANCOM-BC       fdr4 49.471892 2.825678e-12\n",
    "           PD FlashWeave ANCOM-BC2       fdr4 49.471892 2.825678e-12\n",
    "           PD   ANCOM-BC ANCOM-BC2       fdr4       NaN          NaN\n",
    "           PD FlashWeave  ANCOM-BC        F14  6.487029 1.131458e-04\n",
    "           PD FlashWeave ANCOM-BC2        F14  6.487029 1.131458e-04\n",
    "           PD   ANCOM-BC ANCOM-BC2        F14       NaN          NaN"
   ]
  },
  {
   "cell_type": "code",
   "execution_count": null,
   "id": "673a1d7e",
   "metadata": {},
   "outputs": [],
   "source": []
  },
  {
   "cell_type": "code",
   "execution_count": null,
   "id": "be6da443",
   "metadata": {},
   "outputs": [],
   "source": []
  }
 ],
 "metadata": {
  "kernelspec": {
   "display_name": "R",
   "language": "R",
   "name": "ir"
  },
  "language_info": {
   "codemirror_mode": "r",
   "file_extension": ".r",
   "mimetype": "text/x-r-source",
   "name": "R",
   "pygments_lexer": "r",
   "version": "4.2.2"
  }
 },
 "nbformat": 4,
 "nbformat_minor": 5
}
